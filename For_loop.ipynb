{
 "cells": [
  {
   "cell_type": "markdown",
   "id": "386bc196-d1de-4722-b6e1-d67b23ddfe61",
   "metadata": {},
   "source": [
    "Basic level:"
   ]
  },
  {
   "cell_type": "markdown",
   "id": "f259f965-205e-4f41-b3f1-16289d8b5b7f",
   "metadata": {},
   "source": [
    "1. Write a Python program to print the numbers from 1 to 10 using a `for` loop."
   ]
  },
  {
   "cell_type": "code",
   "execution_count": 1,
   "id": "ce6152c4-1d54-4479-888f-bd1b61191940",
   "metadata": {},
   "outputs": [
    {
     "name": "stdout",
     "output_type": "stream",
     "text": [
      "1  \n",
      "2  \n",
      "3  \n",
      "4  \n",
      "5  \n",
      "6  \n",
      "7  \n",
      "8  \n",
      "9  \n",
      "10  \n"
     ]
    }
   ],
   "source": [
    "for i in range(1,11):\n",
    "    print(i,\" \")"
   ]
  },
  {
   "cell_type": "markdown",
   "id": "04143d5e-6d08-456e-9227-b4094730874b",
   "metadata": {},
   "source": [
    "2. Create a program that calculates the sum of all numbers in a list using a `for` loop."
   ]
  },
  {
   "cell_type": "code",
   "execution_count": 2,
   "id": "a13890ec-ed0a-4fdd-82d3-ed97b110959d",
   "metadata": {},
   "outputs": [
    {
     "name": "stdout",
     "output_type": "stream",
     "text": [
      "15\n"
     ]
    }
   ],
   "source": [
    "my_list=[1,2,3,4,5]\n",
    "list_sum=0\n",
    "\n",
    "for num in my_list:\n",
    "    list_sum+=num\n",
    "    \n",
    "print(list_sum)"
   ]
  },
  {
   "cell_type": "markdown",
   "id": "ec1f8b3d-41c6-4898-a62a-fac831b4f593",
   "metadata": {},
   "source": [
    "3. Write a program to print the characters of a string in reverse order using a `for` loop."
   ]
  },
  {
   "cell_type": "code",
   "execution_count": 9,
   "id": "1c42d668-bba4-418b-af88-27ed1d7823c2",
   "metadata": {},
   "outputs": [
    {
     "name": "stdout",
     "output_type": "stream",
     "text": [
      "em esrever\n"
     ]
    }
   ],
   "source": [
    "my_string=\"reverse me\"\n",
    "reversed_my_string=\"\"\n",
    "\n",
    "for char in reversed(my_string):\n",
    "    reversed_my_string+=char\n",
    "print(reversed_my_string)"
   ]
  },
  {
   "cell_type": "markdown",
   "id": "e548290d-42a7-4745-90e5-ca3bf0d2ad52",
   "metadata": {},
   "source": [
    "4. Develop a program that finds the factorial of a given number using a `for` loop."
   ]
  },
  {
   "cell_type": "code",
   "execution_count": 14,
   "id": "6f8a7b6e-420d-4e31-a665-7527d84dc86a",
   "metadata": {},
   "outputs": [
    {
     "name": "stdout",
     "output_type": "stream",
     "text": [
      "720\n"
     ]
    }
   ],
   "source": [
    "def fact(n):\n",
    "    ans=1\n",
    "    for i in range(1,n+1):\n",
    "        ans*=i\n",
    "    return ans\n",
    "\n",
    "ans=fact(6)\n",
    "print(ans)"
   ]
  },
  {
   "cell_type": "markdown",
   "id": "0b02122c-882e-4f58-a5fd-5eaea51c55be",
   "metadata": {},
   "source": [
    "5. Create a program to print the multiplication table of a given number using a `for` loop."
   ]
  },
  {
   "cell_type": "code",
   "execution_count": 18,
   "id": "f4f884f2-a7fa-412e-9fda-d6917a7ba79a",
   "metadata": {},
   "outputs": [
    {
     "name": "stdout",
     "output_type": "stream",
     "text": [
      "5 X 1 = 5\n",
      "5 X 2 = 10\n",
      "5 X 3 = 15\n",
      "5 X 4 = 20\n",
      "5 X 5 = 25\n",
      "5 X 6 = 30\n",
      "5 X 7 = 35\n",
      "5 X 8 = 40\n",
      "5 X 9 = 45\n",
      "5 X 10 = 50\n"
     ]
    }
   ],
   "source": [
    "def mult_table(n):\n",
    "    for i in range(1,11):\n",
    "        print(f\"{n} X {i} = {n*i}\")\n",
    "        \n",
    "mult_table(5)"
   ]
  },
  {
   "cell_type": "markdown",
   "id": "602f1939-62bd-43e0-a085-11a640368f13",
   "metadata": {},
   "source": [
    "6. Write a program that counts the number of even and odd numbers in a list using a `for` loop."
   ]
  },
  {
   "cell_type": "code",
   "execution_count": 22,
   "id": "6780be3c-94c1-4f94-a45a-ae7c66ae15e5",
   "metadata": {},
   "outputs": [
    {
     "name": "stdout",
     "output_type": "stream",
     "text": [
      "Even count is 4\n",
      "Odd count is 5\n"
     ]
    }
   ],
   "source": [
    "my_list=[1,2,3,4,5,6,7,8,9]\n",
    "\n",
    "even_count=0\n",
    "odd_count=0\n",
    "\n",
    "for num in my_list:\n",
    "    if num%2==0:\n",
    "        even_count+=1\n",
    "    else: odd_count+=1\n",
    "    \n",
    "print(\"Even count is\",even_count)\n",
    "print(\"Odd count is\",odd_count)"
   ]
  },
  {
   "cell_type": "markdown",
   "id": "bf7125e8-b3d7-4def-9fdb-b0208d1c9209",
   "metadata": {},
   "source": [
    "7. Develop a program that prints the squares of numbers from 1 to 5 using a `for` loop."
   ]
  },
  {
   "cell_type": "code",
   "execution_count": 23,
   "id": "363d429a-54db-46aa-b4e8-f4413ec5d2a8",
   "metadata": {},
   "outputs": [
    {
     "name": "stdout",
     "output_type": "stream",
     "text": [
      "1\n",
      "4\n",
      "9\n",
      "16\n",
      "25\n"
     ]
    }
   ],
   "source": [
    "for i in range(1,6):\n",
    "    print(i**2)"
   ]
  },
  {
   "cell_type": "markdown",
   "id": "b173ec6a-097c-42a0-b0cb-db62ad049e68",
   "metadata": {},
   "source": [
    "8. Create a program to find the length of a string without using the `len()` function."
   ]
  },
  {
   "cell_type": "code",
   "execution_count": 25,
   "id": "695f0efe-b253-4956-a3cf-2f99889a9b9b",
   "metadata": {},
   "outputs": [
    {
     "name": "stdout",
     "output_type": "stream",
     "text": [
      "14\n"
     ]
    }
   ],
   "source": [
    "string8=\"find_my_length\"\n",
    "length8=0\n",
    "for char in string8:\n",
    "    length8+=1\n",
    "print(length8)"
   ]
  },
  {
   "cell_type": "markdown",
   "id": "2434721e-fa85-48e6-a5f3-dc3482b12408",
   "metadata": {},
   "source": [
    "9. Write a program that calculates the average of a list of numbers using a `for` loop."
   ]
  },
  {
   "cell_type": "code",
   "execution_count": 28,
   "id": "1db69593-b37f-4412-b8c1-d67bf0b51624",
   "metadata": {},
   "outputs": [
    {
     "name": "stdout",
     "output_type": "stream",
     "text": [
      "30\n"
     ]
    }
   ],
   "source": [
    "list9=[10,20,30,40,50]\n",
    "list_sum=0\n",
    "count=0\n",
    "avg=0\n",
    "for num in list9:\n",
    "    list_sum+=num\n",
    "    count+=1\n",
    "avg=list_sum//count\n",
    "print(avg)"
   ]
  },
  {
   "cell_type": "markdown",
   "id": "dd94ef4d-f796-434f-b916-8c38e3af0a09",
   "metadata": {},
   "source": [
    "10. Develop a program that prints the first `n` Fibonacci numbers using a `for` loop."
   ]
  },
  {
   "cell_type": "code",
   "execution_count": 31,
   "id": "2fd6a2ad-bdab-4e0c-a435-d3812574d91f",
   "metadata": {},
   "outputs": [
    {
     "name": "stdout",
     "output_type": "stream",
     "text": [
      "[0, 1, 1, 2, 3, 5]\n"
     ]
    }
   ],
   "source": [
    "fib_list=[]\n",
    "n=6\n",
    "for i in range(n):\n",
    "    if i==0 or i==1:\n",
    "        fib_list.append(i)\n",
    "    else:\n",
    "        fib_list.append(fib_list[i-1]+fib_list[i-2])\n",
    "        \n",
    "print(fib_list)"
   ]
  },
  {
   "cell_type": "markdown",
   "id": "d703203c-341e-47f7-8dc7-ac8bb7bb3981",
   "metadata": {},
   "source": [
    "Intermediate Level:"
   ]
  },
  {
   "cell_type": "markdown",
   "id": "fe752791-1424-407e-a520-8f8d23573fc4",
   "metadata": {},
   "source": [
    "11. Write a program to check if a given list contains any duplicates using a `for` loop."
   ]
  },
  {
   "cell_type": "code",
   "execution_count": 1,
   "id": "bc5d4682-9eb3-4580-9374-5a3c5c31f330",
   "metadata": {},
   "outputs": [
    {
     "name": "stdout",
     "output_type": "stream",
     "text": [
      "False\n"
     ]
    }
   ],
   "source": [
    "def has_duplicates(l):\n",
    "    seen=set()\n",
    "    for element in l:\n",
    "        if element in seen:\n",
    "            return True\n",
    "        seen.add(element)\n",
    "    return False\n",
    "\n",
    "list11=[1,2,3,4,5]\n",
    "result=has_duplicates(list11)\n",
    "print(result)"
   ]
  },
  {
   "cell_type": "markdown",
   "id": "15a5b7a8-a3e4-40ad-88d7-ff10efe28b5a",
   "metadata": {},
   "source": [
    "12. Create a program that prints the prime numbers in a given range using a `for` loop."
   ]
  },
  {
   "cell_type": "code",
   "execution_count": 6,
   "id": "e2b16584-287e-4a8d-a858-58b952a778cb",
   "metadata": {},
   "outputs": [
    {
     "name": "stdin",
     "output_type": "stream",
     "text": [
      "Enter the start of the range:  1\n",
      "Enter the end of the range:  50\n"
     ]
    },
    {
     "name": "stdout",
     "output_type": "stream",
     "text": [
      "Prime numbers in the range 1 to 50 are:\n",
      "2\n",
      "3\n",
      "5\n",
      "7\n",
      "11\n",
      "13\n",
      "17\n",
      "19\n",
      "23\n",
      "29\n",
      "31\n",
      "37\n",
      "41\n",
      "43\n",
      "47\n"
     ]
    }
   ],
   "source": [
    "def is_prime(num):\n",
    "    if num <= 1:\n",
    "        return False\n",
    "    if num <= 3:\n",
    "        return True\n",
    "    if num % 2 == 0 or num % 3 == 0:\n",
    "        return False\n",
    "    \n",
    "    divisor = 5\n",
    "    while divisor * divisor <= num:\n",
    "        if num % divisor == 0 or num % (divisor + 2) == 0:\n",
    "            return False\n",
    "        divisor += 6\n",
    "    \n",
    "    return True\n",
    "\n",
    "start = int(input(\"Enter the start of the range: \"))\n",
    "end = int(input(\"Enter the end of the range: \"))\n",
    "\n",
    "if end < start:\n",
    "    print(\"Invalid input: End of the range should be greater than or equal to the start.\")\n",
    "else:\n",
    "    print(\"Prime numbers in the range\", start, \"to\", end, \"are:\")\n",
    "    for num in range(start, end + 1):\n",
    "        if is_prime(num):\n",
    "            print(num)\n"
   ]
  },
  {
   "cell_type": "markdown",
   "id": "68191aeb-75f3-4872-88f2-a4ed214d85ca",
   "metadata": {},
   "source": [
    "13. Develop a program that counts the number of vowels in a string using a `for` loop."
   ]
  },
  {
   "cell_type": "code",
   "execution_count": 9,
   "id": "d636c914-63e2-4f96-aa1c-781dfbec2794",
   "metadata": {},
   "outputs": [
    {
     "name": "stdout",
     "output_type": "stream",
     "text": [
      "5\n"
     ]
    }
   ],
   "source": [
    "def vowel_counter(input_string):\n",
    "    count=0\n",
    "    vowel_list=\"aeiou\"\n",
    "    for alphabet in input_string:\n",
    "        if alphabet in vowel_list:\n",
    "            count+=1\n",
    "    return count\n",
    "\n",
    "result=vowel_counter(\"This is a test string\")\n",
    "print(result)"
   ]
  },
  {
   "cell_type": "markdown",
   "id": "b8d7b887-1121-4af0-96e8-1b308fc33b86",
   "metadata": {},
   "source": [
    "14. Write a program to find the maximum element in a 2D list using a nested `for` loop."
   ]
  },
  {
   "cell_type": "code",
   "execution_count": 11,
   "id": "c68e8518-695e-4ee5-b485-803a5ce4255c",
   "metadata": {},
   "outputs": [
    {
     "name": "stdout",
     "output_type": "stream",
     "text": [
      "15\n"
     ]
    }
   ],
   "source": [
    "my_list=[[1,2,3],[4,5,6],[7,8,9],[10,11,12],[13,14,15]]\n",
    "max_element=my_list[0][0]\n",
    "\n",
    "for sub_list in my_list:\n",
    "    for element in sub_list:\n",
    "        if element>max_element:\n",
    "            max_element=element\n",
    "print(max_element)"
   ]
  },
  {
   "cell_type": "markdown",
   "id": "3c11fd8e-7601-4119-a05a-0d16a3daf7d7",
   "metadata": {},
   "source": [
    "15. Create a program that removes all occurrences of a specific element from a list using a `for` loop."
   ]
  },
  {
   "cell_type": "code",
   "execution_count": 16,
   "id": "7e9e4961-bd63-4937-9ae5-70e64895e463",
   "metadata": {},
   "outputs": [
    {
     "name": "stdout",
     "output_type": "stream",
     "text": [
      "[1, 2, 4, 5]\n"
     ]
    }
   ],
   "source": [
    "def element_remover(input_list, unwanted_element):\n",
    "    result_list = []\n",
    "    for item in input_list:\n",
    "        if item != unwanted_element:\n",
    "            result_list.append(item)\n",
    "    return result_list\n",
    "\n",
    "l15 = [1, 2, 3, 4, 5, 3, 3]\n",
    "result_l15 = element_remover(l15, 3)\n",
    "print(result_l15)"
   ]
  },
  {
   "cell_type": "markdown",
   "id": "83d611bf-36e0-49e9-ae35-20c229933882",
   "metadata": {},
   "source": [
    "16. Develop a program that generates a multiplication table for numbers from 1 to 5 using a nested `for` loop."
   ]
  },
  {
   "cell_type": "code",
   "execution_count": 23,
   "id": "f9da7c3c-a648-4026-bf4a-83603fc59434",
   "metadata": {},
   "outputs": [
    {
     "name": "stdout",
     "output_type": "stream",
     "text": [
      "1 X 1 = 1\n",
      "1 X 2 = 2\n",
      "1 X 3 = 3\n",
      "1 X 4 = 4\n",
      "1 X 5 = 5\n",
      "1 X 6 = 6\n",
      "1 X 7 = 7\n",
      "1 X 8 = 8\n",
      "1 X 9 = 9\n",
      "1 X 10 = 10\n",
      "\n",
      "\n",
      "2 X 1 = 2\n",
      "2 X 2 = 4\n",
      "2 X 3 = 6\n",
      "2 X 4 = 8\n",
      "2 X 5 = 10\n",
      "2 X 6 = 12\n",
      "2 X 7 = 14\n",
      "2 X 8 = 16\n",
      "2 X 9 = 18\n",
      "2 X 10 = 20\n",
      "\n",
      "\n",
      "3 X 1 = 3\n",
      "3 X 2 = 6\n",
      "3 X 3 = 9\n",
      "3 X 4 = 12\n",
      "3 X 5 = 15\n",
      "3 X 6 = 18\n",
      "3 X 7 = 21\n",
      "3 X 8 = 24\n",
      "3 X 9 = 27\n",
      "3 X 10 = 30\n",
      "\n",
      "\n",
      "4 X 1 = 4\n",
      "4 X 2 = 8\n",
      "4 X 3 = 12\n",
      "4 X 4 = 16\n",
      "4 X 5 = 20\n",
      "4 X 6 = 24\n",
      "4 X 7 = 28\n",
      "4 X 8 = 32\n",
      "4 X 9 = 36\n",
      "4 X 10 = 40\n",
      "\n",
      "\n",
      "5 X 1 = 5\n",
      "5 X 2 = 10\n",
      "5 X 3 = 15\n",
      "5 X 4 = 20\n",
      "5 X 5 = 25\n",
      "5 X 6 = 30\n",
      "5 X 7 = 35\n",
      "5 X 8 = 40\n",
      "5 X 9 = 45\n",
      "5 X 10 = 50\n",
      "\n",
      "\n"
     ]
    }
   ],
   "source": [
    "for i in range(1, 6):\n",
    "    for j in range(1, 11):\n",
    "        print(f\"{i} X {j} = {i * j}\")\n",
    "    print(\"\\n\")"
   ]
  },
  {
   "cell_type": "markdown",
   "id": "6ae57a4e-6044-44f6-a824-ab36e3a47b0c",
   "metadata": {},
   "source": [
    "17. Write a program that converts a list of Fahrenheit temperatures to Celsius using a `for` loop."
   ]
  },
  {
   "cell_type": "code",
   "execution_count": 4,
   "id": "6617145d-4367-4dba-916e-838bb4462c27",
   "metadata": {},
   "outputs": [
    {
     "name": "stdout",
     "output_type": "stream",
     "text": [
      "[-15.0, -12.222222222222221, -9.444444444444445, -6.666666666666667, -3.888888888888889]\n"
     ]
    }
   ],
   "source": [
    "fahrenhiet_list=[5,10,15,20,25]\n",
    "celcius_list=[]\n",
    "\n",
    "for temp in fahrenhiet_list:\n",
    "    new_temp=(temp-32)*5/9\n",
    "    celcius_list.append(new_temp)\n",
    "    \n",
    "print(celcius_list)"
   ]
  },
  {
   "cell_type": "markdown",
   "id": "3c9c5a44-c837-4c8c-aa50-e7c47fb83d5d",
   "metadata": {},
   "source": [
    "18. Create a program to print the common elements from two lists using a `for` loop."
   ]
  },
  {
   "cell_type": "code",
   "execution_count": 5,
   "id": "cb443250-3e08-4dcc-9732-1b5d59b5eba5",
   "metadata": {},
   "outputs": [
    {
     "name": "stdout",
     "output_type": "stream",
     "text": [
      "3\n",
      "4\n",
      "5\n"
     ]
    }
   ],
   "source": [
    "l18_1=[1,2,3,4,5]\n",
    "l18_2=[3,4,5,6,7]\n",
    "\n",
    "for element in l18_1:\n",
    "    if element in l18_2:\n",
    "        print(element)"
   ]
  },
  {
   "cell_type": "markdown",
   "id": "4eb0a6bd-1482-4e45-830e-e9595cbd1d57",
   "metadata": {},
   "source": [
    "19. Develop a program that prints the pattern of right-angled triangles using a `for` loop. Use ‘*’ to draw the\n",
    "pattern"
   ]
  },
  {
   "cell_type": "code",
   "execution_count": 9,
   "id": "fe52ca95-8666-449e-b82e-0c19c56fd165",
   "metadata": {},
   "outputs": [
    {
     "name": "stdout",
     "output_type": "stream",
     "text": [
      "* \n",
      "\n",
      "* * \n",
      "\n",
      "* * * \n",
      "\n",
      "* * * * \n",
      "\n",
      "* * * * * \n",
      "\n"
     ]
    }
   ],
   "source": [
    "for i in range(5):\n",
    "    for j in range(i+1):\n",
    "        print(\"*\",end=\" \")\n",
    "    print(\"\\n\")"
   ]
  },
  {
   "cell_type": "markdown",
   "id": "1075a258-862f-4ac4-9559-df8a82942801",
   "metadata": {},
   "source": [
    "20. Write a program to find the greatest common divisor (GCD) of two numbers using a `for` loop."
   ]
  },
  {
   "cell_type": "code",
   "execution_count": 11,
   "id": "5242ed95-b253-4c68-8011-016ad7b637c3",
   "metadata": {},
   "outputs": [
    {
     "name": "stdout",
     "output_type": "stream",
     "text": [
      "5\n"
     ]
    }
   ],
   "source": [
    "def gcd(a, b):\n",
    "    while b:\n",
    "        a, b = b, a % b\n",
    "    return a\n",
    "\n",
    "result=gcd(15,10)\n",
    "print(result)"
   ]
  },
  {
   "cell_type": "markdown",
   "id": "b6a6e28f-21f9-4ceb-860c-b888eddf4e17",
   "metadata": {},
   "source": [
    "Advanced Level:"
   ]
  },
  {
   "cell_type": "markdown",
   "id": "845892d4-16fb-400d-8bfa-072dfac8efe1",
   "metadata": {},
   "source": [
    "21. Create a program that calculates the sum of the digits of numbers in a list using a list comprehension."
   ]
  },
  {
   "cell_type": "code",
   "execution_count": 4,
   "id": "40143023-3176-4889-aece-63ec7c2df18a",
   "metadata": {},
   "outputs": [
    {
     "name": "stdout",
     "output_type": "stream",
     "text": [
      "[1, 2, 3, 4, 5]\n"
     ]
    }
   ],
   "source": [
    "list21=[10,20,30,40,50]\n",
    "\n",
    "digit_sum=[sum(map(int,str(num))) for num in list21]\n",
    "print(digit_sum)"
   ]
  },
  {
   "cell_type": "markdown",
   "id": "bf2b9b94-a67a-473f-bfc3-b7295a446af0",
   "metadata": {},
   "source": [
    "22. Write a program to find the prime factors of a given number using a `for` loop and list comprehension."
   ]
  },
  {
   "cell_type": "code",
   "execution_count": 2,
   "id": "9d92cef2-639a-45e6-8076-74708fe1fb93",
   "metadata": {},
   "outputs": [
    {
     "name": "stdin",
     "output_type": "stream",
     "text": [
      "Enter a number:  75\n"
     ]
    },
    {
     "name": "stdout",
     "output_type": "stream",
     "text": [
      "The prime factors of 75 are: 3, 5, 5\n"
     ]
    }
   ],
   "source": [
    "def prime_factors(n):\n",
    "    factors = []\n",
    "    while n % 2 == 0:\n",
    "        factors.append(2)\n",
    "        n = n // 2\n",
    "    for i in range(3, int(n**0.5) + 1, 2):\n",
    "        while n % i == 0:\n",
    "            factors.append(i)\n",
    "            n = n // i\n",
    "    if n > 2:\n",
    "        factors.append(n)\n",
    "    return factors\n",
    "\n",
    "number = int(input(\"Enter a number: \"))\n",
    "factors = prime_factors(number)\n",
    "formatted_factors = [f\"{factor}\" for factor in factors]\n",
    "print(f\"The prime factors of {number} are: {', '.join(formatted_factors)}\")"
   ]
  },
  {
   "cell_type": "markdown",
   "id": "3dde7440-23f5-4a08-b2e2-81cffed595c3",
   "metadata": {},
   "source": [
    "23. Develop a program that extracts unique elements from a list and stores them in a new list using a list\n",
    "comprehension."
   ]
  },
  {
   "cell_type": "code",
   "execution_count": 3,
   "id": "4d440224-898a-4c46-8cdc-62d9c2be7c13",
   "metadata": {},
   "outputs": [
    {
     "name": "stdout",
     "output_type": "stream",
     "text": [
      "Original List: [1, 2, 2, 3, 4, 4, 5, 6, 6, 7, 8, 8, 9]\n",
      "Unique Elements: [1, 2, 3, 4, 5, 6, 7, 8, 9]\n"
     ]
    }
   ],
   "source": [
    "original_list = [1, 2, 2, 3, 4, 4, 5, 6, 6, 7, 8, 8, 9]\n",
    "unique_elements = [x for i, x in enumerate(original_list) if x not in original_list[:i]]\n",
    "print(\"Original List:\", original_list)\n",
    "print(\"Unique Elements:\", unique_elements)"
   ]
  },
  {
   "cell_type": "markdown",
   "id": "cf189408-0b37-4198-8cac-34072d016e8a",
   "metadata": {},
   "source": [
    "24. Create a program that generates a list of all palindromic numbers up to a specified limit using a list"
   ]
  },
  {
   "cell_type": "code",
   "execution_count": 12,
   "id": "f094507e-36af-456c-87ae-87e587591eff",
   "metadata": {},
   "outputs": [
    {
     "name": "stdin",
     "output_type": "stream",
     "text": [
      "Enter the upper limit : 100\n"
     ]
    },
    {
     "name": "stdout",
     "output_type": "stream",
     "text": [
      "[1, 2, 3, 4, 5, 6, 7, 8, 9, 11, 22, 33, 44, 55, 66, 77, 88, 99]\n"
     ]
    }
   ],
   "source": [
    "def is_palindrome(num):\n",
    "    if str(num) == str(num)[::-1]:\n",
    "        return True\n",
    "    \n",
    "limit=int(input(\"Enter the upper limit :\"))\n",
    "\n",
    "palindromic_numbers=[num for num in range(1,limit+1) if is_palindrome(num)]\n",
    "print(palindromic_numbers)"
   ]
  },
  {
   "cell_type": "markdown",
   "id": "f19b176f-6267-4edf-bd84-4ab8b550e173",
   "metadata": {},
   "source": [
    "25. Write a program to flatten a nested list using list comprehension."
   ]
  },
  {
   "cell_type": "code",
   "execution_count": 16,
   "id": "9c0b77c7-e13b-44ac-8ffb-97f3b79f4481",
   "metadata": {},
   "outputs": [
    {
     "name": "stdout",
     "output_type": "stream",
     "text": [
      "[1, 2, 3, 4, 5, 6, 7, 8, 9, 10, 11, 12]\n"
     ]
    }
   ],
   "source": [
    "list25=[[1,2,3],[4,5,6],[7,8,9],[10,11,12]]\n",
    "\n",
    "flattend_list25=[num for sub_list in range(len(list25)) for num in list25[sub_list]]\n",
    "print(flattend_list25)"
   ]
  },
  {
   "cell_type": "markdown",
   "id": "bc5660c2-3e50-4c12-a0b1-060f6cb6c00d",
   "metadata": {},
   "source": [
    "26. Develop a program that computes the sum of even and odd numbers in a list separately using list\n",
    "comprehension."
   ]
  },
  {
   "cell_type": "code",
   "execution_count": 5,
   "id": "0809501c-410f-49f8-b761-2906a5533cb5",
   "metadata": {},
   "outputs": [
    {
     "name": "stdout",
     "output_type": "stream",
     "text": [
      "Sum of even numbers is 30 and sum of odd numbers is 25\n"
     ]
    }
   ],
   "source": [
    "list26=[1,2,3,4,5,6,7,8,9,10]\n",
    "even_list=[num for num in list26 if num%2==0]\n",
    "odd_list=[num for num in list26 if num%2!=0]\n",
    "even_sum=sum(even_list)\n",
    "odd_sum=sum(odd_list)\n",
    "print(f\"Sum of even numbers is {even_sum} and sum of odd numbers is {odd_sum}\")"
   ]
  },
  {
   "cell_type": "markdown",
   "id": "e65abd96-e686-4c9e-8d00-b34d83c0fd60",
   "metadata": {},
   "source": [
    "27. Create a program that generates a list of squares of odd numbers between 1 and 10 using list\n",
    "comprehension."
   ]
  },
  {
   "cell_type": "code",
   "execution_count": 7,
   "id": "abf84097-bd3f-4058-a92d-8aa92d65549f",
   "metadata": {},
   "outputs": [
    {
     "name": "stdout",
     "output_type": "stream",
     "text": [
      "[1, 9, 25, 49, 81]\n"
     ]
    }
   ],
   "source": [
    "odd_squared=[num**2 for num in range(1,11) if num%2!=0]\n",
    "print(odd_squared)"
   ]
  },
  {
   "cell_type": "markdown",
   "id": "3d05797e-3b44-4b91-bbfc-39962f8983a2",
   "metadata": {},
   "source": [
    "28. Write a program that combines two lists into a dictionary using list comprehension."
   ]
  },
  {
   "cell_type": "code",
   "execution_count": 9,
   "id": "864a78b1-8b1d-47bc-9e9a-1cecdaf96400",
   "metadata": {},
   "outputs": [
    {
     "name": "stdout",
     "output_type": "stream",
     "text": [
      "{'Name': 'Alakh Pandey', 'Age': 40, 'City': 'Noida'}\n"
     ]
    }
   ],
   "source": [
    "keys_list=['Name','Age','City']\n",
    "Values_list=['Alakh Pandey',40,'Noida']\n",
    "\n",
    "result_dict={keys_list[i]:Values_list[i] for i in range(len(keys_list))}\n",
    "print(result_dict)"
   ]
  },
  {
   "cell_type": "markdown",
   "id": "1ae42ddf-eb97-4e27-bf49-652693316fe5",
   "metadata": {},
   "source": [
    "29. Develop a program that extracts the vowels from a string and stores them in a list using list comprehension."
   ]
  },
  {
   "cell_type": "code",
   "execution_count": 11,
   "id": "7301c0d7-837c-4329-8168-832f65ee1aaa",
   "metadata": {},
   "outputs": [
    {
     "name": "stdout",
     "output_type": "stream",
     "text": [
      "['i', 'i', 'a', 'e', 'i']\n"
     ]
    }
   ],
   "source": [
    "test_string=\"This is a test string\"\n",
    "vowels=\"aeiouAEIOU\"\n",
    "vowels_list=[char for char in test_string if char in vowels]\n",
    "print(vowels_list)"
   ]
  },
  {
   "cell_type": "markdown",
   "id": "88e9a867-6b2e-4d54-a1cc-4b055a3f32a0",
   "metadata": {},
   "source": [
    "30. Create a program that removes all non-numeric characters from a list of strings using list comprehension."
   ]
  },
  {
   "cell_type": "code",
   "execution_count": 18,
   "id": "7ad4ad35-db94-494b-b7f9-8576f295973e",
   "metadata": {},
   "outputs": [
    {
     "name": "stdout",
     "output_type": "stream",
     "text": [
      "['Robin', 'was', 'just', 'years', 'old', 'when', 'he', 'visited', 'mountain', 'of', 'gaints']\n"
     ]
    }
   ],
   "source": [
    "list30=[\"Robin\",\"was\",\"just\",10,\"years\",\"old\",\"when\",\"he\",\"visited\",\"mountain\",\"of\",5,\"gaints\"]\n",
    "no_numeric_list=[obj for obj in list30 if type(obj)!=int ]\n",
    "print(no_numeric_list)"
   ]
  },
  {
   "cell_type": "markdown",
   "id": "db29b815-cb6f-441b-bb2a-9527c6367655",
   "metadata": {},
   "source": [
    "Challenge Level:"
   ]
  },
  {
   "cell_type": "markdown",
   "id": "cbe8ca1f-37a3-4f20-a9d7-f94f72795cb6",
   "metadata": {},
   "source": [
    "31. Write a program to generate a list of prime numbers using the Sieve of Eratosthenes algorithm and list\n",
    "comprehension."
   ]
  },
  {
   "cell_type": "code",
   "execution_count": 1,
   "id": "983a89a6-7f54-4910-b1ff-c86da668823f",
   "metadata": {},
   "outputs": [
    {
     "name": "stdin",
     "output_type": "stream",
     "text": [
      "Enter the upper limit:  30\n"
     ]
    },
    {
     "name": "stdout",
     "output_type": "stream",
     "text": [
      "Prime numbers up to 30 are: [2, 3, 5, 7, 11, 13, 17, 19, 23, 29]\n"
     ]
    }
   ],
   "source": [
    "def sieve_of_eratosthenes(limit):\n",
    "    is_prime = [True] * (limit + 1)\n",
    "    is_prime[0] = is_prime[1] = False\n",
    "\n",
    "    for number in range(2, int(limit**0.5) + 1):\n",
    "        if is_prime[number]:\n",
    "            for multiple in range(number * number, limit + 1, number):\n",
    "                is_prime[multiple] = False\n",
    "\n",
    "    primes = [number for number, prime in enumerate(is_prime) if prime]\n",
    "\n",
    "    return primes\n",
    "\n",
    "limit = int(input(\"Enter the upper limit: \"))\n",
    "prime_list = sieve_of_eratosthenes(limit)\n",
    "print(\"Prime numbers up to\", limit, \"are:\", prime_list)"
   ]
  },
  {
   "cell_type": "markdown",
   "id": "a132ce50-d0b3-4071-b893-761d338be927",
   "metadata": {},
   "source": [
    "32. Create a program that generates a list of all Pythagorean triplets up to a specified limit using list\n",
    "comprehension."
   ]
  },
  {
   "cell_type": "code",
   "execution_count": 2,
   "id": "5f088022-1fad-4ecd-9449-ccb400b41b0e",
   "metadata": {},
   "outputs": [
    {
     "name": "stdin",
     "output_type": "stream",
     "text": [
      "Enter the limit to generate Pythagorean triplets:  30\n"
     ]
    },
    {
     "name": "stdout",
     "output_type": "stream",
     "text": [
      "Pythagorean triplets up to limit 30 are:\n",
      "(3, 4, 5)\n",
      "(5, 12, 13)\n",
      "(6, 8, 10)\n",
      "(7, 24, 25)\n",
      "(8, 15, 17)\n",
      "(9, 12, 15)\n",
      "(10, 24, 26)\n",
      "(12, 16, 20)\n",
      "(15, 20, 25)\n",
      "(18, 24, 30)\n",
      "(20, 21, 29)\n"
     ]
    }
   ],
   "source": [
    "def generate_pythagorean_triplets(limit):\n",
    "    triplets = [(a, b, c) for a in range(1, limit+1) for b in range(a, limit+1) for c in range(b+1, limit+1) if a**2 + b**2 == c**2]\n",
    "    return triplets\n",
    "\n",
    "try:\n",
    "    limit = int(input(\"Enter the limit to generate Pythagorean triplets: \"))\n",
    "    if limit < 3:\n",
    "        print(\"The limit should be at least 3.\")\n",
    "    else:\n",
    "        pythagorean_triplets = generate_pythagorean_triplets(limit)\n",
    "        print(\"Pythagorean triplets up to limit\", limit, \"are:\")\n",
    "        for triplet in pythagorean_triplets:\n",
    "            print(triplet)\n",
    "except ValueError:\n",
    "    print(\"Invalid input. Please enter a positive integer for the limit.\")"
   ]
  },
  {
   "cell_type": "markdown",
   "id": "1d902532-91bf-4602-adfb-c30cbea9a358",
   "metadata": {},
   "source": [
    "33. Develop a program that generates a list of all possible combinations of two lists using list comprehension."
   ]
  },
  {
   "cell_type": "code",
   "execution_count": 4,
   "id": "c4bfd199-925a-4b8d-a7da-780f55ccafe2",
   "metadata": {},
   "outputs": [
    {
     "name": "stdout",
     "output_type": "stream",
     "text": [
      "[[1, 6], [1, 7], [1, 8], [1, 9], [1, 10], [2, 6], [2, 7], [2, 8], [2, 9], [2, 10], [3, 6], [3, 7], [3, 8], [3, 9], [3, 10], [4, 6], [4, 7], [4, 8], [4, 9], [4, 10], [5, 6], [5, 7], [5, 8], [5, 9], [5, 10]]\n"
     ]
    }
   ],
   "source": [
    "list33_1=[1,2,3,4,5]\n",
    "list33_2=[6,7,8,9,10]\n",
    "\n",
    "combined_list=[[num1,num2] for num1 in list33_1 for num2 in list33_2]\n",
    "print(combined_list)"
   ]
  },
  {
   "cell_type": "markdown",
   "id": "28247cf3-05b8-4917-ad6c-9d52bd974749",
   "metadata": {},
   "source": [
    "34. Write a program that calculates the mean, median, and mode of a list of numbers using list\n",
    "comprehension."
   ]
  },
  {
   "cell_type": "code",
   "execution_count": 1,
   "id": "7c8109ca-2509-4952-8907-65675867a185",
   "metadata": {},
   "outputs": [
    {
     "name": "stdin",
     "output_type": "stream",
     "text": [
      "Enter a list of numbers separated by spaces:  1 2 3 4 5 2 1 3 34 54 2 2 2 1 3 4 5 6 7\n"
     ]
    },
    {
     "name": "stdout",
     "output_type": "stream",
     "text": [
      "Mean: 7.421052631578948\n",
      "Median: 3.0\n",
      "Mode: [2.0]\n"
     ]
    }
   ],
   "source": [
    "def calculate_mean(numbers):\n",
    "    return sum(numbers) / len(numbers)\n",
    "\n",
    "def calculate_median(numbers):\n",
    "    sorted_numbers = sorted(numbers)\n",
    "    n = len(sorted_numbers)\n",
    "    middle = n // 2\n",
    "    if n % 2 == 0:\n",
    "        return (sorted_numbers[middle - 1] + sorted_numbers[middle]) / 2\n",
    "    else:\n",
    "        return sorted_numbers[middle]\n",
    "\n",
    "def calculate_mode(numbers):\n",
    "    counts = {}\n",
    "    for num in numbers:\n",
    "        if num in counts:\n",
    "            counts[num] += 1\n",
    "        else:\n",
    "            counts[num] = 1\n",
    "\n",
    "    max_count = max(counts.values())\n",
    "    mode = [num for num, count in counts.items() if count == max_count]\n",
    "    return mode\n",
    "\n",
    "try:\n",
    "    input_str = input(\"Enter a list of numbers separated by spaces: \")\n",
    "    numbers = [float(x) for x in input_str.split()]\n",
    "\n",
    "    if not numbers:\n",
    "        print(\"List is empty. Please enter some numbers.\")\n",
    "    else:\n",
    "        mean = calculate_mean(numbers)\n",
    "        median = calculate_median(numbers)\n",
    "        mode = calculate_mode(numbers)\n",
    "\n",
    "        print(\"Mean:\", mean)\n",
    "        print(\"Median:\", median)\n",
    "        print(\"Mode:\", mode)\n",
    "except ValueError:\n",
    "    print(\"Invalid input. Please enter a list of numbers separated by spaces.\")"
   ]
  },
  {
   "cell_type": "markdown",
   "id": "47279b78-f3f1-4ab5-b21e-f865fea1a1af",
   "metadata": {},
   "source": [
    "35. Create a program that generates Pascal's triangle up to a specified number of rows using list\n",
    "comprehension."
   ]
  },
  {
   "cell_type": "code",
   "execution_count": 2,
   "id": "f1be26d3-f356-4d4f-bf37-f797263a197c",
   "metadata": {},
   "outputs": [
    {
     "name": "stdin",
     "output_type": "stream",
     "text": [
      "Enter the number of rows for Pascal's triangle:  5\n"
     ]
    },
    {
     "name": "stdout",
     "output_type": "stream",
     "text": [
      "Pascal's triangle with 5 rows:\n",
      "1\n",
      "1 1\n",
      "1 2 1\n",
      "1 3 3 1\n",
      "1 4 6 4 1\n"
     ]
    }
   ],
   "source": [
    "def generate_pascals_triangle(num_rows):\n",
    "    triangle = [[1] * (row + 1) for row in range(num_rows)]\n",
    "    for row in range(2, num_rows):\n",
    "        for col in range(1, row):\n",
    "            triangle[row][col] = triangle[row - 1][col - 1] + triangle[row - 1][col]\n",
    "    return triangle\n",
    "\n",
    "try:\n",
    "    num_rows = int(input(\"Enter the number of rows for Pascal's triangle: \"))\n",
    "    if num_rows < 1:\n",
    "        print(\"Please enter a positive integer greater than or equal to 1.\")\n",
    "    else:\n",
    "        pascals_triangle = generate_pascals_triangle(num_rows)\n",
    "        print(\"Pascal's triangle with\", num_rows, \"rows:\")\n",
    "        for row in pascals_triangle:\n",
    "            print(\" \".join(map(str, row)))\n",
    "except ValueError:\n",
    "    print(\"Invalid input. Please enter a positive integer greater than or equal to 1.\")"
   ]
  },
  {
   "cell_type": "markdown",
   "id": "483620ac-a9f6-4026-9248-cc3a0a3fc906",
   "metadata": {},
   "source": [
    "36. Develop a program that calculates the sum of the digits of a factorial of numbers from 1 to 5 using list\n",
    "comprehension."
   ]
  },
  {
   "cell_type": "code",
   "execution_count": 13,
   "id": "c87267f8-8316-4e66-98b6-9b80fd41bdcb",
   "metadata": {},
   "outputs": [
    {
     "name": "stdout",
     "output_type": "stream",
     "text": [
      "[1, 2, 6, 6, 3]\n"
     ]
    }
   ],
   "source": [
    "def fact(num):\n",
    "    if num==0:\n",
    "        return 1\n",
    "    else:\n",
    "        return num*fact(num-1)\n",
    "\n",
    "factorial_list=[fact(num) for num in range(1,6)]\n",
    "\n",
    "'''\n",
    "1) sum() function requires multiple object in order to do adition so we have directly putted\n",
    "for loop inside the sum function where it is used as an iterator.\n",
    "2) we have used type conversion function because integer type object are not iterable so we\n",
    "have first converted object to string and then we have iterated over it.\n",
    "'''\n",
    "sum_list=[sum(int(digit) for digit in str(factorial)) for factorial in factorial_list]\n",
    "\n",
    "print(sum_list)"
   ]
  },
  {
   "cell_type": "markdown",
   "id": "6c35a740-1019-41fb-ae28-6c7af7193b5d",
   "metadata": {},
   "source": [
    "37. Write a program that finds the longest word in a sentence using list comprehension."
   ]
  },
  {
   "cell_type": "code",
   "execution_count": 4,
   "id": "62092204-b9aa-4b6f-8cb1-4793b2e6ca17",
   "metadata": {},
   "outputs": [
    {
     "name": "stdout",
     "output_type": "stream",
     "text": [
      "string\n",
      "\n",
      "\n",
      "['string']\n"
     ]
    }
   ],
   "source": [
    "sentence=\"This is a test string\"\n",
    "\n",
    "word_list=sentence.split()\n",
    "\n",
    "longest_word=max(word_list,key=lambda word:len(word))\n",
    "\n",
    "print(longest_word)\n",
    "\n",
    "\n",
    "# Same answer but by using list comprehension\n",
    "print(\"\\n\")\n",
    "\n",
    "sentence2=\"This is a test string\"\n",
    "word_list2=sentence2.split()\n",
    "length_word_list2=[len(word) for word in word_list2]\n",
    "longest_length=max(length_word_list2)\n",
    "longest_word=[word for word in word_list2 if len(word)==longest_length]\n",
    "print(longest_word)"
   ]
  },
  {
   "cell_type": "markdown",
   "id": "b9391fed-a5e2-4b91-beaa-cbf488954d74",
   "metadata": {},
   "source": [
    "38. Create a program that filters a list of strings to include only those with more than three vowels using list\n",
    "comprehension."
   ]
  },
  {
   "cell_type": "code",
   "execution_count": 8,
   "id": "3f7c042c-fb48-44b0-9c30-0bb58464752a",
   "metadata": {},
   "outputs": [
    {
     "name": "stdout",
     "output_type": "stream",
     "text": [
      "Strings with more than three vowels: ['chikuuu']\n"
     ]
    }
   ],
   "source": [
    "# List of strings\n",
    "string_list = [\"apple\", \"banana\", \"cherry\", \"date\", \"elderberry\", \"fig\", \"grape\",\"chikuuu\"]\n",
    "\n",
    "# Lambda function to count the number of vowels in a string\n",
    "count_vowels = lambda string: sum(1 for char in string if char in \"AEIOUaeiou\")\n",
    "\n",
    "# Use filter() with the lambda function to filter strings with more than three vowels\n",
    "filtered_strings = list(filter(lambda string: count_vowels(string) > 3, string_list))\n",
    "\n",
    "print(\"Strings with more than three vowels:\", filtered_strings)"
   ]
  },
  {
   "cell_type": "markdown",
   "id": "156d2051-a1d7-4928-8171-b67578e2da03",
   "metadata": {},
   "source": [
    "39. Develop a program that calculates the sum of the digits of numbers from 1 to 1000 using list\n",
    "comprehension."
   ]
  },
  {
   "cell_type": "code",
   "execution_count": 2,
   "id": "a092045a-fee2-48f3-bdf5-048ff4451512",
   "metadata": {},
   "outputs": [
    {
     "name": "stdout",
     "output_type": "stream",
     "text": [
      "13501\n"
     ]
    }
   ],
   "source": [
    "numbers_list = [num for num in range(1, 1001)]\n",
    "digit_sums = [sum(int(digit) for digit in str(num)) for num in numbers_list]\n",
    "result = sum(digit_sums)\n",
    "print(result)"
   ]
  },
  {
   "cell_type": "markdown",
   "id": "792ee5c3-1b98-4216-b68d-2f07329754cd",
   "metadata": {},
   "source": [
    "40. Write a program that generates a list of prime palindromic numbers using list comprehension."
   ]
  },
  {
   "cell_type": "code",
   "execution_count": 3,
   "id": "31c8dd7c-1999-4143-8fbd-e21cfd6c3adb",
   "metadata": {},
   "outputs": [
    {
     "name": "stdout",
     "output_type": "stream",
     "text": [
      "Prime palindromic numbers: [2, 3, 5, 7, 11, 101, 131, 151, 181, 191, 313, 353, 373, 383, 727, 757, 787, 797, 919, 929]\n"
     ]
    }
   ],
   "source": [
    "def is_prime(n):\n",
    "    if n <= 1:\n",
    "        return False\n",
    "    if n == 2:\n",
    "        return True\n",
    "    if n % 2 == 0:\n",
    "        return False\n",
    "    for i in range(3, int(n**0.5) + 1, 2):\n",
    "        if n % i == 0:\n",
    "            return False\n",
    "    return True\n",
    "\n",
    "prime_palindromes = [num for num in range(2, 1000) if is_prime(num) and str(num) == str(num)[::-1]]\n",
    "\n",
    "print(\"Prime palindromic numbers:\", prime_palindromes)"
   ]
  },
  {
   "cell_type": "code",
   "execution_count": null,
   "id": "019db866-1606-4e03-bfbd-7ac973f8e8c8",
   "metadata": {},
   "outputs": [],
   "source": []
  }
 ],
 "metadata": {
  "kernelspec": {
   "display_name": "Python 3 (ipykernel)",
   "language": "python",
   "name": "python3"
  },
  "language_info": {
   "codemirror_mode": {
    "name": "ipython",
    "version": 3
   },
   "file_extension": ".py",
   "mimetype": "text/x-python",
   "name": "python",
   "nbconvert_exporter": "python",
   "pygments_lexer": "ipython3",
   "version": "3.10.8"
  }
 },
 "nbformat": 4,
 "nbformat_minor": 5
}
