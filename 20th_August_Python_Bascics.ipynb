{
 "cells": [
  {
   "cell_type": "markdown",
   "id": "4bafc465-2373-4edd-a23e-3ecab338eb18",
   "metadata": {},
   "source": [
    "TOPIC: String Based Assignment Problem"
   ]
  },
  {
   "cell_type": "markdown",
   "id": "ca247e47-5542-480a-9f1b-1b8a6c881ac8",
   "metadata": {},
   "source": [
    "1. Write a program to reverse a string."
   ]
  },
  {
   "cell_type": "code",
   "execution_count": 3,
   "id": "f1665844-213f-4f98-85e5-7540528c404b",
   "metadata": {},
   "outputs": [
    {
     "name": "stdin",
     "output_type": "stream",
     "text": [
      "Enter the string : okay\n"
     ]
    },
    {
     "data": {
      "text/plain": [
       "'yako'"
      ]
     },
     "execution_count": 3,
     "metadata": {},
     "output_type": "execute_result"
    }
   ],
   "source": [
    "# Answer 1\n",
    "\n",
    "def string_reverser(input_string1):\n",
    "    reversed_string1=input_string1[::-1]\n",
    "    return reversed_string1\n",
    "\n",
    "input_string1=input(\"Enter the string :\")\n",
    "string_reverser(input_string1)"
   ]
  },
  {
   "cell_type": "markdown",
   "id": "8e4a3ca3-97b6-4696-a806-47a7f2c6c6c3",
   "metadata": {},
   "source": [
    "2. Check if a string is a palindrome."
   ]
  },
  {
   "cell_type": "code",
   "execution_count": 6,
   "id": "93b44e86-e631-494f-ba08-6355add2f88c",
   "metadata": {},
   "outputs": [
    {
     "name": "stdin",
     "output_type": "stream",
     "text": [
      "Enter the string : hello\n"
     ]
    },
    {
     "name": "stdout",
     "output_type": "stream",
     "text": [
      "False\n"
     ]
    }
   ],
   "source": [
    "input_string2=input(\"Enter the string :\")\n",
    "temp_string2=input_string2[::-1]\n",
    "\n",
    "is_palindrome=input_string2==temp_string2\n",
    "print(is_palindrome)"
   ]
  },
  {
   "cell_type": "markdown",
   "id": "d82c01f2-145d-4450-927e-42fc38738a29",
   "metadata": {},
   "source": [
    "3. Convert a string to uppercase."
   ]
  },
  {
   "cell_type": "code",
   "execution_count": 7,
   "id": "661d8bd6-c8c5-4cb4-bae9-4008575fb1e8",
   "metadata": {},
   "outputs": [
    {
     "name": "stdin",
     "output_type": "stream",
     "text": [
      "Enter the string : hello\n"
     ]
    },
    {
     "name": "stdout",
     "output_type": "stream",
     "text": [
      "HELLO\n"
     ]
    }
   ],
   "source": [
    "input_string3=input(\"Enter the string :\")\n",
    "uppercase_string3=input_string3.upper()\n",
    "\n",
    "print(uppercase_string3)"
   ]
  },
  {
   "cell_type": "markdown",
   "id": "63ff31ec-7e05-4a68-b40b-e325bf24678a",
   "metadata": {},
   "source": [
    "4. Convert a string to lowercase."
   ]
  },
  {
   "cell_type": "code",
   "execution_count": 8,
   "id": "7e2df32d-cefa-4b97-bd42-36b8b95f2e6b",
   "metadata": {},
   "outputs": [
    {
     "name": "stdin",
     "output_type": "stream",
     "text": [
      "Enter the string : HELLO\n"
     ]
    },
    {
     "name": "stdout",
     "output_type": "stream",
     "text": [
      "hello\n"
     ]
    }
   ],
   "source": [
    "input_string4=input(\"Enter the string :\")\n",
    "lowercase_string4=input_string4.lower()\n",
    "\n",
    "print(lowercase_string4)"
   ]
  },
  {
   "cell_type": "markdown",
   "id": "a4be2760-e65b-42ea-a1cd-0b2b798bd78b",
   "metadata": {},
   "source": [
    "5. Count the number of vowels in a string."
   ]
  },
  {
   "cell_type": "code",
   "execution_count": 17,
   "id": "9910c43e-25f6-412d-ac7d-b02c3032ed67",
   "metadata": {},
   "outputs": [
    {
     "name": "stdin",
     "output_type": "stream",
     "text": [
      "Enter the string: hi\n"
     ]
    },
    {
     "name": "stdout",
     "output_type": "stream",
     "text": [
      "1\n"
     ]
    }
   ],
   "source": [
    "input_string5 = input(\"Enter the string:\")\n",
    "\n",
    "def vowel_counter(str):\n",
    "    count = 0\n",
    "    for i in str:\n",
    "        if i in ('a', 'e', 'i', 'o', 'u', 'A', 'E', 'I', 'O', 'U'):\n",
    "            count += 1\n",
    "    return count\n",
    "\n",
    "v_num = vowel_counter(input_string5)\n",
    "print(v_num)\n"
   ]
  },
  {
   "cell_type": "markdown",
   "id": "75c90ef5-8676-4123-af43-49935f60671b",
   "metadata": {},
   "source": [
    "6. Count the number of consonants in a string."
   ]
  },
  {
   "cell_type": "code",
   "execution_count": 19,
   "id": "f7a8f40a-ea90-4d7a-b898-885d8fc22641",
   "metadata": {},
   "outputs": [
    {
     "name": "stdin",
     "output_type": "stream",
     "text": [
      "Enter the string: hello\n"
     ]
    },
    {
     "name": "stdout",
     "output_type": "stream",
     "text": [
      "3\n"
     ]
    }
   ],
   "source": [
    "input_string6 = input(\"Enter the string:\")\n",
    "\n",
    "def consonant_counter(str):\n",
    "    count = 0\n",
    "    for i in str:\n",
    "        if i not in ('a', 'e', 'i', 'o', 'u', 'A', 'E', 'I', 'O', 'U'):\n",
    "            count += 1\n",
    "    return count\n",
    "\n",
    "c_num = consonant_counter(input_string6)\n",
    "print(c_num)"
   ]
  },
  {
   "cell_type": "markdown",
   "id": "7176018b-97c5-4492-8e07-9bbc37c3a71a",
   "metadata": {},
   "source": [
    "7. Remove all whitespaces from a string."
   ]
  },
  {
   "cell_type": "code",
   "execution_count": 23,
   "id": "c16c05dc-53b2-487c-b5ed-4f824be348b3",
   "metadata": {},
   "outputs": [
    {
     "name": "stdin",
     "output_type": "stream",
     "text": [
      "Enter the string : hello world\n"
     ]
    },
    {
     "name": "stdout",
     "output_type": "stream",
     "text": [
      "helloworld\n"
     ]
    }
   ],
   "source": [
    "input_string7=input(\"Enter the string :\")\n",
    "temp_string7=\"\"\n",
    "\n",
    "for i in input_string7:\n",
    "    if i == \" \":\n",
    "        temp_string7+=\"\"\n",
    "    else : temp_string7+=i\n",
    "print(temp_string7)"
   ]
  },
  {
   "cell_type": "markdown",
   "id": "74a37268-3a26-44c5-9e1f-44dc91b5074f",
   "metadata": {},
   "source": [
    "8. Find the length of a string without using the `len()` function."
   ]
  },
  {
   "cell_type": "code",
   "execution_count": 24,
   "id": "e56e4d12-d2a2-4793-bd04-18cc0d6057d8",
   "metadata": {},
   "outputs": [
    {
     "name": "stdin",
     "output_type": "stream",
     "text": [
      "Enter the string : hello world\n"
     ]
    },
    {
     "name": "stdout",
     "output_type": "stream",
     "text": [
      "11\n"
     ]
    }
   ],
   "source": [
    "input_string8=input(\"Enter the string :\")\n",
    "length_string8=0\n",
    "for i in input_string8:\n",
    "    length_string8+=1\n",
    "print(length_string8)"
   ]
  },
  {
   "cell_type": "markdown",
   "id": "73ddf1ee-8a4a-4a5a-be4f-98b22383453a",
   "metadata": {},
   "source": [
    "9. Check if a string contains a specific word."
   ]
  },
  {
   "cell_type": "code",
   "execution_count": 26,
   "id": "1f635eb7-5bdd-490b-b199-010b76fc8e62",
   "metadata": {},
   "outputs": [
    {
     "name": "stdin",
     "output_type": "stream",
     "text": [
      "Enter the string : hello world\n",
      "Enter the word : or\n"
     ]
    },
    {
     "name": "stdout",
     "output_type": "stream",
     "text": [
      "True\n"
     ]
    }
   ],
   "source": [
    "input_string9=input(\"Enter the string :\")\n",
    "word9=input(\"Enter the word :\")\n",
    "\n",
    "def is_present(string,word):\n",
    "    if word in string:\n",
    "        return True\n",
    "    else : return False\n",
    "\n",
    "check=is_present(input_string9,word9)\n",
    "print(check)"
   ]
  },
  {
   "cell_type": "markdown",
   "id": "2efccc27-6403-4542-85e6-d6680a5d1b89",
   "metadata": {},
   "source": [
    "10. Replace a word in a string with another word."
   ]
  },
  {
   "cell_type": "code",
   "execution_count": 28,
   "id": "ee2e4ea6-845f-49f0-a681-4150c1ac4899",
   "metadata": {},
   "outputs": [
    {
     "name": "stdin",
     "output_type": "stream",
     "text": [
      "Enter the string: hello world\n",
      "Enter the word which has to be replaced: world\n",
      "Enter the word which needs to be inserted: globe!\n"
     ]
    },
    {
     "name": "stdout",
     "output_type": "stream",
     "text": [
      "hello globe!\n"
     ]
    }
   ],
   "source": [
    "string10 = input(\"Enter the string:\")\n",
    "word10 = input(\"Enter the word which has to be replaced:\")\n",
    "new_word10 = input(\"Enter the word which needs to be inserted:\")\n",
    "\n",
    "if word10 in string10:\n",
    "    string10 = string10.replace(word10, new_word10)\n",
    "else:\n",
    "    print(\"The word that you entered does not exist in the string\")\n",
    "\n",
    "print(string10)\n"
   ]
  },
  {
   "cell_type": "markdown",
   "id": "580efa1a-5250-4566-98e9-d292c53627a8",
   "metadata": {},
   "source": [
    "11. Count the occurrences of a word in a string."
   ]
  },
  {
   "cell_type": "code",
   "execution_count": 1,
   "id": "7b9386ba-9d6f-454e-8530-f895217ee74c",
   "metadata": {},
   "outputs": [
    {
     "name": "stdin",
     "output_type": "stream",
     "text": [
      "Enter the string: hello hello hello\n",
      "Enter the word to count: ll\n"
     ]
    },
    {
     "name": "stdout",
     "output_type": "stream",
     "text": [
      "The word 'll' appears 3 times in the string.\n"
     ]
    }
   ],
   "source": [
    "input_string11 = input(\"Enter the string:\")\n",
    "target_word11 = input(\"Enter the word to count:\")\n",
    "\n",
    "occurrences = input_string11.count(target_word11)\n",
    "print(f\"The word '{target_word11}' appears {occurrences} times in the string.\")\n"
   ]
  },
  {
   "cell_type": "markdown",
   "id": "a543e9f7-4d8c-4769-b1ef-7a76f6e389dc",
   "metadata": {},
   "source": [
    "12. Find the first occurrence of a word in a string."
   ]
  },
  {
   "cell_type": "code",
   "execution_count": 9,
   "id": "d2ee07f3-6353-4bff-8c4b-3f2dd4a2ea21",
   "metadata": {},
   "outputs": [
    {
     "name": "stdin",
     "output_type": "stream",
     "text": [
      "Enter the string : quick brown fox\n",
      "Enter the word for which occurrence has to be found: fox\n"
     ]
    },
    {
     "name": "stdout",
     "output_type": "stream",
     "text": [
      "The word 'fox' appears at 12 index.\n"
     ]
    }
   ],
   "source": [
    "input_string12= input(\"Enter the string :\")\n",
    "target_word12= input(\"Enter the word for which occurrence has to be found:\")\n",
    "\n",
    "occurrence12 = input_string12.index(target_word12)\n",
    "print(f\"The word '{target_word12}' appears at {occurrence12} index.\")"
   ]
  },
  {
   "cell_type": "markdown",
   "id": "f2ec0897-747c-44dd-ba0a-7d7a122ca593",
   "metadata": {},
   "source": [
    "13. Find the last occurrence of a word in a string."
   ]
  },
  {
   "cell_type": "code",
   "execution_count": 2,
   "id": "b505f646-03c0-4e66-8814-c4f46153fded",
   "metadata": {},
   "outputs": [
    {
     "name": "stdout",
     "output_type": "stream",
     "text": [
      "39\n"
     ]
    }
   ],
   "source": [
    "text13 = \"This is a test string. This is another test string.\"\n",
    "word13 = \"test\"\n",
    "\n",
    "index13 = text13.rfind(word13)\n",
    "\n",
    "print(index13)\n"
   ]
  },
  {
   "cell_type": "markdown",
   "id": "711f99ad-7fe1-45b8-a20c-9878d3817b4f",
   "metadata": {},
   "source": [
    "14. Split a string into a list of words."
   ]
  },
  {
   "cell_type": "code",
   "execution_count": 4,
   "id": "b0d53a4a-b2e2-4c36-8311-6949fad685b9",
   "metadata": {},
   "outputs": [
    {
     "name": "stdout",
     "output_type": "stream",
     "text": [
      "['This', 'is', 'a', 'test', 'string']\n"
     ]
    }
   ],
   "source": [
    "string13=\"This is a test string\"\n",
    "list_string13=string13.split()\n",
    "\n",
    "print(list_string13)"
   ]
  },
  {
   "cell_type": "markdown",
   "id": "1852eaa0-841a-4852-9d3d-257f0c61b698",
   "metadata": {},
   "source": [
    "15. Join a list of words into a string."
   ]
  },
  {
   "cell_type": "code",
   "execution_count": 12,
   "id": "d60200f6-5710-4f7e-8a2a-d31df3c2f783",
   "metadata": {},
   "outputs": [
    {
     "name": "stdout",
     "output_type": "stream",
     "text": [
      "This is a test string \n"
     ]
    }
   ],
   "source": [
    "list15=[\"This\",\"is\",\"a\",\"test\",\"string\"]\n",
    "string15=\"\"\n",
    "\n",
    "for i in list15:\n",
    "    string15+=i+\" \"\n",
    "    \n",
    "print(string15)"
   ]
  },
  {
   "cell_type": "markdown",
   "id": "9808e29c-b3c5-4b56-9ca9-57fa0fb1dd3a",
   "metadata": {},
   "source": [
    "16. Convert a string where words are separated by spaces to one where words\n",
    "are separated by underscores."
   ]
  },
  {
   "cell_type": "code",
   "execution_count": 17,
   "id": "a5aa8c7e-c4a0-4174-a3c4-6fd734999c83",
   "metadata": {},
   "outputs": [
    {
     "name": "stdout",
     "output_type": "stream",
     "text": [
      "This_a_test_string\n"
     ]
    }
   ],
   "source": [
    "string16=\"This a test string\"\n",
    "\n",
    "string16=string16.replace(\" \",\"_\")\n",
    "print(string16)"
   ]
  },
  {
   "cell_type": "markdown",
   "id": "6b9ebdf0-d516-424e-92a3-c5c1b0514f3a",
   "metadata": {},
   "source": [
    "17. Check if a string starts with a specific word or phrase."
   ]
  },
  {
   "cell_type": "code",
   "execution_count": 20,
   "id": "ef1acac9-557a-4ef4-a023-ef93814abb81",
   "metadata": {},
   "outputs": [
    {
     "name": "stdout",
     "output_type": "stream",
     "text": [
      "The string starts with the word \"This\".\n"
     ]
    }
   ],
   "source": [
    "string17 = \"This is a test string.\"\n",
    "\n",
    "substring17 = \"This\"\n",
    "\n",
    "if string17.startswith(substring17):\n",
    "  print(\"The string starts with the word \\\"This\\\".\")\n",
    "else:\n",
    "  print(\"The string does not start with the word \\\"This\\\".\")"
   ]
  },
  {
   "cell_type": "markdown",
   "id": "76da9555-38d7-4027-b21e-7e4b900514bf",
   "metadata": {},
   "source": [
    "18. Check if a string ends with a specific word or phrase."
   ]
  },
  {
   "cell_type": "code",
   "execution_count": 24,
   "id": "9e4bf59f-ca9d-4787-9dee-648b34fa425d",
   "metadata": {},
   "outputs": [
    {
     "name": "stdout",
     "output_type": "stream",
     "text": [
      "The string ends with the,'string'.\n"
     ]
    }
   ],
   "source": [
    "string18 = \"This is a test string\"\n",
    "\n",
    "substring18=\"string\"\n",
    "\n",
    "if string18.endswith(substring18):\n",
    "    print(f\"The string ends with the,'{substring18}'.\")\n",
    "else :\n",
    "    print(f\"The string doesn't ends with the,'{substring18}'.\")"
   ]
  },
  {
   "cell_type": "markdown",
   "id": "1b68f43a-894e-494a-9f64-a0aef8c7d706",
   "metadata": {},
   "source": [
    "19. Convert a string to title case (e.g., \"hello world\" to \"Hello World\")."
   ]
  },
  {
   "cell_type": "code",
   "execution_count": 25,
   "id": "74438970-865e-4961-8641-deb6c8758adc",
   "metadata": {},
   "outputs": [
    {
     "name": "stdout",
     "output_type": "stream",
     "text": [
      "Hello World\n"
     ]
    }
   ],
   "source": [
    "string19=\"hello world\"\n",
    "string19=string19.title()\n",
    "print(string19)"
   ]
  },
  {
   "cell_type": "markdown",
   "id": "4fdfad91-0fc5-4ece-b375-a460ab328001",
   "metadata": {},
   "source": [
    "20. Find the longest word in a string."
   ]
  },
  {
   "cell_type": "code",
   "execution_count": 3,
   "id": "2e210397-54d2-4180-a068-b2d5197bff47",
   "metadata": {},
   "outputs": [
    {
     "name": "stdout",
     "output_type": "stream",
     "text": [
      "string\n"
     ]
    }
   ],
   "source": [
    "string20=\"This is a test string\"\n",
    "list20=string20.split()\n",
    "max_len=0\n",
    "\n",
    "for i in list20:\n",
    "    if(len(i)>max_len):\n",
    "        max_len=len(i)\n",
    "        longest_word=i\n",
    "print(longest_word)"
   ]
  },
  {
   "cell_type": "markdown",
   "id": "4845d3ac-4773-4311-95fb-188b0498b9cb",
   "metadata": {},
   "source": [
    "21. Find the shortest word in a string."
   ]
  },
  {
   "cell_type": "code",
   "execution_count": 1,
   "id": "2276cc75-ad9e-427c-8924-7dbbe755100c",
   "metadata": {},
   "outputs": [
    {
     "name": "stdout",
     "output_type": "stream",
     "text": [
      "a\n"
     ]
    }
   ],
   "source": [
    "string21=\"This is a test string\"\n",
    "list21=string21.split()\n",
    "min_len=100\n",
    "min_len_element=\"\"\n",
    "for i in list21:\n",
    "    if len(i)<min_len:\n",
    "        min_len=len(i)\n",
    "        min_len_element=i\n",
    "print(min_len_element)"
   ]
  },
  {
   "cell_type": "markdown",
   "id": "94859fbd-a6f2-46e6-b345-325b63fdf192",
   "metadata": {},
   "source": [
    "22. Reverse the order of words in a string."
   ]
  },
  {
   "cell_type": "code",
   "execution_count": 6,
   "id": "06bf0898-4f87-4011-be7b-7993b9a9b9e5",
   "metadata": {},
   "outputs": [
    {
     "name": "stdout",
     "output_type": "stream",
     "text": [
      "['string', 'test', 'a', 'is', 'This']\n"
     ]
    }
   ],
   "source": [
    "string22=\"This is a test string\"\n",
    "list22=string22.split()\n",
    "temp_list22=list22[::-1]\n",
    "print(temp_list22)"
   ]
  },
  {
   "cell_type": "markdown",
   "id": "c407a47d-17fc-4a8e-ac60-25fb44a9f706",
   "metadata": {},
   "source": [
    "23. Check if a string is alphanumeric."
   ]
  },
  {
   "cell_type": "code",
   "execution_count": 1,
   "id": "2c1fca2e-2319-4c5f-836b-b49e66344a49",
   "metadata": {},
   "outputs": [
    {
     "name": "stdout",
     "output_type": "stream",
     "text": [
      "The string is alphanumeric: True\n"
     ]
    }
   ],
   "source": [
    "def is_alphanumeric(string):\n",
    "  for character in string:\n",
    "    if not character.isalnum():\n",
    "      return False\n",
    "\n",
    "  return True\n",
    "\n",
    "\n",
    "string23 = \"ThisIsAlphanumericString\"\n",
    "\n",
    "is_alphanumeric_string = is_alphanumeric(string23)\n",
    "\n",
    "print(\"The string is alphanumeric:\", is_alphanumeric_string)"
   ]
  },
  {
   "cell_type": "markdown",
   "id": "90d40cc7-29c9-4de9-ae55-f71f8d337bab",
   "metadata": {},
   "source": [
    "24. Extract all digits from a string."
   ]
  },
  {
   "cell_type": "code",
   "execution_count": 5,
   "id": "af074a5c-7af3-4219-ac62-2f38d362926c",
   "metadata": {},
   "outputs": [
    {
     "name": "stdout",
     "output_type": "stream",
     "text": [
      "['123', '123']\n"
     ]
    }
   ],
   "source": [
    "string24=\"This is a test string 123\"\n",
    "list24=string24.split()\n",
    "digit_list24=[]\n",
    "\n",
    "for i in list24:\n",
    "    if i.isdigit():\n",
    "        digit_list.append(i)\n",
    "        \n",
    "print(digit_list)"
   ]
  },
  {
   "cell_type": "markdown",
   "id": "5ef32b60-a56e-46de-b0f1-85b4441833f6",
   "metadata": {},
   "source": [
    "25. Extract all alphabets from a string."
   ]
  },
  {
   "cell_type": "code",
   "execution_count": 7,
   "id": "73912cc6-9970-47a1-b1c3-12ddb03e0feb",
   "metadata": {},
   "outputs": [
    {
     "name": "stdout",
     "output_type": "stream",
     "text": [
      "['This', 'over', 'here', 'is', 'a', 'test', 'string']\n"
     ]
    }
   ],
   "source": [
    "string25=\"1234 This over 34 here is 9797 a 3 test string\"\n",
    "list25=string25.split()\n",
    "digit_list25=[]\n",
    "\n",
    "for i in list25:\n",
    "    if i.isalpha():\n",
    "        digit_list25.append(i)\n",
    "        \n",
    "print(digit_list25)"
   ]
  },
  {
   "cell_type": "markdown",
   "id": "4f2cf58e-1566-4a61-b987-5144f8d17b10",
   "metadata": {},
   "source": [
    "26. Count the number of uppercase letters in a string."
   ]
  },
  {
   "cell_type": "code",
   "execution_count": 10,
   "id": "fe297f03-1181-4de1-bcb9-81a3a49a7f38",
   "metadata": {},
   "outputs": [
    {
     "name": "stdout",
     "output_type": "stream",
     "text": [
      "5\n"
     ]
    }
   ],
   "source": [
    "def count_uppercase_letter(string):\n",
    "    count=0\n",
    "    for letter in string:\n",
    "        if letter.isupper():\n",
    "            count+=1\n",
    "    \n",
    "    return count\n",
    "\n",
    "string26=\"This Is A Test String\"\n",
    "\n",
    "upper_case_letters=count_uppercase_letter(string26)\n",
    "\n",
    "print(upper_case_letters)"
   ]
  },
  {
   "cell_type": "markdown",
   "id": "33a4964f-91a5-48d6-a6ed-a090867e6b1d",
   "metadata": {},
   "source": [
    "27. Count the number of lowercase letters in a string."
   ]
  },
  {
   "cell_type": "code",
   "execution_count": 13,
   "id": "f934a82e-b6cf-437f-96c4-5d549b3183fa",
   "metadata": {},
   "outputs": [
    {
     "name": "stdout",
     "output_type": "stream",
     "text": [
      "16\n"
     ]
    }
   ],
   "source": [
    "def count_lowercase_letter(string):\n",
    "    count=0\n",
    "    for letter in string:\n",
    "        if letter.islower():\n",
    "            count+=1\n",
    "    return count\n",
    "\n",
    "string27=\"This is a test string\"\n",
    "\n",
    "lower_case_letters=count_lowercase_letter(string27)\n",
    "\n",
    "print(lower_case_letters)"
   ]
  },
  {
   "cell_type": "markdown",
   "id": "97913dcf-5efc-4841-aefe-adedfd619add",
   "metadata": {},
   "source": [
    "28. Swap the case of each character in a string."
   ]
  },
  {
   "cell_type": "code",
   "execution_count": 15,
   "id": "496de4ce-2653-4443-b2f4-320d5e35953e",
   "metadata": {},
   "outputs": [
    {
     "name": "stdout",
     "output_type": "stream",
     "text": [
      "tHIS IS A TEST STRING\n"
     ]
    }
   ],
   "source": [
    "string28=\"This is a test string\"\n",
    "string28=string28.swapcase()\n",
    "print(string28)"
   ]
  },
  {
   "cell_type": "markdown",
   "id": "f6c04ef1-10eb-445f-8ee0-466dcf27575a",
   "metadata": {},
   "source": [
    "29. Remove a specific word from a string."
   ]
  },
  {
   "cell_type": "code",
   "execution_count": 22,
   "id": "d40645c4-3ee5-488e-a731-4500421e3706",
   "metadata": {},
   "outputs": [
    {
     "name": "stdout",
     "output_type": "stream",
     "text": [
      "This is a string\n"
     ]
    }
   ],
   "source": [
    "string29=\"This is a test string\"\n",
    "string29=string29.replace(\"test \",\"\")\n",
    "print(string29)"
   ]
  },
  {
   "cell_type": "markdown",
   "id": "cb2e0a5b-23d5-430d-a124-8dca90ce34cb",
   "metadata": {},
   "source": [
    "30. Check if a string is a valid email address."
   ]
  },
  {
   "cell_type": "code",
   "execution_count": 10,
   "id": "17ae14a3-7f2a-4661-80da-0803d3881188",
   "metadata": {},
   "outputs": [
    {
     "name": "stdout",
     "output_type": "stream",
     "text": [
      "The email address is valid: True\n"
     ]
    }
   ],
   "source": [
    "def is_valid_email(email):\n",
    "    \n",
    "  parts = email.split(\"@\")\n",
    "\n",
    "  if len(parts) != 2:\n",
    "    return False\n",
    "\n",
    "  username = parts[0]\n",
    "  domain = parts[1]\n",
    "\n",
    "  if not username.isalnum() or not domain[0:-5].isalnum():\n",
    "    return False\n",
    "\n",
    "  if not domain.endswith(\".com\"):\n",
    "    return False\n",
    "\n",
    "  return True\n",
    "\n",
    "\n",
    "email = \"test@gmail.com\"\n",
    "\n",
    "is_valid_email = is_valid_email(email)\n",
    "\n",
    "print(\"The email address is valid:\", is_valid_email)\n"
   ]
  },
  {
   "cell_type": "markdown",
   "id": "94e35bb8-489b-4145-a45f-57e7d59f535f",
   "metadata": {},
   "source": [
    "31. Extract the username from an email address string."
   ]
  },
  {
   "cell_type": "code",
   "execution_count": 8,
   "id": "454f297f-72e7-48c3-a752-693cba6fdc66",
   "metadata": {},
   "outputs": [
    {
     "name": "stdout",
     "output_type": "stream",
     "text": [
      "test31\n"
     ]
    }
   ],
   "source": [
    "email31=\"test31@gmail.com\"\n",
    "username31=email31.split(\"@\")[0]\n",
    "print(username31)"
   ]
  },
  {
   "cell_type": "markdown",
   "id": "c9160b55-73b2-4171-9dea-592a941ad14b",
   "metadata": {},
   "source": [
    "32. Extract the domain name from an email address string."
   ]
  },
  {
   "cell_type": "code",
   "execution_count": 10,
   "id": "a3fb2e48-a41c-42a5-9fe4-a236545bf2b0",
   "metadata": {},
   "outputs": [
    {
     "name": "stdout",
     "output_type": "stream",
     "text": [
      "gmail.com\n"
     ]
    }
   ],
   "source": [
    "string32=\"test32@gmail.com\"\n",
    "domainname=string32.split(\"@\")[1]\n",
    "print(domainname)"
   ]
  },
  {
   "cell_type": "markdown",
   "id": "ef4ea9a3-4183-4531-87ac-4ce93138f187",
   "metadata": {},
   "source": [
    "33. Replace multiple spaces in a string with a single space."
   ]
  },
  {
   "cell_type": "code",
   "execution_count": 10,
   "id": "91a4bfb0-4650-4944-be30-9eb788815ecc",
   "metadata": {},
   "outputs": [
    {
     "name": "stdout",
     "output_type": "stream",
     "text": [
      "This is a test string.\n"
     ]
    }
   ],
   "source": [
    "string33=\"This is  a test    string.\"\n",
    "list33=string33.split()\n",
    "string33=\" \".join(list33)\n",
    "print(string33)"
   ]
  },
  {
   "cell_type": "markdown",
   "id": "de2f67e8-d70a-4f0b-a9fe-7b1862e76ac1",
   "metadata": {},
   "source": [
    "34. Check if a string is a valid URL."
   ]
  },
  {
   "cell_type": "code",
   "execution_count": 33,
   "id": "dfeab618-19fd-4923-90e2-29d15306745a",
   "metadata": {},
   "outputs": [
    {
     "name": "stdout",
     "output_type": "stream",
     "text": [
      "True\n"
     ]
    }
   ],
   "source": [
    "def is_valid_url(url):\n",
    "  domain_name=\"\"\n",
    "\n",
    "  if url.startswith('https://'):\n",
    "        if url.endswith('.com'):\n",
    "                if \" \" not in url:\n",
    "                    return True\n",
    "                else: return False\n",
    "        else: return False\n",
    "    \n",
    "  elif (url.startswith('http://')):\n",
    "        if url.endswith('.com'):\n",
    "                if \" \" not in url:\n",
    "                    return True\n",
    "                else: return False\n",
    "        else: return False\n",
    "    \n",
    "  else: return False\n",
    "\n",
    "url34 = 'https://www.google.com'\n",
    "print(is_valid_url(url34))\n"
   ]
  },
  {
   "cell_type": "markdown",
   "id": "ee514a22-5571-40fa-9917-72f659959cce",
   "metadata": {},
   "source": [
    "35. Extract the protocol (http or https) from a URL string."
   ]
  },
  {
   "cell_type": "code",
   "execution_count": 35,
   "id": "cf7c7d36-6324-4fd6-9bcf-32bb8d5674db",
   "metadata": {},
   "outputs": [
    {
     "name": "stdout",
     "output_type": "stream",
     "text": [
      "https\n"
     ]
    }
   ],
   "source": [
    "string35=\"https://www.google.com\"\n",
    "def protocol_extractor(string):\n",
    "    if is_valid_url(string):\n",
    "        if string.startswith(\"https\"):\n",
    "            protocol=\"https\"\n",
    "        else: protocol=\"http\"\n",
    "        return protocol\n",
    "    else: return false\n",
    "result=protocol_extractor(string35)\n",
    "print(result)"
   ]
  },
  {
   "cell_type": "markdown",
   "id": "c7c2c1bf-ecb5-47bf-ab3a-065220d7eba9",
   "metadata": {},
   "source": [
    "36. Find the frequency of each character in a string."
   ]
  },
  {
   "cell_type": "code",
   "execution_count": 37,
   "id": "69f01fe4-bc52-4567-bbce-8cb08642670e",
   "metadata": {},
   "outputs": [
    {
     "name": "stdout",
     "output_type": "stream",
     "text": [
      "3\n"
     ]
    }
   ],
   "source": [
    "string36=\"Brown fox had a Brown leg and Brown eyes.\"\n",
    "frequency_counter=string36.count(\"Brown\")\n",
    "print(frequency_counter)"
   ]
  },
  {
   "cell_type": "markdown",
   "id": "7c77c564-da7e-4955-86e9-5f436d06f5d0",
   "metadata": {},
   "source": [
    "37. Remove all punctuation from a string."
   ]
  },
  {
   "cell_type": "code",
   "execution_count": 38,
   "id": "ed27417f-bed3-4db0-b821-4eaf0755af1c",
   "metadata": {},
   "outputs": [
    {
     "name": "stdout",
     "output_type": "stream",
     "text": [
      "This is a test\n"
     ]
    }
   ],
   "source": [
    "def remove_punctuation(text):\n",
    "  punctuation = \"!?.,;:'\\\"()<>/\"\n",
    "  return ''.join(ch for ch in text if ch not in punctuation)\n",
    "\n",
    "print(remove_punctuation(\"This is a test!\"))\n"
   ]
  },
  {
   "cell_type": "markdown",
   "id": "89e30d50-3cd5-4882-9121-9ee9109aa3b9",
   "metadata": {},
   "source": [
    "38. Check if a string contains only digits."
   ]
  },
  {
   "cell_type": "code",
   "execution_count": 42,
   "id": "c491fb00-ff3e-4880-b9fc-fb3dedf6b659",
   "metadata": {},
   "outputs": [
    {
     "name": "stdout",
     "output_type": "stream",
     "text": [
      "True\n"
     ]
    }
   ],
   "source": [
    "def digit_checker(string):\n",
    "    if string.isdigit():\n",
    "        return True\n",
    "    else: return False\n",
    "\n",
    "string38=\"875048\"\n",
    "result38=digit_checker(string38)\n",
    "print(result38)"
   ]
  },
  {
   "cell_type": "markdown",
   "id": "c080dad5-270f-4d32-bee4-1a873b5c9515",
   "metadata": {},
   "source": [
    "39. Check if a string contains only alphabets."
   ]
  },
  {
   "cell_type": "code",
   "execution_count": 45,
   "id": "f3210350-86f4-4ca8-b317-68fb37f4ec14",
   "metadata": {},
   "outputs": [
    {
     "name": "stdout",
     "output_type": "stream",
     "text": [
      "True\n"
     ]
    }
   ],
   "source": [
    "def alphabet_checker(string):\n",
    "    if string.isalpha():\n",
    "        return True\n",
    "    else: return False\n",
    "\n",
    "string39=\"Thisisastring\"\n",
    "result39=alphabet_checker(string39)\n",
    "print(result39)"
   ]
  },
  {
   "cell_type": "markdown",
   "id": "3c026950-ee4b-4ce5-ba3e-88b04161d426",
   "metadata": {},
   "source": [
    "40. Convert a string to a list of characters."
   ]
  },
  {
   "cell_type": "code",
   "execution_count": 52,
   "id": "fc4ea851-c8ff-455f-b921-e2ab29d57a0e",
   "metadata": {},
   "outputs": [
    {
     "name": "stdout",
     "output_type": "stream",
     "text": [
      "['H', 'e', 'l', 'l', 'o', ',', ' ', 'w', 'o', 'r', 'l', 'd', '!']\n"
     ]
    }
   ],
   "source": [
    "def string_to_list(string):\n",
    "    return list(string)\n",
    "\n",
    "\n",
    "string = \"Hello, world!\"\n",
    "list_of_characters = string_to_list(string)\n",
    "\n",
    "print(list_of_characters)\n"
   ]
  },
  {
   "cell_type": "markdown",
   "id": "7ec1c24d-f7bb-4efe-a954-b3b6ef047a3d",
   "metadata": {},
   "source": [
    "41. Check if two strings are anagrams."
   ]
  },
  {
   "cell_type": "code",
   "execution_count": 5,
   "id": "6e9711eb-8f9d-4240-b0af-4e4b65da23ee",
   "metadata": {},
   "outputs": [
    {
     "name": "stdout",
     "output_type": "stream",
     "text": [
      "True\n"
     ]
    }
   ],
   "source": [
    "def are_anagrams(str1, str2):\n",
    "\n",
    "    str1 = str1.replace(\" \", \"\").lower()\n",
    "    str2 = str2.replace(\" \", \"\").lower()\n",
    "\n",
    "    return sorted(str1) == sorted(str2)\n",
    "\n",
    "string1 = \"Listen\"\n",
    "string2 = \"Silent\"\n",
    "print(are_anagrams(string1, string2))\n"
   ]
  },
  {
   "cell_type": "markdown",
   "id": "b752a7b4-4c7a-48b1-b9d6-b11855248c44",
   "metadata": {},
   "source": [
    "42. Encode a string using a Caesar cipher."
   ]
  },
  {
   "cell_type": "code",
   "execution_count": 7,
   "id": "3ef362bf-c450-4f43-ba41-c52cd5cbb58e",
   "metadata": {},
   "outputs": [
    {
     "name": "stdin",
     "output_type": "stream",
     "text": [
      "Enter the plaintext:  hello\n",
      "Enter the shift value:  6\n"
     ]
    },
    {
     "name": "stdout",
     "output_type": "stream",
     "text": [
      "Encrypted text: nkrru\n"
     ]
    }
   ],
   "source": [
    "def caesar_cipher_encrypt(text, shift):\n",
    "    encrypted_text = \"\"\n",
    "    for char in text:\n",
    "        if char.isalpha():\n",
    "            ascii_offset = 65 if char.isupper() else 97\n",
    "            encrypted_char = chr((ord(char) - ascii_offset + shift) % 26 + ascii_offset)\n",
    "            encrypted_text += encrypted_char\n",
    "        else:\n",
    "            encrypted_text += char\n",
    "    return encrypted_text\n",
    "\n",
    "# Input the text and the shift value\n",
    "plaintext = input(\"Enter the plaintext: \")\n",
    "shift = int(input(\"Enter the shift value: \"))\n",
    "\n",
    "# Encrypt the plaintext using the Caesar cipher\n",
    "encrypted_text = caesar_cipher_encrypt(plaintext, shift)\n",
    "print(\"Encrypted text:\", encrypted_text)\n"
   ]
  },
  {
   "cell_type": "markdown",
   "id": "13b86ce4-5869-48e3-80ec-5f93a6f70969",
   "metadata": {},
   "source": [
    "43. Decode a Caesar cipher encoded string."
   ]
  },
  {
   "cell_type": "code",
   "execution_count": 8,
   "id": "81d8ad45-ad38-40e3-8091-87ae1c00efa0",
   "metadata": {},
   "outputs": [
    {
     "name": "stdin",
     "output_type": "stream",
     "text": [
      "Enter the encrypted text:  nkrru\n",
      "Enter the shift value:  6\n"
     ]
    },
    {
     "name": "stdout",
     "output_type": "stream",
     "text": [
      "Decrypted text: hello\n"
     ]
    }
   ],
   "source": [
    "def caesar_cipher_decrypt(encrypted_text, shift):\n",
    "    decrypted_text = \"\"\n",
    "    for char in encrypted_text:\n",
    "        if char.isalpha():\n",
    "            ascii_offset = 65 if char.isupper() else 97\n",
    "            decrypted_char = chr((ord(char) - ascii_offset - shift) % 26 + ascii_offset)\n",
    "            decrypted_text += decrypted_char\n",
    "        else:\n",
    "            decrypted_text += char\n",
    "    return decrypted_text\n",
    "\n",
    "encrypted_text = input(\"Enter the encrypted text: \")\n",
    "shift = int(input(\"Enter the shift value: \"))\n",
    "\n",
    "decrypted_text = caesar_cipher_decrypt(encrypted_text, shift)\n",
    "print(\"Decrypted text:\", decrypted_text)\n"
   ]
  },
  {
   "cell_type": "markdown",
   "id": "96b0f1eb-4c5a-46fb-94e7-33a84e5af9f9",
   "metadata": {},
   "source": [
    "44. Find the most frequent word in a string."
   ]
  },
  {
   "cell_type": "code",
   "execution_count": null,
   "id": "1e34e858-3da9-4394-b591-61d8a1157385",
   "metadata": {},
   "outputs": [],
   "source": [
    "def most_frequent_word(text):\n",
    "\n",
    "    cleaned_text = ''.join([c.lower() if c.isalnum() or c.isspace() else ' ' for c in text])\n",
    "    \n",
    "\n",
    "    words = cleaned_text.split()\n",
    "    \n",
    "\n",
    "    word_frequency = {}\n",
    "    for word in words:\n",
    "        if word in word_frequency:\n",
    "            word_frequency[word] += 1\n",
    "        else:\n",
    "            word_frequency[word] = 1\n",
    "    \n",
    "\n",
    "    most_frequent = max(word_frequency, key=word_frequency.get)\n",
    "    \n",
    "    return most_frequent, word_frequency[most_frequent]\n",
    "\n",
    "\n",
    "input_text = \"This is a sample string. This string is just a sample.\"\n",
    "result_word, frequency = most_frequent_word(input_text)\n",
    "print(f\"The most frequent word is '{result_word}' with a frequency of {frequency}\")\n"
   ]
  },
  {
   "cell_type": "markdown",
   "id": "eca20247-d322-4315-8cc1-962658d6a40a",
   "metadata": {},
   "source": [
    "45. Find all unique words in a string."
   ]
  },
  {
   "cell_type": "code",
   "execution_count": 9,
   "id": "f52d3334-e7e9-424a-bd64-8aa1fed02584",
   "metadata": {},
   "outputs": [
    {
     "name": "stdout",
     "output_type": "stream",
     "text": [
      "{'sentence.', 'contains', 'sentence', 'some', 'words.', 'a', 'is', 'This', 'sample'}\n"
     ]
    }
   ],
   "source": [
    "def find_unique_words(input_string):\n",
    "    words = input_string.split()\n",
    "    unique_words = set(words)\n",
    "    \n",
    "    return unique_words\n",
    "\n",
    "input_string = \"This is a sample sentence. This sentence contains some words.\"\n",
    "unique_words = find_unique_words(input_string)\n",
    "print(unique_words)\n"
   ]
  },
  {
   "cell_type": "markdown",
   "id": "88dea042-77c3-4da7-a11b-e6a507b3e989",
   "metadata": {},
   "source": [
    "46. Count the number of syllables in a string."
   ]
  },
  {
   "cell_type": "code",
   "execution_count": 10,
   "id": "bf7b3666-4446-4996-9e11-ac2e86f44165",
   "metadata": {},
   "outputs": [
    {
     "name": "stdout",
     "output_type": "stream",
     "text": [
      "The word 'syllables' has 2 syllable(s).\n"
     ]
    }
   ],
   "source": [
    "def count_syllables(word):\n",
    "    word = word.lower()\n",
    "    if word == \"\":  # Empty word has 0 syllables\n",
    "        return 0\n",
    "\n",
    "    # Count vowels (not counting consecutive vowels as separate syllables)\n",
    "    vowels = \"aeiou\"\n",
    "    num_syllables = 0\n",
    "    prev_char = None\n",
    "\n",
    "    for char in word:\n",
    "        if char in vowels and (prev_char is None or prev_char not in vowels):\n",
    "            num_syllables += 1\n",
    "        prev_char = char\n",
    "\n",
    "    # Remove \"e\" from the end (silent e)\n",
    "    if word.endswith(\"e\"):\n",
    "        num_syllables -= 1\n",
    "\n",
    "    # At least one syllable for every word\n",
    "    num_syllables = max(1, num_syllables)\n",
    "\n",
    "    return num_syllables\n",
    "\n",
    "input_word = \"syllables\"\n",
    "syllable_count = count_syllables(input_word)\n",
    "print(f\"The word '{input_word}' has {syllable_count} syllable(s).\")\n"
   ]
  },
  {
   "cell_type": "markdown",
   "id": "2098f2d1-5d71-4e30-aa0f-b0bde5fbf6a8",
   "metadata": {},
   "source": [
    "47. Check if a string contains any special characters."
   ]
  },
  {
   "cell_type": "code",
   "execution_count": 11,
   "id": "9c2c8341-7d3a-43aa-825e-89d724cbbe8c",
   "metadata": {},
   "outputs": [
    {
     "name": "stdout",
     "output_type": "stream",
     "text": [
      "The string contains special characters.\n"
     ]
    }
   ],
   "source": [
    "def contains_special_characters(input_string):\n",
    "    special_characters = \"!@#$%^&*()_+{}|:\\\"<>?`-=[];',./\"\n",
    "    for char in input_string:\n",
    "        if char in special_characters:\n",
    "            return True\n",
    "    return False\n",
    "\n",
    "input_string = \"Hello! How are you?\"\n",
    "if contains_special_characters(input_string):\n",
    "    print(\"The string contains special characters.\")\n",
    "else:\n",
    "    print(\"The string does not contain special characters.\")\n"
   ]
  },
  {
   "cell_type": "markdown",
   "id": "b88221b9-5e88-42a8-9ac7-53edff8b037c",
   "metadata": {},
   "source": [
    "48. Remove the nth word from a string."
   ]
  },
  {
   "cell_type": "code",
   "execution_count": 14,
   "id": "41565fda-8b87-4d79-bae7-82eb8a996697",
   "metadata": {},
   "outputs": [
    {
     "name": "stdout",
     "output_type": "stream",
     "text": [
      "This is sample sentence.\n"
     ]
    }
   ],
   "source": [
    "def remove_nth_word(input_string, n):\n",
    "    words = input_string.split()\n",
    "    \n",
    "    if 1 <= n <= len(words):\n",
    "        del words[n - 1]\n",
    "        return ' '.join(words)\n",
    "    else:\n",
    "        return input_string\n",
    "\n",
    "input_string = \"This is a sample sentence.\"\n",
    "n = 3  # Remove the third word\n",
    "\n",
    "result_string = remove_nth_word(input_string, n)\n",
    "print(result_string)\n"
   ]
  },
  {
   "cell_type": "markdown",
   "id": "c95a085a-8b50-4500-9586-dce269cf1276",
   "metadata": {},
   "source": [
    "49. Insert a word at the nth position in a string."
   ]
  },
  {
   "cell_type": "code",
   "execution_count": 16,
   "id": "cf7cf13e-366e-47c0-ab66-33be331c54ed",
   "metadata": {},
   "outputs": [
    {
     "name": "stdout",
     "output_type": "stream",
     "text": [
      "This is sample a sentence.\n"
     ]
    }
   ],
   "source": [
    "def insert_word_at_nth_position(input_string, word_to_insert, n):\n",
    "    words = input_string.split()\n",
    "    \n",
    "    if 0 <= n <= len(words):\n",
    "        words.insert(n, word_to_insert)\n",
    "        return ' '.join(words)\n",
    "    else:\n",
    "        return input_string\n",
    "\n",
    "input_string = \"This is a sentence.\"\n",
    "word_to_insert = \"sample\"\n",
    "n = 2  # Insert at the third position (0-based index)\n",
    "\n",
    "result_string = insert_word_at_nth_position(input_string, word_to_insert, n)\n",
    "print(result_string)"
   ]
  },
  {
   "cell_type": "markdown",
   "id": "841c9a6a-d656-4622-b4d3-6e880ae3509b",
   "metadata": {},
   "source": [
    "50. Convert a CSV string to a list of lists."
   ]
  },
  {
   "cell_type": "code",
   "execution_count": 17,
   "id": "ebb758a7-9134-48b0-b63c-748c84ad6668",
   "metadata": {},
   "outputs": [
    {
     "name": "stdout",
     "output_type": "stream",
     "text": [
      "[['1', 'John', 'Doe'], ['2', 'Jane', 'Smith'], ['3', 'Robert', 'Johnson']]\n"
     ]
    }
   ],
   "source": [
    "csv_string = \"1,John,Doe\\n2,Jane,Smith\\n3,Robert,Johnson\"\n",
    "\n",
    "# Convert CSV string to a list of lists\n",
    "csv_list = []\n",
    "\n",
    "rows = csv_string.split('\\n')\n",
    "for row in rows:\n",
    "    if row:\n",
    "        csv_list.append(row.split(','))\n",
    "\n",
    "print(csv_list)"
   ]
  },
  {
   "cell_type": "markdown",
   "id": "3016f036-0c93-4d6e-b0d8-6b4d9ea23db2",
   "metadata": {},
   "source": [
    "TOPIC : List Based Practice Problem"
   ]
  },
  {
   "cell_type": "markdown",
   "id": "de84e29b-aa9f-4250-b66f-cbb3fe19f89d",
   "metadata": {},
   "source": [
    "1. Create a list with integers from 1 to 10."
   ]
  },
  {
   "cell_type": "code",
   "execution_count": 2,
   "id": "e60a1ca7-d601-49aa-b329-915662555549",
   "metadata": {},
   "outputs": [
    {
     "name": "stdout",
     "output_type": "stream",
     "text": [
      "[1, 2, 3, 4, 5, 6, 7, 8, 9, 10]\n"
     ]
    }
   ],
   "source": [
    "list1=[]\n",
    "for i in range(1,11):\n",
    "    list1.append(i)\n",
    "print(list1)"
   ]
  },
  {
   "cell_type": "markdown",
   "id": "6f996380-7a58-40f2-a092-c2a0f8851e13",
   "metadata": {},
   "source": [
    "2. Find the length of a list without using the `len()` function."
   ]
  },
  {
   "cell_type": "code",
   "execution_count": 3,
   "id": "edb2708b-9cf7-4a5d-9409-01a91568563c",
   "metadata": {},
   "outputs": [
    {
     "name": "stdout",
     "output_type": "stream",
     "text": [
      "10\n"
     ]
    }
   ],
   "source": [
    "list_length=0\n",
    "for char in list1:\n",
    "    list_length+=1\n",
    "print(list_length)"
   ]
  },
  {
   "cell_type": "markdown",
   "id": "3e72d741-1f13-498e-9aee-533a0fb8505e",
   "metadata": {},
   "source": [
    "3. Append an element to the end of a list."
   ]
  },
  {
   "cell_type": "code",
   "execution_count": 4,
   "id": "b1c2551c-c950-4391-8bab-a5a20fd586ce",
   "metadata": {},
   "outputs": [
    {
     "name": "stdout",
     "output_type": "stream",
     "text": [
      "[1, 2, 3, 4, 5, 6, 7, 8, 9, 10, 11]\n"
     ]
    }
   ],
   "source": [
    "list1.append(11)\n",
    "print(list1)"
   ]
  },
  {
   "cell_type": "markdown",
   "id": "a33cef23-59d1-4579-b95d-8395f1e3d01b",
   "metadata": {},
   "source": [
    "4. Insert an element at a specific index in a list."
   ]
  },
  {
   "cell_type": "code",
   "execution_count": 5,
   "id": "2f6e97b9-ce20-4616-b6ba-c3735ad7b5bb",
   "metadata": {},
   "outputs": [
    {
     "name": "stdout",
     "output_type": "stream",
     "text": [
      "[0, 1, 2, 3, 4, 5, 6, 7, 8, 9, 10, 11]\n"
     ]
    }
   ],
   "source": [
    "list1.insert(0,0)\n",
    "print(list1)"
   ]
  },
  {
   "cell_type": "markdown",
   "id": "533e91fb-3ba9-4f2a-a5b8-11bcb1289fe6",
   "metadata": {},
   "source": [
    "5. Remove an element from a list by its value."
   ]
  },
  {
   "cell_type": "code",
   "execution_count": 6,
   "id": "71884f06-dd58-4835-87df-6390dd376744",
   "metadata": {},
   "outputs": [
    {
     "name": "stdout",
     "output_type": "stream",
     "text": [
      "[1, 2, 3, 4, 5, 6, 7, 8, 9, 10, 11]\n"
     ]
    }
   ],
   "source": [
    "list1.remove(0)\n",
    "print(list1)"
   ]
  },
  {
   "cell_type": "markdown",
   "id": "02dc87bc-c77a-4fa7-97b8-aea6ef7a240c",
   "metadata": {},
   "source": [
    "6. Remove an element from a list by its index."
   ]
  },
  {
   "cell_type": "code",
   "execution_count": 7,
   "id": "e97ef6f7-e5b9-4065-972f-8ed998f43133",
   "metadata": {},
   "outputs": [
    {
     "name": "stdout",
     "output_type": "stream",
     "text": [
      "[1, 2, 3, 4, 5, 6, 7, 8, 9, 10]\n"
     ]
    }
   ],
   "source": [
    "list1.pop(10)\n",
    "print(list1)"
   ]
  },
  {
   "cell_type": "markdown",
   "id": "b97dc3cd-f8f0-4aa3-a9a8-c38c3591a419",
   "metadata": {},
   "source": [
    "7. Check if an element exists in a list."
   ]
  },
  {
   "cell_type": "code",
   "execution_count": 8,
   "id": "49e27ba6-15dd-4e30-9103-37efb290656f",
   "metadata": {},
   "outputs": [
    {
     "name": "stdout",
     "output_type": "stream",
     "text": [
      "True\n"
     ]
    }
   ],
   "source": [
    "def element_checker(input_list):\n",
    "    if 4 in input_list:\n",
    "        return True\n",
    "    else: return False\n",
    "result7=element_checker(list1)\n",
    "print(result7)"
   ]
  },
  {
   "cell_type": "markdown",
   "id": "65d4356f-6a9f-432e-aaa7-a5122ef40001",
   "metadata": {},
   "source": [
    "8. Find the index of the first occurrence of an element in a list."
   ]
  },
  {
   "cell_type": "code",
   "execution_count": 19,
   "id": "478265ae-1704-4a86-846c-4aa9689c343a",
   "metadata": {},
   "outputs": [
    {
     "name": "stdout",
     "output_type": "stream",
     "text": [
      "4\n"
     ]
    }
   ],
   "source": [
    "list8=[6,3,56,13,5,5,6]\n",
    "first_occurence=list8.index(5)\n",
    "print(first_occurence)"
   ]
  },
  {
   "cell_type": "markdown",
   "id": "50968a07-df0f-4458-92a4-0abb1a93609a",
   "metadata": {},
   "source": [
    "9. Count the occurrences of an element in a list."
   ]
  },
  {
   "cell_type": "code",
   "execution_count": 20,
   "id": "12fe522e-ee0d-49f4-9448-1f86bdd7a262",
   "metadata": {},
   "outputs": [
    {
     "name": "stdout",
     "output_type": "stream",
     "text": [
      "2\n"
     ]
    }
   ],
   "source": [
    "occurence=list8.count(5)\n",
    "print(occurence)"
   ]
  },
  {
   "cell_type": "markdown",
   "id": "f6c46ac6-2f8f-4126-8eb8-a4bbf78a9b64",
   "metadata": {},
   "source": [
    "10. Reverse the order of elements in a list."
   ]
  },
  {
   "cell_type": "code",
   "execution_count": 21,
   "id": "3441b740-1fd1-43c4-84e9-6b8aa2fc7229",
   "metadata": {},
   "outputs": [
    {
     "name": "stdout",
     "output_type": "stream",
     "text": [
      "[6, 5, 5, 13, 56, 3, 6]\n"
     ]
    }
   ],
   "source": [
    "list8=list8[::-1]\n",
    "print(list8)"
   ]
  },
  {
   "cell_type": "markdown",
   "id": "39b22d8d-cfdd-4f7d-9a22-d2322c015bd6",
   "metadata": {},
   "source": [
    "11. Sort a list in ascending order."
   ]
  },
  {
   "cell_type": "code",
   "execution_count": 22,
   "id": "416c50c0-2db7-47d4-bc95-df431621e383",
   "metadata": {},
   "outputs": [
    {
     "name": "stdout",
     "output_type": "stream",
     "text": [
      "[3, 5, 5, 6, 6, 13, 56]\n"
     ]
    }
   ],
   "source": [
    "list8.sort()\n",
    "print(list8)"
   ]
  },
  {
   "cell_type": "markdown",
   "id": "4bd1f0e9-f74b-4165-bae9-6c73d8e1618b",
   "metadata": {},
   "source": [
    "12. Sort a list in descending order."
   ]
  },
  {
   "cell_type": "code",
   "execution_count": 23,
   "id": "e42caef3-0662-4aed-9b05-7cf6a198f5ba",
   "metadata": {},
   "outputs": [
    {
     "name": "stdout",
     "output_type": "stream",
     "text": [
      "[56, 13, 6, 6, 5, 5, 3]\n"
     ]
    }
   ],
   "source": [
    "list8.sort(reverse=True)\n",
    "print(list8)"
   ]
  },
  {
   "cell_type": "markdown",
   "id": "8ecf363a-3763-4817-9d8a-48500ab87322",
   "metadata": {},
   "source": [
    "13. Create a list of even numbers from 1 to 20."
   ]
  },
  {
   "cell_type": "code",
   "execution_count": 24,
   "id": "2c6b600a-1fa9-4682-9721-014c156156f9",
   "metadata": {},
   "outputs": [
    {
     "name": "stdout",
     "output_type": "stream",
     "text": [
      "[2, 4, 6, 8, 10, 12, 14, 16, 18, 20]\n"
     ]
    }
   ],
   "source": [
    "even_num_list=[]\n",
    "for i in range(1,21):\n",
    "    if i%2==0:\n",
    "        even_num_list.append(i)\n",
    "print(even_num_list)"
   ]
  },
  {
   "cell_type": "markdown",
   "id": "ce2689db-f08e-4238-af2b-1fefa10388cb",
   "metadata": {},
   "source": [
    "14. Create a list of odd numbers from 1 to 20."
   ]
  },
  {
   "cell_type": "code",
   "execution_count": 25,
   "id": "ec75465e-0384-4589-95ca-36bb086e5b84",
   "metadata": {},
   "outputs": [
    {
     "name": "stdout",
     "output_type": "stream",
     "text": [
      "[1, 3, 5, 7, 9, 11, 13, 15, 17, 19]\n"
     ]
    }
   ],
   "source": [
    "odd_num_list=[]\n",
    "for i in range(1,21):\n",
    "    if i%2!=0:\n",
    "        odd_num_list.append(i)\n",
    "print(odd_num_list)"
   ]
  },
  {
   "cell_type": "markdown",
   "id": "922319ed-cd30-4681-91b8-1c3603497ad0",
   "metadata": {},
   "source": [
    "15. Find the sum of all elements in a list."
   ]
  },
  {
   "cell_type": "code",
   "execution_count": 26,
   "id": "e591578d-1760-4d03-904e-b51adcd87276",
   "metadata": {},
   "outputs": [
    {
     "name": "stdout",
     "output_type": "stream",
     "text": [
      "110\n"
     ]
    }
   ],
   "source": [
    "element_sum=0\n",
    "for char in even_num_list:\n",
    "    element_sum+=char\n",
    "print(element_sum)"
   ]
  },
  {
   "cell_type": "markdown",
   "id": "e06f715b-d30f-47e2-a89d-05d49af93a4b",
   "metadata": {},
   "source": [
    "16. Find the maximum value in a list."
   ]
  },
  {
   "cell_type": "code",
   "execution_count": 27,
   "id": "c4755f84-c7ed-4a71-a6de-52a720d09d82",
   "metadata": {},
   "outputs": [
    {
     "name": "stdout",
     "output_type": "stream",
     "text": [
      "20\n"
     ]
    }
   ],
   "source": [
    "max_value=max(even_num_list)\n",
    "print(max_value)"
   ]
  },
  {
   "cell_type": "markdown",
   "id": "381ed515-6cc6-458f-9cd3-f416c8b2cb69",
   "metadata": {},
   "source": [
    "17. Find the minimum value in a list."
   ]
  },
  {
   "cell_type": "code",
   "execution_count": 29,
   "id": "f128f5c7-2a79-4bd4-9804-32f8be8292d1",
   "metadata": {},
   "outputs": [
    {
     "name": "stdout",
     "output_type": "stream",
     "text": [
      "2\n"
     ]
    }
   ],
   "source": [
    "min_value=min(even_num_list)\n",
    "print(min_value)"
   ]
  },
  {
   "cell_type": "markdown",
   "id": "c9d4b3e9-d888-46f9-868c-71211c5e9f4c",
   "metadata": {},
   "source": [
    "18. Create a list of squares of numbers from 1 to 10."
   ]
  },
  {
   "cell_type": "code",
   "execution_count": 33,
   "id": "12f69226-507a-4d07-9ba6-a0d9415dcddc",
   "metadata": {},
   "outputs": [
    {
     "name": "stdout",
     "output_type": "stream",
     "text": [
      "[4, 16, 36, 64, 100, 144, 196, 256, 324, 400]\n"
     ]
    }
   ],
   "source": [
    "even_num_square_list=[]\n",
    "for char in even_num_list:\n",
    "    even_num_square_list.append(char**2)\n",
    "print(even_num_square_list)"
   ]
  },
  {
   "cell_type": "markdown",
   "id": "f37476f0-fe25-4156-8d8b-a3b397541707",
   "metadata": {},
   "source": [
    "19. Create a list of random numbers."
   ]
  },
  {
   "cell_type": "code",
   "execution_count": 38,
   "id": "72c215dd-1480-4fb6-84ab-9fbd2326a3f2",
   "metadata": {},
   "outputs": [
    {
     "name": "stdout",
     "output_type": "stream",
     "text": [
      "[18, 76, 24, 36, 15, 44, 20, 55, 43, 74]\n"
     ]
    }
   ],
   "source": [
    "import random\n",
    "random_num_list=[]\n",
    "for i in range(1,11):\n",
    "    random_num_list.append(random.randint(1,100))\n",
    "print(random_num_list)"
   ]
  },
  {
   "cell_type": "markdown",
   "id": "a0e195de-ec47-44cc-b3d0-76cdb51f721a",
   "metadata": {},
   "source": [
    "20. Remove duplicates from a list."
   ]
  },
  {
   "cell_type": "code",
   "execution_count": 39,
   "id": "deae865d-65bb-4c8c-9cfa-731b2a6f891c",
   "metadata": {},
   "outputs": [
    {
     "name": "stdout",
     "output_type": "stream",
     "text": [
      "[2, 4, 6, 8, 10]\n"
     ]
    }
   ],
   "source": [
    "original_list = [2, 4, 6, 2, 8, 4, 10, 6]\n",
    "unique_list = list(set(original_list))\n",
    "\n",
    "print(unique_list)\n"
   ]
  },
  {
   "cell_type": "markdown",
   "id": "2a447283-5b0a-4f38-9f5c-3ef6707239b3",
   "metadata": {},
   "source": [
    "21. Find the common elements between two lists."
   ]
  },
  {
   "cell_type": "code",
   "execution_count": 45,
   "id": "ebe72f2b-d24d-495a-b5b6-43a8c0ae940b",
   "metadata": {},
   "outputs": [
    {
     "name": "stdout",
     "output_type": "stream",
     "text": [
      "[2, 6]\n"
     ]
    }
   ],
   "source": [
    "temp_list1=[4,6,2,8]\n",
    "temp_list2=[5,6,2,6,2]\n",
    "common_elements_list=[]\n",
    "\n",
    "for elementoflist1 in temp_list1:\n",
    "    if elementoflist1 in temp_list2 :\n",
    "        common_elements_list.append(elementoflist1)\n",
    "        \n",
    "common_elements_list=list(set(common_elements_list))\n",
    "        \n",
    "print(common_elements_list)"
   ]
  },
  {
   "cell_type": "markdown",
   "id": "dc694805-c337-4d26-a95d-fd3dcf73ca7d",
   "metadata": {},
   "source": [
    "22. Find the difference between two lists."
   ]
  },
  {
   "cell_type": "code",
   "execution_count": 47,
   "id": "2f0c9dda-d663-4cc2-ae9c-5eea23e9001c",
   "metadata": {},
   "outputs": [
    {
     "name": "stdout",
     "output_type": "stream",
     "text": [
      "[1, 2]\n"
     ]
    }
   ],
   "source": [
    "list1 = [1, 2, 3, 4, 5]\n",
    "list2 = [3, 4, 5, 6, 7]\n",
    "\n",
    "difference = []\n",
    "\n",
    "for item in list1:\n",
    "    if item not in list2:\n",
    "        difference.append(item)\n",
    "\n",
    "print(difference)"
   ]
  },
  {
   "cell_type": "markdown",
   "id": "9d7267c9-6d43-4e28-9315-b728facba6d6",
   "metadata": {},
   "source": [
    "23. Merge two lists."
   ]
  },
  {
   "cell_type": "code",
   "execution_count": 48,
   "id": "992eb6d2-c0d5-4a0e-838b-bc27853359d7",
   "metadata": {},
   "outputs": [
    {
     "name": "stdout",
     "output_type": "stream",
     "text": [
      "[1, 2, 3, 4, 5, 3, 4, 5, 6, 7]\n"
     ]
    }
   ],
   "source": [
    "merged_list=list1+list2\n",
    "print(merged_list)"
   ]
  },
  {
   "cell_type": "markdown",
   "id": "088ab69c-f584-4263-9e51-c918b4fcaa7d",
   "metadata": {},
   "source": [
    "24. Multiply all elements in a list by 2."
   ]
  },
  {
   "cell_type": "code",
   "execution_count": 52,
   "id": "d865e1eb-1e27-4d44-a398-aa1da383032e",
   "metadata": {},
   "outputs": [
    {
     "name": "stdout",
     "output_type": "stream",
     "text": [
      "[2, 4, 6, 8, 10]\n"
     ]
    }
   ],
   "source": [
    "for i in range(len(list1)):\n",
    "    list1[i]*=2\n",
    "    \n",
    "print(list1)"
   ]
  },
  {
   "cell_type": "markdown",
   "id": "afc88d43-18a5-497d-a73d-8c383a9118a0",
   "metadata": {},
   "source": [
    "25. Filter out all even numbers from a list."
   ]
  },
  {
   "cell_type": "code",
   "execution_count": 53,
   "id": "5ac41447-a2e6-416b-8aaf-80bdb7836b29",
   "metadata": {},
   "outputs": [
    {
     "name": "stdout",
     "output_type": "stream",
     "text": [
      "[4, 6]\n"
     ]
    }
   ],
   "source": [
    "even_num=[]\n",
    "for i in range(len(list2)):\n",
    "    if list2[i]%2==0:\n",
    "        even_num.append(list2[i])\n",
    "        \n",
    "print(even_num)"
   ]
  },
  {
   "cell_type": "markdown",
   "id": "330c5fca-c607-4597-8ff9-02deff1cba7d",
   "metadata": {},
   "source": [
    "26. Convert a list of strings to a list of integers."
   ]
  },
  {
   "cell_type": "code",
   "execution_count": 58,
   "id": "5654e26a-05d6-4660-92ae-369974eb4ed8",
   "metadata": {},
   "outputs": [
    {
     "name": "stdout",
     "output_type": "stream",
     "text": [
      "[23, 34, 6, 432]\n"
     ]
    }
   ],
   "source": [
    "list_string=['23','34','6','432']\n",
    "list_integers=[]\n",
    "\n",
    "for element in list_string:\n",
    "    list_integers.append(int(element))\n",
    "    \n",
    "print(list_integers)"
   ]
  },
  {
   "cell_type": "markdown",
   "id": "fb639a25-e0d4-47f4-a870-b602ee8d577e",
   "metadata": {},
   "source": [
    "27. Convert a list of integers to a list of strings."
   ]
  },
  {
   "cell_type": "code",
   "execution_count": 61,
   "id": "b37cc378-7650-4382-97b6-a492adf53143",
   "metadata": {},
   "outputs": [
    {
     "name": "stdout",
     "output_type": "stream",
     "text": [
      "['23', '34', '6', '432']\n"
     ]
    }
   ],
   "source": [
    "for i in range(len(list_integers)):\n",
    "    list_string[i]=str(list_integers[i])\n",
    "    \n",
    "print(list_string)"
   ]
  },
  {
   "cell_type": "markdown",
   "id": "1454aeb5-01bb-483c-abaa-6375a1c7ef43",
   "metadata": {},
   "source": [
    "28. Flatten a nested list."
   ]
  },
  {
   "cell_type": "code",
   "execution_count": 67,
   "id": "aeb17fbc-8891-4002-97d3-aab56b857f3f",
   "metadata": {},
   "outputs": [
    {
     "name": "stdout",
     "output_type": "stream",
     "text": [
      "[1, 2, 3, 4, 5, 6, 7, 8, 9]\n"
     ]
    }
   ],
   "source": [
    "parent_list=[[1,2,3],[4,5,6],[7,8,9]]\n",
    "flatten_list=[]\n",
    "\n",
    "for i in range(len(parent_list)):\n",
    "    for j in range(len(parent_list[i])):\n",
    "        flatten_list.append(parent_list[i][j])\n",
    "        \n",
    "print(flatten_list)"
   ]
  },
  {
   "cell_type": "markdown",
   "id": "7b230023-a436-442a-a49d-a689788195c0",
   "metadata": {},
   "source": [
    "29. Create a list of the first 10 Fibonacci numbers."
   ]
  },
  {
   "cell_type": "code",
   "execution_count": 68,
   "id": "eb4d75af-818c-4ae9-9d41-43c8081a779a",
   "metadata": {},
   "outputs": [
    {
     "name": "stdout",
     "output_type": "stream",
     "text": [
      "[0, 1, 1, 2, 3, 5, 8, 13, 21, 34]\n"
     ]
    }
   ],
   "source": [
    "fibonacci_list = [0, 1]\n",
    "\n",
    "while len(fibonacci_list) < 10:\n",
    "    next_fibonacci = fibonacci_list[-1] + fibonacci_list[-2]\n",
    "    fibonacci_list.append(next_fibonacci)\n",
    "\n",
    "print(fibonacci_list)\n"
   ]
  },
  {
   "cell_type": "markdown",
   "id": "de2f2be2-b21f-4903-8c6a-1a8aeb74f708",
   "metadata": {},
   "source": [
    "30. Check if a list is sorted."
   ]
  },
  {
   "cell_type": "code",
   "execution_count": 69,
   "id": "d1907917-4f1b-4de6-839e-229486f2319c",
   "metadata": {},
   "outputs": [
    {
     "name": "stdout",
     "output_type": "stream",
     "text": [
      "True\n",
      "False\n"
     ]
    }
   ],
   "source": [
    "def is_sorted(lst):\n",
    "    for i in range(len(lst) - 1):\n",
    "        if lst[i] > lst[i + 1]:\n",
    "            return False\n",
    "    return True\n",
    "\n",
    "my_list = [1, 3, 5, 7, 9]\n",
    "print(is_sorted(my_list))\n",
    "\n",
    "unsorted_list = [3, 1, 7, 5, 9]\n",
    "print(is_sorted(unsorted_list))"
   ]
  },
  {
   "cell_type": "markdown",
   "id": "4453a05b-878f-4920-9c6c-b27571f9d785",
   "metadata": {},
   "source": [
    "31. Rotate a list to the left by `n` positions."
   ]
  },
  {
   "cell_type": "code",
   "execution_count": 2,
   "id": "7ed5a3bd-bb18-4ce5-9e4d-924e5cebc781",
   "metadata": {},
   "outputs": [
    {
     "name": "stdout",
     "output_type": "stream",
     "text": [
      "[3, 4, 5, 1, 2]\n"
     ]
    }
   ],
   "source": [
    "def left_rotater(list31,n):\n",
    "    n%=len(list31)\n",
    "    \n",
    "    return list31[n:]+list31[:n]\n",
    "\n",
    "list31=[1,2,3,4,5]\n",
    "rotated_string=left_rotater(list31,2)\n",
    "print(rotated_string)"
   ]
  },
  {
   "cell_type": "markdown",
   "id": "e36df8a4-96d7-41ed-92c4-7460b4ab314b",
   "metadata": {},
   "source": [
    "32. Rotate a list to the right by `n` positions."
   ]
  },
  {
   "cell_type": "code",
   "execution_count": 7,
   "id": "5f68f20a-49df-4362-a932-be83a2653e3a",
   "metadata": {},
   "outputs": [
    {
     "name": "stdout",
     "output_type": "stream",
     "text": [
      "[4, 5, 1, 2, 3]\n"
     ]
    }
   ],
   "source": [
    "def right_rotater(list32,n):\n",
    "    n%=len(list32)\n",
    "    \n",
    "    return list32[-n:]+list32[:-n]\n",
    "\n",
    "list32=[1,2,3,4,5]\n",
    "rotated_string=right_rotater(list32,2)\n",
    "print(rotated_string)"
   ]
  },
  {
   "cell_type": "markdown",
   "id": "cc0d8e0e-2299-4600-b108-aef77b2f3de0",
   "metadata": {},
   "source": [
    "33. Create a list of prime numbers up to 50."
   ]
  },
  {
   "cell_type": "code",
   "execution_count": null,
   "id": "72784c40-a451-48e5-9b44-d569135ccbf9",
   "metadata": {},
   "outputs": [],
   "source": [
    "def prime_list(n):\n",
    "    result=[]\n",
    "    \n",
    "    for i in range(n+1):\n",
    "        for j in range(1,i):\n",
    "            if i%j!=0:\n",
    "                result.append(i)\n",
    "                \n",
    "    return result\n",
    "\n",
    "list33=prime_list(10)\n",
    "print(list33)"
   ]
  },
  {
   "cell_type": "markdown",
   "id": "3a446f9d-3822-4269-a50a-1d7b0dd86eea",
   "metadata": {},
   "source": [
    "33. Create a list of prime numbers up to 50."
   ]
  },
  {
   "cell_type": "code",
   "execution_count": 2,
   "id": "98e63a9a-fcae-4962-bb0e-a54ffae6ed8b",
   "metadata": {},
   "outputs": [
    {
     "name": "stdout",
     "output_type": "stream",
     "text": [
      "[2, 3, 5, 7, 11, 13, 17, 19, 23, 29, 31, 37, 41, 43, 47]\n"
     ]
    }
   ],
   "source": [
    "def is_prime(num):\n",
    "    if num <= 1:\n",
    "        return False\n",
    "    if num <= 3:\n",
    "        return True\n",
    "    if num % 2 == 0 or num % 3 == 0:\n",
    "        return False\n",
    "    i = 5\n",
    "    while i * i <= num:\n",
    "        if num % i == 0 or num % (i + 2) == 0:\n",
    "            return False\n",
    "        i += 6\n",
    "    return True\n",
    "\n",
    "prime_list = []\n",
    "for num in range(2, 51):\n",
    "    if is_prime(num):\n",
    "        prime_list.append(num)\n",
    "\n",
    "print(prime_list)"
   ]
  },
  {
   "cell_type": "markdown",
   "id": "8bf8bfe3-5618-457b-b47b-9149757b9453",
   "metadata": {},
   "source": [
    "34. Split a list into chunks of size `n`."
   ]
  },
  {
   "cell_type": "code",
   "execution_count": 3,
   "id": "18d5e2e6-c1ce-4755-9681-acc395b05cd6",
   "metadata": {},
   "outputs": [
    {
     "name": "stdout",
     "output_type": "stream",
     "text": [
      "[[1, 1], [2, 2], [3, 3], [4, 4], [5, 5]]\n"
     ]
    }
   ],
   "source": [
    "def chunks_creater(lst, n):\n",
    "    return [lst[i:i + n] for i in range(0, len(lst), n)]\n",
    "\n",
    "my_list = [1, 1, 2, 2, 3, 3, 4, 4, 5, 5]\n",
    "chunked_list = chunks_creater(my_list, 2)\n",
    "print(chunked_list)\n"
   ]
  },
  {
   "cell_type": "markdown",
   "id": "819f8700-e057-43b0-96d5-71b528d794d5",
   "metadata": {},
   "source": [
    "35. Find the second largest number in a list."
   ]
  },
  {
   "cell_type": "code",
   "execution_count": 8,
   "id": "b1fe3325-fce8-40f4-ae95-1cd274e85b6b",
   "metadata": {},
   "outputs": [
    {
     "name": "stdout",
     "output_type": "stream",
     "text": [
      "6\n"
     ]
    }
   ],
   "source": [
    "test_list=[3,5,2,6,3,2,5,4,7,3]\n",
    "largest_num=0\n",
    "second_largest=0\n",
    "\n",
    "for i in test_list:\n",
    "    if i>largest_num:\n",
    "        second_largest=largest_num\n",
    "        largest_num=i\n",
    "\n",
    "print(second_largest)"
   ]
  },
  {
   "cell_type": "markdown",
   "id": "ba1b2ba1-f48d-4254-b280-ab1773369a3f",
   "metadata": {},
   "source": [
    "36. Replace every element in a list with its square."
   ]
  },
  {
   "cell_type": "code",
   "execution_count": 10,
   "id": "2d89205c-a592-402c-9acd-8230a4f82f60",
   "metadata": {},
   "outputs": [
    {
     "name": "stdout",
     "output_type": "stream",
     "text": [
      "[1, 4, 9, 16, 25, 36]\n"
     ]
    }
   ],
   "source": [
    "test_list_36=[1,2,3,4,5,6]\n",
    "\n",
    "for i in range(len(test_list_36)):\n",
    "    test_list_36[i]=test_list_36[i]**2\n",
    "               \n",
    "print(test_list_36)"
   ]
  },
  {
   "cell_type": "markdown",
   "id": "d9376d29-899f-4d88-bbeb-1a8087dfa448",
   "metadata": {},
   "source": [
    "37. Convert a list to a dictionary where list elements become keys and their\n",
    "indices become values."
   ]
  },
  {
   "cell_type": "code",
   "execution_count": 14,
   "id": "6d63041f-40e5-44be-ab2a-6b3af413133f",
   "metadata": {},
   "outputs": [
    {
     "name": "stdout",
     "output_type": "stream",
     "text": [
      "{0: 10, 1: 20, 2: 30, 3: 40, 4: 50}\n"
     ]
    }
   ],
   "source": [
    "def list_to_dictionary(input_list):\n",
    "    my_dictionary = {}\n",
    "    for i in range(len(input_list)):\n",
    "        my_dictionary[i] = input_list[i]\n",
    "    \n",
    "    return my_dictionary\n",
    "\n",
    "my_list = [10, 20, 30, 40, 50]\n",
    "my_dictionary = list_to_dictionary(my_list)\n",
    "print(my_dictionary)\n"
   ]
  },
  {
   "cell_type": "markdown",
   "id": "58df5b60-9d11-4a2d-8c0d-e2ba0d94e721",
   "metadata": {},
   "source": [
    "38. Shuffle the elements of a list randomly."
   ]
  },
  {
   "cell_type": "code",
   "execution_count": 16,
   "id": "c425ebd5-d874-450f-bca4-2700798fa23d",
   "metadata": {},
   "outputs": [
    {
     "name": "stdout",
     "output_type": "stream",
     "text": [
      "[5, 1, 4, 3, 2]\n"
     ]
    }
   ],
   "source": [
    "import random\n",
    "\n",
    "def shuffle_list(lst):\n",
    "    random.shuffle(lst)\n",
    "\n",
    "my_list = [1, 2, 3, 4, 5]\n",
    "shuffle_list(my_list)\n",
    "print(my_list)\n"
   ]
  },
  {
   "cell_type": "markdown",
   "id": "227ce0d3-5ea9-49ef-ba63-5eb7a19535b0",
   "metadata": {},
   "source": [
    "39. Create a list of the first 10 factorial numbers."
   ]
  },
  {
   "cell_type": "code",
   "execution_count": 19,
   "id": "d100eebe-c5a8-4e64-a60b-c46e5b902827",
   "metadata": {},
   "outputs": [
    {
     "name": "stdout",
     "output_type": "stream",
     "text": [
      "[1, 1, 2, 6, 24, 120, 720, 5040, 40320, 362880]\n"
     ]
    }
   ],
   "source": [
    "def factorial(n):\n",
    "    if n == 0 or n == 1:\n",
    "        return 1\n",
    "    else:\n",
    "        return n * factorial(n - 1)\n",
    "\n",
    "factorial_numbers = [factorial(i) for i in range(10)]\n",
    "print(factorial_numbers)\n"
   ]
  },
  {
   "cell_type": "markdown",
   "id": "0f40b479-a002-4b5c-8564-e6772b240cf5",
   "metadata": {},
   "source": [
    "40. Check if two lists have at least one element in common."
   ]
  },
  {
   "cell_type": "code",
   "execution_count": 21,
   "id": "4cd79067-9c19-43a7-aa90-162f18418aa7",
   "metadata": {},
   "outputs": [
    {
     "name": "stdout",
     "output_type": "stream",
     "text": [
      "True\n"
     ]
    }
   ],
   "source": [
    "def have_common_element(list1, list2):\n",
    "    for element in list1:\n",
    "        if element in list2:\n",
    "            return True\n",
    "    return False\n",
    "\n",
    "list1 = [1, 2, 3, 4, 5]\n",
    "list2 = [5, 6, 7, 8, 9]\n",
    "result = have_common_element(list1, list2)\n",
    "print(result)"
   ]
  },
  {
   "cell_type": "markdown",
   "id": "53955950-b2df-467a-bf35-e7d98683eee7",
   "metadata": {},
   "source": [
    "41. Remove all elements from a list."
   ]
  },
  {
   "cell_type": "code",
   "execution_count": 1,
   "id": "8c898081-1e3e-4d88-bd9e-1c85bb1fff65",
   "metadata": {},
   "outputs": [
    {
     "name": "stdout",
     "output_type": "stream",
     "text": [
      "[]\n"
     ]
    }
   ],
   "source": [
    "my_list=[1,2,3,4,5,6]\n",
    "my_list.clear()\n",
    "print(my_list)"
   ]
  },
  {
   "cell_type": "markdown",
   "id": "12af1a1c-c65a-49d9-9ef3-1c1dc3679a33",
   "metadata": {},
   "source": [
    "42. Replace negative numbers in a list with 0."
   ]
  },
  {
   "cell_type": "code",
   "execution_count": 4,
   "id": "60bb733b-b8b0-4965-b02a-64b0f1f173d0",
   "metadata": {},
   "outputs": [
    {
     "name": "stdout",
     "output_type": "stream",
     "text": [
      "[1, 2, 3, 4, 0, 0, 2, 0]\n"
     ]
    }
   ],
   "source": [
    "# Answer 42\n",
    "\n",
    "list42=[1,2,3,4,-3,-8,2,-6]\n",
    "\n",
    "for i in range(len(list42)):\n",
    "    if list42[i]<0:\n",
    "        list42[i]=0\n",
    "        \n",
    "print(list42)"
   ]
  },
  {
   "cell_type": "markdown",
   "id": "251f8c19-e6a0-49b9-8739-9fe8633423dc",
   "metadata": {},
   "source": [
    "43. Convert a string into a list of words."
   ]
  },
  {
   "cell_type": "code",
   "execution_count": 10,
   "id": "ca1e44f4-f8b4-465a-99ed-6ee6bbca5894",
   "metadata": {},
   "outputs": [
    {
     "name": "stdout",
     "output_type": "stream",
     "text": [
      "['This', 'is', 'a', 'string']\n"
     ]
    }
   ],
   "source": [
    "string43=\"This is a string\"\n",
    "list43=string43.split()\n",
    "print(list43)"
   ]
  },
  {
   "cell_type": "markdown",
   "id": "1ddedd74-6089-4fcd-b7ba-1a2900873f77",
   "metadata": {},
   "source": [
    "44. Convert a list of words into a string."
   ]
  },
  {
   "cell_type": "code",
   "execution_count": 14,
   "id": "553b9086-58aa-49b2-b02e-41fcd24dfbfd",
   "metadata": {},
   "outputs": [
    {
     "name": "stdout",
     "output_type": "stream",
     "text": [
      "This is a string\n"
     ]
    }
   ],
   "source": [
    "string44=\" \".join(list43)\n",
    "print(string44)"
   ]
  },
  {
   "cell_type": "markdown",
   "id": "dd13afb2-7526-47c5-8888-d5db1b8a51b5",
   "metadata": {},
   "source": [
    "45. Create a list of the first `n` powers of 2."
   ]
  },
  {
   "cell_type": "code",
   "execution_count": 19,
   "id": "2f50a594-da40-4c45-b20c-8779c9576b2e",
   "metadata": {},
   "outputs": [
    {
     "name": "stdout",
     "output_type": "stream",
     "text": [
      "[2, 4, 8, 16, 32]\n"
     ]
    }
   ],
   "source": [
    "# Answer 45\n",
    "def powers_list(x,n):\n",
    "    pow_list=[]\n",
    "    for i in range(0,n):\n",
    "        if len(pow_list)==0:\n",
    "            pow_list.append(x)\n",
    "        else: pow_list.append(x*pow_list[i-1])\n",
    "        \n",
    "    return pow_list\n",
    "\n",
    "result_list=powers_list(2,5)\n",
    "print(result_list)"
   ]
  },
  {
   "cell_type": "markdown",
   "id": "cf0aa4c7-0c3b-44e4-be84-c39fc25c6e57",
   "metadata": {},
   "source": [
    "46. Find the longest string in a list of strings."
   ]
  },
  {
   "cell_type": "code",
   "execution_count": 1,
   "id": "4885d664-0d74-4315-8a3f-5126e6073abd",
   "metadata": {},
   "outputs": [
    {
     "name": "stdout",
     "output_type": "stream",
     "text": [
      "longest\n"
     ]
    }
   ],
   "source": [
    "string46=\"Who is the longest string in me?\"\n",
    "list46=string46.split()\n",
    "max_length_element=string46[0]\n",
    "for element in list46:\n",
    "    if len(element)>len(max_length_element):\n",
    "        max_length_element=element\n",
    "\n",
    "print(max_length_element)"
   ]
  },
  {
   "cell_type": "markdown",
   "id": "5c45157d-dfd0-41bc-99a1-633d16eba420",
   "metadata": {},
   "source": [
    "47. Find the shortest string in a list of strings."
   ]
  },
  {
   "cell_type": "code",
   "execution_count": 3,
   "id": "7c51849f-cacf-4e9b-b391-574c3399e3b0",
   "metadata": {},
   "outputs": [
    {
     "name": "stdout",
     "output_type": "stream",
     "text": [
      "is\n"
     ]
    }
   ],
   "source": [
    "string47=\"Who is the shortest string in me?\"\n",
    "list47=string47.split()\n",
    "shortest_length_element=list47[0]\n",
    "for element in list47:\n",
    "    if len(element)<len(shortest_length_element):\n",
    "        shortest_length_element=element\n",
    "        \n",
    "print(shortest_length_element)"
   ]
  },
  {
   "cell_type": "markdown",
   "id": "508e18b4-01bb-4d79-83f2-742fee6e0986",
   "metadata": {},
   "source": [
    "48. Create a list of the first `n` triangular numbers."
   ]
  },
  {
   "cell_type": "code",
   "execution_count": 4,
   "id": "66968f78-f1b5-492a-a0e2-d6ceed4d63f1",
   "metadata": {},
   "outputs": [
    {
     "name": "stdout",
     "output_type": "stream",
     "text": [
      "[1, 3, 6, 10, 15]\n"
     ]
    }
   ],
   "source": [
    "n = 5  \n",
    "triangular_numbers = []\n",
    "\n",
    "for i in range(1, n + 1):\n",
    "    triangular_numbers.append(i * (i + 1) // 2)\n",
    "\n",
    "print(triangular_numbers)"
   ]
  },
  {
   "cell_type": "markdown",
   "id": "17f15c78-2813-4d5a-9e22-cf7b6a505570",
   "metadata": {},
   "source": [
    "49. Check if a list contains another list as a subsequence."
   ]
  },
  {
   "cell_type": "code",
   "execution_count": 6,
   "id": "0e85a5ec-3870-4792-908d-65a33c68ec07",
   "metadata": {},
   "outputs": [
    {
     "name": "stdout",
     "output_type": "stream",
     "text": [
      "True\n"
     ]
    }
   ],
   "source": [
    "def is_subsequence(sublist, mainlist):\n",
    "    sub_len = len(sublist)\n",
    "    main_len = len(mainlist)\n",
    "    \n",
    "\n",
    "    sub_index = 0\n",
    "    main_index = 0\n",
    "\n",
    "\n",
    "    while main_index < main_len and sub_index < sub_len:\n",
    "\n",
    "        if sublist[sub_index] == mainlist[main_index]:\n",
    "            sub_index += 1\n",
    "        main_index += 1\n",
    "\n",
    "\n",
    "    return sub_index == sub_len\n",
    "\n",
    "\n",
    "main_list = [1, 2, 3, 4, 5, 6, 7]\n",
    "sub_list = [2, 4, 6]\n",
    "\n",
    "result = is_subsequence(sub_list, main_list)\n",
    "print(result) \n"
   ]
  },
  {
   "cell_type": "markdown",
   "id": "1a88b395-2b62-4f66-9b54-22bd2f16a642",
   "metadata": {},
   "source": [
    "50. Swap two elements in a list by their indices."
   ]
  },
  {
   "cell_type": "code",
   "execution_count": 10,
   "id": "602756e8-a758-4e05-86a9-ca753ce987c1",
   "metadata": {},
   "outputs": [
    {
     "name": "stdout",
     "output_type": "stream",
     "text": [
      "[9, 2, 3, 4, 5, 6, 7, 8, 1]\n"
     ]
    }
   ],
   "source": [
    "list50=[1,2,3,4,5,6,7,8,9]\n",
    "list50[0],list50[8]=list50[8],list50[0]\n",
    "print(list50)"
   ]
  },
  {
   "cell_type": "markdown",
   "id": "cc52a4d6-83af-46d4-9aee-34b9c16186f5",
   "metadata": {},
   "source": [
    "Tuple Based Practice Problem :"
   ]
  },
  {
   "cell_type": "markdown",
   "id": "52f167cf-005b-47cc-8a3b-19ed31cd4b05",
   "metadata": {},
   "source": [
    "1. Create a tuple with integers from 1 to 5."
   ]
  },
  {
   "cell_type": "code",
   "execution_count": 6,
   "id": "020a35fc-5d66-4080-a4b4-d6adc1f0ecc9",
   "metadata": {},
   "outputs": [
    {
     "name": "stdout",
     "output_type": "stream",
     "text": [
      "(1, 2, 3, 4, 5)\n"
     ]
    }
   ],
   "source": [
    "t1=(1,2,3,4,5)\n",
    "print(t1)"
   ]
  },
  {
   "cell_type": "markdown",
   "id": "ea487a69-7dfa-417c-9e14-97df8e15b3a1",
   "metadata": {},
   "source": [
    "2. Access the third element of a tuple."
   ]
  },
  {
   "cell_type": "code",
   "execution_count": 7,
   "id": "8be36c76-6962-4036-af6b-08a694bce54a",
   "metadata": {},
   "outputs": [
    {
     "data": {
      "text/plain": [
       "3"
      ]
     },
     "execution_count": 7,
     "metadata": {},
     "output_type": "execute_result"
    }
   ],
   "source": [
    "t1[2]"
   ]
  },
  {
   "cell_type": "markdown",
   "id": "c982beba-1b3f-45c8-bc06-a14fcc8c57d5",
   "metadata": {},
   "source": [
    "3. Find the length of a tuple without using the `len()` function."
   ]
  },
  {
   "cell_type": "code",
   "execution_count": 9,
   "id": "7189a733-67de-4c75-ac6e-712fac25b054",
   "metadata": {},
   "outputs": [
    {
     "name": "stdout",
     "output_type": "stream",
     "text": [
      "5\n"
     ]
    }
   ],
   "source": [
    "count=0\n",
    "for _ in t1:\n",
    "    count+=1\n",
    "print(count)"
   ]
  },
  {
   "cell_type": "markdown",
   "id": "dbd81fd8-7a4c-4b59-ae62-4980aa00fa35",
   "metadata": {},
   "source": [
    "4. Count the occurrences of an element in a tuple."
   ]
  },
  {
   "cell_type": "code",
   "execution_count": 11,
   "id": "5ba4d1a1-322c-4a26-a181-9af839b8b485",
   "metadata": {},
   "outputs": [
    {
     "name": "stdout",
     "output_type": "stream",
     "text": [
      "5\n"
     ]
    }
   ],
   "source": [
    "t4=(1,1,2,3,4,6,7,8,1,1,1)\n",
    "def object_counter(x,tupple):\n",
    "    count=0\n",
    "    for i in range(len(tupple)):\n",
    "        if tupple[i]==x:\n",
    "            count+=1\n",
    "    return count\n",
    "result=object_counter(1,t4)\n",
    "print(result)"
   ]
  },
  {
   "cell_type": "markdown",
   "id": "692aa8d8-b663-4ad3-88bf-c735bf7e7f85",
   "metadata": {},
   "source": [
    "5. Find the index of the first occurrence of an element in a tuple."
   ]
  },
  {
   "cell_type": "code",
   "execution_count": 14,
   "id": "8eda1bd5-f093-4834-b5dd-5124dd08a2bc",
   "metadata": {},
   "outputs": [
    {
     "data": {
      "text/plain": [
       "5"
      ]
     },
     "execution_count": 14,
     "metadata": {},
     "output_type": "execute_result"
    }
   ],
   "source": [
    "t4.index(6)"
   ]
  },
  {
   "cell_type": "markdown",
   "id": "2b116d15-54b7-4709-9946-6fc16234d8ec",
   "metadata": {},
   "source": [
    "6. Check if an element exists in a tuple."
   ]
  },
  {
   "cell_type": "code",
   "execution_count": 16,
   "id": "98eae0b0-8cd0-461e-99fe-e80f93df10a0",
   "metadata": {},
   "outputs": [
    {
     "name": "stdout",
     "output_type": "stream",
     "text": [
      "False\n"
     ]
    }
   ],
   "source": [
    "if 39 in t4:\n",
    "    print(True)\n",
    "else: print(False)"
   ]
  },
  {
   "cell_type": "markdown",
   "id": "5bcd5564-ed31-4bfa-914e-b49e512285a5",
   "metadata": {},
   "source": [
    "7. Convert a tuple to a list."
   ]
  },
  {
   "cell_type": "code",
   "execution_count": 17,
   "id": "dd795aaa-8bb1-4cab-8ea5-95627f8c9950",
   "metadata": {},
   "outputs": [
    {
     "name": "stdout",
     "output_type": "stream",
     "text": [
      "[1, 1, 2, 3, 4, 6, 7, 8, 1, 1, 1]\n"
     ]
    }
   ],
   "source": [
    "# Answer 7\n",
    "\n",
    "list4=list(t4)\n",
    "print(list4)"
   ]
  },
  {
   "cell_type": "markdown",
   "id": "baf2f053-2123-4f60-ba40-16397707bb7f",
   "metadata": {},
   "source": [
    "8. Convert a list to a tuple."
   ]
  },
  {
   "cell_type": "code",
   "execution_count": 23,
   "id": "d37ad89b-5ee9-4e6c-92a7-3edd952c8721",
   "metadata": {},
   "outputs": [
    {
     "name": "stdout",
     "output_type": "stream",
     "text": [
      "(1, 1, 2, 3, 4, 6, 7, 8, 1, 1, 1)\n"
     ]
    }
   ],
   "source": [
    "# Answer 8\n",
    "\n",
    "t8=tuple(list4)\n",
    "print(t8)"
   ]
  },
  {
   "cell_type": "markdown",
   "id": "7c0092ab-e120-4776-a6ae-0ba32a9f48bc",
   "metadata": {},
   "source": [
    "9. Unpack the elements of a tuple into variables."
   ]
  },
  {
   "cell_type": "code",
   "execution_count": 24,
   "id": "64f5c812-fbc2-4574-be30-ce3be68e134b",
   "metadata": {},
   "outputs": [],
   "source": [
    "# Answer 9\n",
    "\n",
    "a,b,c,d,e,f,g,h,i,j,k=t8"
   ]
  },
  {
   "cell_type": "markdown",
   "id": "fadfd26d-3d84-4feb-afb1-fe6197035138",
   "metadata": {},
   "source": [
    "10. Create a tuple of even numbers from 1 to 10."
   ]
  },
  {
   "cell_type": "code",
   "execution_count": 26,
   "id": "6b06503c-95bb-4e84-8755-44d1c92eb45a",
   "metadata": {},
   "outputs": [
    {
     "name": "stdout",
     "output_type": "stream",
     "text": [
      "(2, 4, 6, 8, 10)\n"
     ]
    }
   ],
   "source": [
    "def even_numbered_tuple(n):\n",
    "    temp_list=[]\n",
    "    for i in range(1,n+1):\n",
    "        if i%2==0:\n",
    "            temp_list.append(i)\n",
    "    return tuple(temp_list)\n",
    "\n",
    "t10=even_numbered_tuple(10)\n",
    "print(t10)"
   ]
  },
  {
   "cell_type": "markdown",
   "id": "7758e056-5bf6-4ee1-ac17-808f491b1cca",
   "metadata": {},
   "source": [
    "11. Create a tuple of odd numbers from 1 to 10."
   ]
  },
  {
   "cell_type": "code",
   "execution_count": 28,
   "id": "cc3cae45-60b6-4a92-b8e7-8d87eba21025",
   "metadata": {},
   "outputs": [
    {
     "name": "stdout",
     "output_type": "stream",
     "text": [
      "(1, 3, 5, 7, 9)\n"
     ]
    }
   ],
   "source": [
    "def odd_numbered_tuple(n):\n",
    "    temp_list=[]\n",
    "    for i in range(1,n+1):\n",
    "        if i%2!=0:\n",
    "            temp_list.append(i)\n",
    "    return tuple(temp_list)\n",
    "\n",
    "t11=odd_numbered_tuple(10)\n",
    "print(t11)"
   ]
  },
  {
   "cell_type": "markdown",
   "id": "3a9f15fb-9447-495e-9040-003f81c9bc3f",
   "metadata": {},
   "source": [
    "12. Concatenate two tuples."
   ]
  },
  {
   "cell_type": "code",
   "execution_count": 29,
   "id": "3c8aa060-b378-4375-a872-e5563d85b28e",
   "metadata": {},
   "outputs": [
    {
     "name": "stdout",
     "output_type": "stream",
     "text": [
      "(2, 4, 6, 8, 10, 1, 3, 5, 7, 9)\n"
     ]
    }
   ],
   "source": [
    "t12=t10+t11\n",
    "print(t12)"
   ]
  },
  {
   "cell_type": "markdown",
   "id": "4df75f1b-5cb9-4fbf-9545-a49eb407ea18",
   "metadata": {},
   "source": [
    "13. Repeat a tuple three times."
   ]
  },
  {
   "cell_type": "code",
   "execution_count": 32,
   "id": "1bb8dd0b-f215-47f0-9339-8dc9aa70d418",
   "metadata": {},
   "outputs": [
    {
     "data": {
      "text/plain": [
       "(2,\n",
       " 4,\n",
       " 6,\n",
       " 8,\n",
       " 10,\n",
       " 1,\n",
       " 3,\n",
       " 5,\n",
       " 7,\n",
       " 9,\n",
       " 2,\n",
       " 4,\n",
       " 6,\n",
       " 8,\n",
       " 10,\n",
       " 1,\n",
       " 3,\n",
       " 5,\n",
       " 7,\n",
       " 9,\n",
       " 2,\n",
       " 4,\n",
       " 6,\n",
       " 8,\n",
       " 10,\n",
       " 1,\n",
       " 3,\n",
       " 5,\n",
       " 7,\n",
       " 9)"
      ]
     },
     "execution_count": 32,
     "metadata": {},
     "output_type": "execute_result"
    }
   ],
   "source": [
    "t12*3"
   ]
  },
  {
   "cell_type": "markdown",
   "id": "b500d31e-32ea-4d34-9e66-a1d2a2bccb11",
   "metadata": {},
   "source": [
    "14. Check if a tuple is empty."
   ]
  },
  {
   "cell_type": "code",
   "execution_count": 34,
   "id": "b2fefe74-ca1e-4711-bf49-a1dce7aaee65",
   "metadata": {},
   "outputs": [
    {
     "name": "stdout",
     "output_type": "stream",
     "text": [
      "The tuple is empty.\n"
     ]
    }
   ],
   "source": [
    "t14 = ()\n",
    "\n",
    "if len(t14) == 0:\n",
    "    print(\"The tuple is empty.\")\n",
    "else:\n",
    "    print(\"The tuple is not empty.\")"
   ]
  },
  {
   "cell_type": "markdown",
   "id": "a09940cb-e04d-4436-b2a5-1c180c378ee7",
   "metadata": {},
   "source": [
    "15. Create a nested tuple."
   ]
  },
  {
   "cell_type": "code",
   "execution_count": 37,
   "id": "16b3d5b2-23f8-4cf8-a1dc-cbe0bed75b41",
   "metadata": {},
   "outputs": [
    {
     "name": "stdout",
     "output_type": "stream",
     "text": [
      "((1, 2), (1, 2))\n"
     ]
    }
   ],
   "source": [
    "t15 = []\n",
    "\n",
    "for i in range(1, 3):\n",
    "    inner_tuple = ()\n",
    "    for j in range(1, 3):\n",
    "        inner_tuple += (j,)\n",
    "    t15.append(inner_tuple)\n",
    "\n",
    "resulting_tuple = tuple(t15)\n",
    "\n",
    "print(resulting_tuple)"
   ]
  },
  {
   "cell_type": "markdown",
   "id": "185b1c0c-a486-482a-9f55-fc39715437fe",
   "metadata": {},
   "source": [
    "16. Access the first element of a nested tuple."
   ]
  },
  {
   "cell_type": "code",
   "execution_count": 38,
   "id": "ebe7b4f4-0f18-42c4-b532-ad2d76747344",
   "metadata": {},
   "outputs": [
    {
     "data": {
      "text/plain": [
       "1"
      ]
     },
     "execution_count": 38,
     "metadata": {},
     "output_type": "execute_result"
    }
   ],
   "source": [
    "t15[0][0]"
   ]
  },
  {
   "cell_type": "markdown",
   "id": "de2a5a65-e324-4ff5-8e82-49eab5163c65",
   "metadata": {},
   "source": [
    "17. Create a tuple with a single element."
   ]
  },
  {
   "cell_type": "code",
   "execution_count": 39,
   "id": "1b6d5d7c-cf13-472b-9281-286b18bd2591",
   "metadata": {},
   "outputs": [],
   "source": [
    "t17=(1)"
   ]
  },
  {
   "cell_type": "markdown",
   "id": "920a27d0-bd77-42f1-9944-ebb21f15e66c",
   "metadata": {},
   "source": [
    "18. Compare two tuples."
   ]
  },
  {
   "cell_type": "code",
   "execution_count": 40,
   "id": "3c965e1f-bbc8-4f5e-9a79-9567e9296e5b",
   "metadata": {},
   "outputs": [
    {
     "name": "stdout",
     "output_type": "stream",
     "text": [
      "False\n"
     ]
    }
   ],
   "source": [
    "if t17==t15:\n",
    "    print(True)\n",
    "else: print(False)"
   ]
  },
  {
   "cell_type": "markdown",
   "id": "cf4882c0-654c-4d43-bb5b-0b79ece4c2e3",
   "metadata": {},
   "source": [
    "19. Delete a tuple."
   ]
  },
  {
   "cell_type": "code",
   "execution_count": 42,
   "id": "3981059f-1915-4b19-bc1a-655d3ae9a5a1",
   "metadata": {},
   "outputs": [],
   "source": [
    "del t17"
   ]
  },
  {
   "cell_type": "markdown",
   "id": "e47f4cb3-5aac-422f-9438-860018dcd8ad",
   "metadata": {},
   "source": [
    "20. Slice a tuple."
   ]
  },
  {
   "cell_type": "code",
   "execution_count": 44,
   "id": "265c372c-1f80-447a-b250-e969ac30dc12",
   "metadata": {},
   "outputs": [
    {
     "name": "stdout",
     "output_type": "stream",
     "text": [
      "[(1, 2)]\n"
     ]
    }
   ],
   "source": [
    "print(t15[1:])"
   ]
  },
  {
   "cell_type": "markdown",
   "id": "8ca20b74-23eb-4e66-ab7c-938395c9fdc2",
   "metadata": {},
   "source": [
    "21. Find the maximum value in a tuple."
   ]
  },
  {
   "cell_type": "code",
   "execution_count": 46,
   "id": "87e1b181-a18f-4b86-920d-8688e7ad7e80",
   "metadata": {},
   "outputs": [
    {
     "name": "stdout",
     "output_type": "stream",
     "text": [
      "7\n"
     ]
    }
   ],
   "source": [
    "t21=(2,3,5,6,3,1,2,5,4,7,2)\n",
    "print(max(t21))"
   ]
  },
  {
   "cell_type": "markdown",
   "id": "101ffe5b-6558-49f6-90fb-8b42e0976945",
   "metadata": {},
   "source": [
    "22. Find the minimum value in a tuple."
   ]
  },
  {
   "cell_type": "code",
   "execution_count": 47,
   "id": "f928e6c3-ac5b-4dd1-a615-7354d7ef6d6d",
   "metadata": {},
   "outputs": [
    {
     "name": "stdout",
     "output_type": "stream",
     "text": [
      "1\n"
     ]
    }
   ],
   "source": [
    "print(min(t21))"
   ]
  },
  {
   "cell_type": "markdown",
   "id": "25ccbeee-bbdc-44e5-9c9e-b19c344ec15b",
   "metadata": {},
   "source": [
    "23. Convert a string to a tuple of characters."
   ]
  },
  {
   "cell_type": "code",
   "execution_count": 48,
   "id": "cb3b9e8b-2cd3-4ef3-806c-f71e8f92465b",
   "metadata": {},
   "outputs": [
    {
     "name": "stdout",
     "output_type": "stream",
     "text": [
      "('T', 'h', 'i', 's', ' ', 'i', 's', ' ', 'a', ' ', 's', 't', 'r', 'i', 'n', 'g')\n"
     ]
    }
   ],
   "source": [
    "string23=\"This is a string\"\n",
    "t23=tuple(string23)\n",
    "print(t23)"
   ]
  },
  {
   "cell_type": "markdown",
   "id": "aed38c87-d0bc-46c2-8698-de71377c6a43",
   "metadata": {},
   "source": [
    "24. Convert a tuple of characters to a string."
   ]
  },
  {
   "cell_type": "code",
   "execution_count": 55,
   "id": "560462e5-0494-4a33-8525-e1f23166a6e8",
   "metadata": {},
   "outputs": [
    {
     "name": "stdout",
     "output_type": "stream",
     "text": [
      "This is a string\n"
     ]
    }
   ],
   "source": [
    "string24=\"\".join(t23)\n",
    "print(string24)"
   ]
  },
  {
   "cell_type": "markdown",
   "id": "a7e0b6d6-b73c-40f8-b5e6-67cd8a4b4351",
   "metadata": {},
   "source": [
    "25. Create a tuple from multiple data types."
   ]
  },
  {
   "cell_type": "code",
   "execution_count": 56,
   "id": "755353c9-b5b9-47f4-a4ab-b68fce325c44",
   "metadata": {},
   "outputs": [],
   "source": [
    "t25=(2,3,\"string\",34.5)"
   ]
  },
  {
   "cell_type": "markdown",
   "id": "68443ca7-6b4c-456b-bcec-a9aeaf0e281b",
   "metadata": {},
   "source": [
    "26. Check if two tuples are identical."
   ]
  },
  {
   "cell_type": "code",
   "execution_count": 57,
   "id": "f5bac604-7a08-4506-bde7-258b82ff90de",
   "metadata": {},
   "outputs": [
    {
     "name": "stdout",
     "output_type": "stream",
     "text": [
      "True\n"
     ]
    }
   ],
   "source": [
    "t26_1=(1,2,3,4,5)\n",
    "t26_2=(1,2,3,4,5)\n",
    "\n",
    "if t26_1 == t26_2:\n",
    "    print(True)\n",
    "else: print(False)"
   ]
  },
  {
   "cell_type": "markdown",
   "id": "dbca9b62-a071-4292-b3f9-b8639c9bc5b1",
   "metadata": {},
   "source": [
    "27. Sort the elements of a tuple."
   ]
  },
  {
   "cell_type": "code",
   "execution_count": 60,
   "id": "dab7bef8-a0cf-4398-879f-870f0f102fdc",
   "metadata": {},
   "outputs": [
    {
     "name": "stdout",
     "output_type": "stream",
     "text": [
      "(1, 2, 3, 4, 6, 43, 67)\n"
     ]
    }
   ],
   "source": [
    "t27=(6,43,1,3,4,67,2)\n",
    "l27=list(t27)\n",
    "l27.sort()\n",
    "t27=tuple(l27)\n",
    "print(t27)"
   ]
  },
  {
   "cell_type": "markdown",
   "id": "253e71de-50a1-4f02-ba6c-e470d8a04241",
   "metadata": {},
   "source": [
    "28. Convert a tuple of integers to a tuple of strings."
   ]
  },
  {
   "cell_type": "code",
   "execution_count": 61,
   "id": "27d25fe4-2796-4a90-bf4c-fd573f5a08c4",
   "metadata": {},
   "outputs": [
    {
     "name": "stdout",
     "output_type": "stream",
     "text": [
      "('1', '2', '3', '4', '5')\n"
     ]
    }
   ],
   "source": [
    "tuple_of_integers = (1, 2, 3, 4, 5)\n",
    "tuple_of_strings = ()\n",
    "\n",
    "for num in tuple_of_integers:\n",
    "    tuple_of_strings += (str(num),)\n",
    "\n",
    "print(tuple_of_strings)"
   ]
  },
  {
   "cell_type": "markdown",
   "id": "d8edb205-90d1-4aa0-81ce-415ae6537cbd",
   "metadata": {},
   "source": [
    "29. Convert a tuple of strings to a tuple of integers."
   ]
  },
  {
   "cell_type": "code",
   "execution_count": 64,
   "id": "0fd9fe93-230d-454f-bb9a-6cc836d62247",
   "metadata": {},
   "outputs": [
    {
     "name": "stdout",
     "output_type": "stream",
     "text": [
      "(1, 2, 3, 4, 5)\n"
     ]
    }
   ],
   "source": [
    "t29=()\n",
    "for string in tuple_of_strings:\n",
    "    t29+=(int(string),)\n",
    "    \n",
    "print(t29)"
   ]
  },
  {
   "cell_type": "markdown",
   "id": "6c73efa8-466f-45cb-81cf-20b8b3a05db3",
   "metadata": {},
   "source": [
    "30. Merge two tuples."
   ]
  },
  {
   "cell_type": "code",
   "execution_count": 65,
   "id": "89c881da-71c9-4a7e-8c91-054bcb24cd31",
   "metadata": {},
   "outputs": [
    {
     "name": "stdout",
     "output_type": "stream",
     "text": [
      "(1, 2, 3, 4, 5, 6)\n"
     ]
    }
   ],
   "source": [
    "t30_1=(1,2,3)\n",
    "t30_2=(4,5,6)\n",
    "t30_3=t30_1+t30_2\n",
    "print(t30_3)"
   ]
  },
  {
   "cell_type": "markdown",
   "id": "68f80de3-7066-4db9-8c71-1ef76cd27bc3",
   "metadata": {},
   "source": [
    "31. Flatten a nested tuple."
   ]
  },
  {
   "cell_type": "code",
   "execution_count": 4,
   "id": "9636f977-9954-4b57-bc90-9c79be2c65f8",
   "metadata": {},
   "outputs": [
    {
     "name": "stdout",
     "output_type": "stream",
     "text": [
      "(1, 2, 3, 4, 5, 6, 7, 8, 9)\n"
     ]
    }
   ],
   "source": [
    "result_tuple=()\n",
    "t31=((1,2,3),(4,5,6),(7,8,9))\n",
    "for i in range(len(t31)):\n",
    "    for j in range(len(t31[i])):\n",
    "        result_tuple+=(t31[i][j],)\n",
    "print(result_tuple)"
   ]
  },
  {
   "cell_type": "markdown",
   "id": "f0b730d7-ad26-47fd-bbc3-6b19179fcade",
   "metadata": {},
   "source": [
    "32. Create a tuple of the first 5 prime numbers."
   ]
  },
  {
   "cell_type": "code",
   "execution_count": 5,
   "id": "61153ac2-bd1b-4fb6-a2cd-bd3a63ae45a0",
   "metadata": {},
   "outputs": [],
   "source": [
    "t32=(2,3,5,7,11)"
   ]
  },
  {
   "cell_type": "markdown",
   "id": "a64d3fe8-ad54-456d-a614-4cf4f8e828e1",
   "metadata": {},
   "source": [
    "33. Check if a tuple is a palindrome."
   ]
  },
  {
   "cell_type": "code",
   "execution_count": 7,
   "id": "b0738829-d84d-4665-aea2-9d067e20411f",
   "metadata": {},
   "outputs": [
    {
     "name": "stdout",
     "output_type": "stream",
     "text": [
      "True\n"
     ]
    }
   ],
   "source": [
    "t33=(1,2,3,2,1)\n",
    "temp_t33=t33[::-1]\n",
    "\n",
    "if t33==temp_t33:\n",
    "    print(True)\n",
    "else: print(False)"
   ]
  },
  {
   "cell_type": "markdown",
   "id": "807326b0-7029-4707-a926-541c81ad0bca",
   "metadata": {},
   "source": [
    "34. Create a tuple of squares of numbers from 1 to 5."
   ]
  },
  {
   "cell_type": "code",
   "execution_count": 9,
   "id": "3770c610-bdef-483f-8e17-394868c58efb",
   "metadata": {},
   "outputs": [
    {
     "name": "stdout",
     "output_type": "stream",
     "text": [
      "(1, 4, 9, 16, 25)\n"
     ]
    }
   ],
   "source": [
    "t34=()\n",
    "for i in range(1,6):\n",
    "    t34+=(i*i,)\n",
    "print(t34)"
   ]
  },
  {
   "cell_type": "markdown",
   "id": "d22da761-ff88-4fbd-a390-822215878dc3",
   "metadata": {},
   "source": [
    "35. Filter out all even numbers from a tuple."
   ]
  },
  {
   "cell_type": "code",
   "execution_count": 12,
   "id": "765e5d55-adc2-4396-944a-c155ccf5121a",
   "metadata": {},
   "outputs": [
    {
     "name": "stdout",
     "output_type": "stream",
     "text": [
      "(4, 16)\n"
     ]
    }
   ],
   "source": [
    "filtered_tuple=()\n",
    "for i in range(len(t34)):\n",
    "    if t34[i]%2==0:\n",
    "        filtered_tuple+=(t34[i],)\n",
    "print(filtered_tuple)"
   ]
  },
  {
   "cell_type": "markdown",
   "id": "997020b7-b16b-40ea-a98d-0f85ffe3a651",
   "metadata": {},
   "source": [
    "36. Multiply all elements in a tuple by 2."
   ]
  },
  {
   "cell_type": "code",
   "execution_count": 14,
   "id": "100d9d7c-2928-4dec-a811-2d13bf83260c",
   "metadata": {},
   "outputs": [
    {
     "name": "stdout",
     "output_type": "stream",
     "text": [
      "(2, 8, 18, 32, 50)\n"
     ]
    }
   ],
   "source": [
    "multiplied_tuple=()\n",
    "for element in t34:\n",
    "    multiplied_tuple+=(element*2,)\n",
    "print(multiplied_tuple)"
   ]
  },
  {
   "cell_type": "markdown",
   "id": "1f70f85f-1f51-4700-b893-310b0aa46c20",
   "metadata": {},
   "source": [
    "37. Create a tuple of random numbers."
   ]
  },
  {
   "cell_type": "code",
   "execution_count": 18,
   "id": "74a77d72-9d6f-45bb-a2d0-49c1fd6b5cf2",
   "metadata": {},
   "outputs": [
    {
     "name": "stdout",
     "output_type": "stream",
     "text": [
      "(23, 30, 7, 95, 40, 16, 86, 63, 61, 91)\n"
     ]
    }
   ],
   "source": [
    "import random\n",
    "\n",
    "t37=()\n",
    "for i in range(10):\n",
    "    t37+=(random.randint(1,100),)\n",
    "print(t37)"
   ]
  },
  {
   "cell_type": "markdown",
   "id": "015f831c-a4cd-48b1-bbb8-c116d773b183",
   "metadata": {},
   "source": [
    "38. Check if a tuple is sorted."
   ]
  },
  {
   "cell_type": "code",
   "execution_count": 28,
   "id": "423b410a-4d70-46cf-9b48-0d0eac1eaeed",
   "metadata": {},
   "outputs": [
    {
     "name": "stdout",
     "output_type": "stream",
     "text": [
      "False\n"
     ]
    }
   ],
   "source": [
    "t38=(1,2,1,4,5,6)\n",
    "\n",
    "def is_sorted(input_tuple):\n",
    "    for i in range(len(input_tuple)-1):\n",
    "        if input_tuple[i+1]<input_tuple[i]:\n",
    "            return False\n",
    "            break\n",
    "    return True\n",
    "    \n",
    "print(is_sorted(t38))"
   ]
  },
  {
   "cell_type": "markdown",
   "id": "6236eff4-ee0d-4c0d-a9bb-4d7f4ac268ba",
   "metadata": {},
   "source": [
    "39. Rotate a tuple to the left by `n` positions."
   ]
  },
  {
   "cell_type": "code",
   "execution_count": 36,
   "id": "08e472d6-c434-43eb-8174-b6ec568d8ace",
   "metadata": {},
   "outputs": [
    {
     "name": "stdout",
     "output_type": "stream",
     "text": [
      "(3, 4, 5, 1, 2)\n"
     ]
    }
   ],
   "source": [
    "t39=(1,2,3,4,5)\n",
    "\n",
    "def left_rotater(input_tuple,n):\n",
    "    temp_list=[]\n",
    "    list(input_tuple)\n",
    "    temp_list=input_tuple[n:]+input_tuple[:n]\n",
    "    input_tuple=tuple(temp_list)\n",
    "    return input_tuple\n",
    "\n",
    "t39=left_rotater(t39,2)\n",
    "print(t39)"
   ]
  },
  {
   "cell_type": "markdown",
   "id": "7dda64b8-102d-4956-93a9-cdd533fdcb94",
   "metadata": {},
   "source": [
    "40. Rotate a tuple to the right by `n` positions."
   ]
  },
  {
   "cell_type": "code",
   "execution_count": 38,
   "id": "5609965f-d6b7-4ffd-993f-927550d3ea6b",
   "metadata": {},
   "outputs": [
    {
     "name": "stdout",
     "output_type": "stream",
     "text": [
      "(4, 5, 1, 2, 3)\n"
     ]
    }
   ],
   "source": [
    "t40=(1,2,3,4,5)\n",
    "\n",
    "def right_rotater(input_tuple,n):\n",
    "    list(input_tuple)\n",
    "    temp_list=[]\n",
    "    temp_list=input_tuple[-n:]+input_tuple[:-n]\n",
    "    input_tuple=tuple(temp_list)\n",
    "    return input_tuple\n",
    "\n",
    "t40=right_rotater(t40,2)\n",
    "print(t40)"
   ]
  },
  {
   "cell_type": "markdown",
   "id": "1a539e94-277e-4a8b-bf82-8686a34ce3d1",
   "metadata": {},
   "source": [
    "41. Create a tuple of the first 5 Fibonacci numbers."
   ]
  },
  {
   "cell_type": "code",
   "execution_count": 40,
   "id": "0c8ff450-f608-4631-9d07-c425e13e5f7d",
   "metadata": {},
   "outputs": [
    {
     "name": "stdout",
     "output_type": "stream",
     "text": [
      "(0, 1, 1, 2, 3)\n"
     ]
    }
   ],
   "source": [
    "def fib_creater(n):\n",
    "    fib_tuple=()\n",
    "    for i in range(n):\n",
    "        if i==0 or i==1:\n",
    "            fib_tuple+=(i,)\n",
    "        else:\n",
    "            fib_tuple+=((fib_tuple[i-1]+fib_tuple[i-2]),)\n",
    "    return fib_tuple\n",
    "\n",
    "resultant_tuple=fib_creater(5)\n",
    "print(resultant_tuple)"
   ]
  },
  {
   "cell_type": "markdown",
   "id": "5afcb3b8-24b6-412b-9e13-456ad89db23f",
   "metadata": {},
   "source": [
    "42. Create a tuple from user input."
   ]
  },
  {
   "cell_type": "code",
   "execution_count": 43,
   "id": "28024eca-4923-46ee-b38e-97baf6df0b1b",
   "metadata": {},
   "outputs": [
    {
     "name": "stdin",
     "output_type": "stream",
     "text": [
      "How many elements do you want to input: 5\n",
      "Enter the 1 element 1\n",
      "Enter the 2 element 2\n",
      "Enter the 3 element 3\n",
      "Enter the 4 element 4\n",
      "Enter the 5 element 5\n"
     ]
    },
    {
     "name": "stdout",
     "output_type": "stream",
     "text": [
      "(1, 2, 3, 4, 5)\n"
     ]
    }
   ],
   "source": [
    "size=int(input(\"How many elements do you want to input:\"))\n",
    "tuple42=()\n",
    "for i in range(size):\n",
    "    tuple42+=((int(input(f\"Enter the {i+1} element\"))),)\n",
    "print(tuple42)"
   ]
  },
  {
   "cell_type": "markdown",
   "id": "c7284551-4cc2-4f41-a4de-ef6e0e1ce1b3",
   "metadata": {},
   "source": [
    "43. Swap two elements in a tuple."
   ]
  },
  {
   "cell_type": "code",
   "execution_count": 48,
   "id": "2fc81261-f56f-46d7-bb29-d7383e97bdc8",
   "metadata": {},
   "outputs": [
    {
     "name": "stdout",
     "output_type": "stream",
     "text": [
      "(10, 2, 3, 4, 5, 6, 7, 8, 9, 1)\n"
     ]
    }
   ],
   "source": [
    "t43=(1,2,3,4,5,6,7,8,9,10)\n",
    "t43=list(t43)\n",
    "t43[0],t43[9]=t43[9],t43[0]\n",
    "t43=tuple(t43)\n",
    "print(t43)"
   ]
  },
  {
   "cell_type": "markdown",
   "id": "e20d9592-27dc-4d1e-835a-123bbd626583",
   "metadata": {},
   "source": [
    "44. Reverse the elements of a tuple."
   ]
  },
  {
   "cell_type": "code",
   "execution_count": 51,
   "id": "8993efdf-247a-40e0-8b25-b937d53891d9",
   "metadata": {},
   "outputs": [
    {
     "name": "stdout",
     "output_type": "stream",
     "text": [
      "(5, 4, 3, 2, 1)\n"
     ]
    }
   ],
   "source": [
    "t44=(1,2,3,4,5)\n",
    "t44=list(t44)\n",
    "t44.reverse()\n",
    "t44=tuple(t44)\n",
    "print(t44)"
   ]
  },
  {
   "cell_type": "markdown",
   "id": "33854c26-96b2-49db-bb2f-516ee39fd331",
   "metadata": {},
   "source": [
    "45. Create a tuple of the first `n` powers of 2."
   ]
  },
  {
   "cell_type": "code",
   "execution_count": 54,
   "id": "81c449ad-34a1-441b-a6fd-1eae322a68ec",
   "metadata": {},
   "outputs": [
    {
     "name": "stdout",
     "output_type": "stream",
     "text": [
      "(2, 4, 8, 16, 32)\n"
     ]
    }
   ],
   "source": [
    "t45=()\n",
    "n=5\n",
    "for i in range(n):\n",
    "    if i==0:\n",
    "        t45+=((2),)\n",
    "    else:\n",
    "        t45+=((2*t45[i-1]),)\n",
    "print(t45)"
   ]
  },
  {
   "cell_type": "markdown",
   "id": "2a8515b0-5ada-4c9c-9f20-b10f667e8327",
   "metadata": {},
   "source": [
    "46. Find the longest string in a tuple of strings."
   ]
  },
  {
   "cell_type": "code",
   "execution_count": 58,
   "id": "842d44b7-5551-4a46-90d0-c6d0657f7fde",
   "metadata": {},
   "outputs": [
    {
     "name": "stdout",
     "output_type": "stream",
     "text": [
      "String\n"
     ]
    }
   ],
   "source": [
    "t46=('This','is','a','Test','String')\n",
    "max_len=0\n",
    "max_len_string=t46[0]\n",
    "for string in t46:\n",
    "    if len(string)>max_len:\n",
    "        max_len=len(string)\n",
    "        max_len_string=string\n",
    "        \n",
    "print(max_len_string)"
   ]
  },
  {
   "cell_type": "markdown",
   "id": "434faf0e-c473-4e0f-95b8-338d3e43538c",
   "metadata": {},
   "source": [
    "47. Find the shortest string in a tuple of strings."
   ]
  },
  {
   "cell_type": "code",
   "execution_count": 60,
   "id": "f6452473-a875-4604-ada0-5df482d211b5",
   "metadata": {},
   "outputs": [
    {
     "name": "stdout",
     "output_type": "stream",
     "text": [
      "a\n"
     ]
    }
   ],
   "source": [
    "t46=('This','is','a','Test','String')\n",
    "shortest_len=100\n",
    "shortest_len_string=t46[0]\n",
    "for string in t46:\n",
    "    if len(string)<shortest_len:\n",
    "        shortest_len=len(string)\n",
    "        shortest_len_string=string\n",
    "        \n",
    "print(shortest_len_string)"
   ]
  },
  {
   "cell_type": "markdown",
   "id": "37a72274-a2de-488b-8fc7-686e58ce288e",
   "metadata": {},
   "source": [
    "48. Create a tuple of the first `n` triangular numbers."
   ]
  },
  {
   "cell_type": "code",
   "execution_count": 62,
   "id": "f9d8ae8a-43da-41ed-bb5e-3e923c0e8afc",
   "metadata": {},
   "outputs": [
    {
     "name": "stdout",
     "output_type": "stream",
     "text": [
      "(1, 3, 6, 10, 15)\n"
     ]
    }
   ],
   "source": [
    "n=5\n",
    "triangular_numbers=()\n",
    "\n",
    "for i in range(1,n+1):\n",
    "    triangular_number=i*(i+1)//2\n",
    "    triangular_numbers+=(triangular_number,)\n",
    "    \n",
    "print(triangular_numbers)"
   ]
  },
  {
   "cell_type": "markdown",
   "id": "6d454681-b7f1-40ab-830e-56b241bc260c",
   "metadata": {},
   "source": [
    "49. Check if a tuple contains another tuple as a subsequence."
   ]
  },
  {
   "cell_type": "code",
   "execution_count": 64,
   "id": "3337231b-5e35-4ae5-a04d-873c3183bd8f",
   "metadata": {},
   "outputs": [
    {
     "name": "stdout",
     "output_type": "stream",
     "text": [
      "True\n"
     ]
    }
   ],
   "source": [
    "def contains_subsequence(main_tuple, subsequence_tuple):\n",
    "    if not subsequence_tuple:\n",
    "        return True\n",
    "    return any(subsequence_tuple == main_tuple[i:i+len(subsequence_tuple)] for i in range(len(main_tuple)))\n",
    "\n",
    "\n",
    "main_tuple = (1, 2, 3, 4, 5, 6, 7)\n",
    "subsequence_tuple = (3, 4, 5)\n",
    "\n",
    "print(contains_subsequence(main_tuple, subsequence_tuple))"
   ]
  },
  {
   "cell_type": "markdown",
   "id": "96375484-e001-40d4-84b8-7debbad2ce89",
   "metadata": {},
   "source": [
    "50. Create a tuple of alternating 1s and 0s of length `n`."
   ]
  },
  {
   "cell_type": "code",
   "execution_count": 65,
   "id": "c1a53445-32ec-40f3-8dfb-3035e5f0c71c",
   "metadata": {},
   "outputs": [
    {
     "name": "stdout",
     "output_type": "stream",
     "text": [
      "(1, 0, 1, 0, 1, 0)\n"
     ]
    }
   ],
   "source": [
    "t50=()\n",
    "n=6\n",
    "\n",
    "for i in range(n):\n",
    "    if i%2==0:\n",
    "        t50+=(1,)\n",
    "    else :\n",
    "        t50+=(0,)\n",
    "        \n",
    "print(t50)"
   ]
  },
  {
   "cell_type": "markdown",
   "id": "449a6d24-5f0b-4ea3-a2f0-869e8e9bb50f",
   "metadata": {},
   "source": [
    "Set Based Practice Problem :"
   ]
  },
  {
   "cell_type": "markdown",
   "id": "06da4e29-6ae7-4007-a3c5-ebf64c160f23",
   "metadata": {},
   "source": [
    "1. Create a set with integers from 1 to 5."
   ]
  },
  {
   "cell_type": "code",
   "execution_count": 74,
   "id": "5061912c-628c-454c-8266-aecdd6e75ded",
   "metadata": {},
   "outputs": [
    {
     "name": "stdout",
     "output_type": "stream",
     "text": [
      "{1, 2, 3, 4, 5}\n"
     ]
    }
   ],
   "source": [
    "s1=set()\n",
    "for i in range(5):\n",
    "    s1.add(i+1)\n",
    "    \n",
    "print(s1)"
   ]
  },
  {
   "cell_type": "markdown",
   "id": "49d52219-8dd9-42ba-b5ad-5b8dbdea7f77",
   "metadata": {},
   "source": [
    "2. Add an element to a set."
   ]
  },
  {
   "cell_type": "code",
   "execution_count": 78,
   "id": "92e8a320-7093-4b4d-aa3b-918ccf9417a7",
   "metadata": {},
   "outputs": [
    {
     "name": "stdout",
     "output_type": "stream",
     "text": [
      "{1, 2, 3, 4, 5, 6}\n"
     ]
    }
   ],
   "source": [
    "s1.add(6)\n",
    "print(s1)"
   ]
  },
  {
   "cell_type": "markdown",
   "id": "b99dd08e-49e1-427e-bb15-fac6bc5053d0",
   "metadata": {},
   "source": [
    "3. Remove an element from a set."
   ]
  },
  {
   "cell_type": "code",
   "execution_count": 79,
   "id": "9678d6ce-aecc-435d-ba05-8fb0d39c253f",
   "metadata": {},
   "outputs": [
    {
     "name": "stdout",
     "output_type": "stream",
     "text": [
      "{1, 2, 3, 4, 5}\n"
     ]
    }
   ],
   "source": [
    "s1.discard(6)\n",
    "print(s1)"
   ]
  },
  {
   "cell_type": "markdown",
   "id": "2573bbc1-5f62-4ddf-927c-4168468bfdae",
   "metadata": {},
   "source": [
    "4. Check if an element exists in a set."
   ]
  },
  {
   "cell_type": "code",
   "execution_count": 80,
   "id": "93df1d98-52d3-4e8f-bc58-5a15c2801bf9",
   "metadata": {},
   "outputs": [
    {
     "name": "stdout",
     "output_type": "stream",
     "text": [
      "True\n"
     ]
    }
   ],
   "source": [
    "if 4 in s1:\n",
    "    print(True)\n",
    "else: print(False)"
   ]
  },
  {
   "cell_type": "markdown",
   "id": "3b401fa0-0a4c-46e3-ba05-cef97b289a0d",
   "metadata": {},
   "source": [
    "5. Find the length of a set without using the `len()` function."
   ]
  },
  {
   "cell_type": "code",
   "execution_count": 81,
   "id": "265d30da-7ebf-4216-91d1-3ce662b86566",
   "metadata": {},
   "outputs": [
    {
     "name": "stdout",
     "output_type": "stream",
     "text": [
      "5\n"
     ]
    }
   ],
   "source": [
    "count=0\n",
    "for _ in s1:\n",
    "    count+=1\n",
    "\n",
    "print(count)"
   ]
  },
  {
   "cell_type": "markdown",
   "id": "18ccf337-40f2-4cb7-af99-05e1095467ab",
   "metadata": {},
   "source": [
    "6. Clear all elements from a set."
   ]
  },
  {
   "cell_type": "code",
   "execution_count": 82,
   "id": "a45b9ba3-2767-4681-bc92-3901a282a98b",
   "metadata": {},
   "outputs": [],
   "source": [
    "s1.clear()"
   ]
  },
  {
   "cell_type": "markdown",
   "id": "7e62788e-1597-48ec-936d-fad5f0dfea3b",
   "metadata": {},
   "source": [
    "7. Create a set of even numbers from 1 to 10."
   ]
  },
  {
   "cell_type": "code",
   "execution_count": 84,
   "id": "e06bba15-2c1f-4e59-88e7-8da915b653a4",
   "metadata": {},
   "outputs": [
    {
     "name": "stdout",
     "output_type": "stream",
     "text": [
      "{2, 4, 6, 8, 10}\n"
     ]
    }
   ],
   "source": [
    "s7=set()\n",
    "for i in range(1,11):\n",
    "    if i%2==0:\n",
    "        s7.add(i)\n",
    "print(s7)"
   ]
  },
  {
   "cell_type": "markdown",
   "id": "31e9ec00-1982-4eb6-b43f-e31768cdc39c",
   "metadata": {},
   "source": [
    "8. Create a set of odd numbers from 1 to 10."
   ]
  },
  {
   "cell_type": "code",
   "execution_count": 85,
   "id": "bbe2db6c-ab86-4278-85b7-f0bc8a755d3e",
   "metadata": {},
   "outputs": [
    {
     "name": "stdout",
     "output_type": "stream",
     "text": [
      "{1, 3, 5, 7, 9}\n"
     ]
    }
   ],
   "source": [
    "s8=set()\n",
    "for i in range(1,11):\n",
    "    if i%2!=0:\n",
    "        s8.add(i)\n",
    "print(s8)"
   ]
  },
  {
   "cell_type": "markdown",
   "id": "45878365-bb44-409a-b978-a1225fd37386",
   "metadata": {},
   "source": [
    "9. Find the union of two sets."
   ]
  },
  {
   "cell_type": "code",
   "execution_count": 91,
   "id": "b3558cbc-2e29-4510-8d5b-812b14c6bfe6",
   "metadata": {},
   "outputs": [
    {
     "name": "stdout",
     "output_type": "stream",
     "text": [
      "{1, 2, 3, 4, 5, 7, 11, 13}\n"
     ]
    }
   ],
   "source": [
    "s9_1=(1,2,3,4,5)\n",
    "s9_2=(2,3,5,7,11,13)\n",
    "union_set=set()\n",
    "\n",
    "for i in range(len(s9_1)):\n",
    "    union_set.add(s9_1[i])\n",
    "    \n",
    "for j in range(len(s9_2)):\n",
    "    union_set.add(s9_2[j])\n",
    "            \n",
    "print(union_set)"
   ]
  },
  {
   "cell_type": "markdown",
   "id": "cdcab95a-6aa7-4b08-b045-24a046cdb0f7",
   "metadata": {},
   "source": [
    "10. Find the intersection of two sets."
   ]
  },
  {
   "cell_type": "code",
   "execution_count": 92,
   "id": "9d7fecba-b37b-4cc3-98c7-ff9770687e07",
   "metadata": {},
   "outputs": [
    {
     "name": "stdout",
     "output_type": "stream",
     "text": [
      "{2, 3, 5}\n"
     ]
    }
   ],
   "source": [
    "s9_1=(1,2,3,4,5)\n",
    "s9_2=(2,3,5,7,11,13)\n",
    "union_set=set()\n",
    "\n",
    "for i in range(len(s9_1)):\n",
    "    for j in range(len(s9_2)):\n",
    "        if s9_1[i]==s9_2[j]:\n",
    "            union_set.add(s9_1[i])\n",
    "            \n",
    "print(union_set)"
   ]
  },
  {
   "cell_type": "markdown",
   "id": "a9aacf36-5ef3-4c15-8da1-4663743283db",
   "metadata": {},
   "source": [
    "11. Find the difference between two sets."
   ]
  },
  {
   "cell_type": "code",
   "execution_count": 93,
   "id": "dfcd803a-82c6-46b0-b5be-1c5255a2b425",
   "metadata": {},
   "outputs": [
    {
     "name": "stdout",
     "output_type": "stream",
     "text": [
      "{1, 2}\n"
     ]
    }
   ],
   "source": [
    "set11_1={1,2,3,4,5}\n",
    "set11_2={3,4,5,6,7}\n",
    "\n",
    "diff=set11_1-set11_2\n",
    "print(diff)"
   ]
  },
  {
   "cell_type": "markdown",
   "id": "a2328c5d-c0cb-44bf-b31f-1441ac526e15",
   "metadata": {},
   "source": [
    "12. Check if a set is a subset of another set."
   ]
  },
  {
   "cell_type": "code",
   "execution_count": 98,
   "id": "a6185458-7e47-4436-9f35-d5494aca5ef2",
   "metadata": {},
   "outputs": [
    {
     "name": "stdout",
     "output_type": "stream",
     "text": [
      "False\n"
     ]
    }
   ],
   "source": [
    "s12 = {1, 2, 3, 4, 5, 6}\n",
    "sub_s12 = {2, 3, 5, 8}\n",
    "\n",
    "def subset_checker(input_set, input_subset):\n",
    "    return input_subset.issubset(input_set)\n",
    "\n",
    "result = subset_checker(s12, sub_s12)\n",
    "print(result)"
   ]
  },
  {
   "cell_type": "markdown",
   "id": "59db2a7c-9a84-4bb2-ad52-a53becfbf10b",
   "metadata": {},
   "source": [
    "13. Check if a set is a superset of another set."
   ]
  },
  {
   "cell_type": "code",
   "execution_count": 101,
   "id": "06722b1e-09e2-4cdc-a8d1-ab6bc4a0a0ab",
   "metadata": {},
   "outputs": [
    {
     "name": "stdout",
     "output_type": "stream",
     "text": [
      "False\n"
     ]
    }
   ],
   "source": [
    "if s12.issuperset(sub_s12):\n",
    "    print(True)\n",
    "else: print(False)"
   ]
  },
  {
   "cell_type": "markdown",
   "id": "f90c4130-4501-439a-857f-7b0ca476683d",
   "metadata": {},
   "source": [
    "14. Create a set from a list."
   ]
  },
  {
   "cell_type": "code",
   "execution_count": 111,
   "id": "201cc966-6b09-468a-83bc-77e34a61c098",
   "metadata": {},
   "outputs": [
    {
     "name": "stdout",
     "output_type": "stream",
     "text": [
      "{0, 1, 2, 3, 4}\n"
     ]
    }
   ],
   "source": [
    "list14=[0,1,2,3,4]\n",
    "set14=set(list14)\n",
    "print(set14)"
   ]
  },
  {
   "cell_type": "markdown",
   "id": "ca015b68-9971-46e7-af7f-3e2e8fb6f6fc",
   "metadata": {},
   "source": [
    "15. Convert a set to a list."
   ]
  },
  {
   "cell_type": "code",
   "execution_count": 112,
   "id": "20c45cc9-5fd9-460c-afea-7acac98217f9",
   "metadata": {},
   "outputs": [
    {
     "name": "stdout",
     "output_type": "stream",
     "text": [
      "[0, 1, 2, 3, 4]\n"
     ]
    }
   ],
   "source": [
    "s14=list(set14)\n",
    "print(s14)"
   ]
  },
  {
   "cell_type": "markdown",
   "id": "18e9194f-9688-4b6a-9e9e-370735c551c8",
   "metadata": {},
   "source": [
    "16. Remove a random element from a set."
   ]
  },
  {
   "cell_type": "code",
   "execution_count": 113,
   "id": "cf543508-1014-42df-b2a6-57a3e51bd7ba",
   "metadata": {},
   "outputs": [
    {
     "name": "stdout",
     "output_type": "stream",
     "text": [
      "{0, 1, 3, 4}\n"
     ]
    }
   ],
   "source": [
    "s14=set(s14)\n",
    "s14.discard(2)\n",
    "print(s14)"
   ]
  },
  {
   "cell_type": "markdown",
   "id": "ee2fca8d-3926-4611-8ace-b61cc9cb739a",
   "metadata": {},
   "source": [
    "17. Pop an element from a set."
   ]
  },
  {
   "cell_type": "code",
   "execution_count": 114,
   "id": "fefce73b-a20e-4715-9747-f993df65c0e7",
   "metadata": {},
   "outputs": [
    {
     "name": "stdout",
     "output_type": "stream",
     "text": [
      "{1, 3, 4}\n"
     ]
    }
   ],
   "source": [
    "s14.pop()\n",
    "print(s14)"
   ]
  },
  {
   "cell_type": "markdown",
   "id": "4312ba85-8f9e-4357-b032-809254d5e195",
   "metadata": {},
   "source": [
    "18. Check if two sets have no elements in common."
   ]
  },
  {
   "cell_type": "code",
   "execution_count": 115,
   "id": "88bd42ce-4329-4f60-a1f4-124e03adb3fe",
   "metadata": {},
   "outputs": [
    {
     "name": "stdout",
     "output_type": "stream",
     "text": [
      "False\n"
     ]
    }
   ],
   "source": [
    "s18_1={1,2,3,4,5,6}\n",
    "s18_2={6,7,8,9}\n",
    "\n",
    "are_disjoint=s18_1.isdisjoint(s18_2)\n",
    "print(are_disjoint)"
   ]
  },
  {
   "cell_type": "markdown",
   "id": "1b14005b-6ba3-4b69-a471-7597bd275c97",
   "metadata": {},
   "source": [
    "19. Find the symmetric difference between two sets."
   ]
  },
  {
   "cell_type": "code",
   "execution_count": 116,
   "id": "ed82d1f1-04bc-4ffd-97a1-8286954231d1",
   "metadata": {},
   "outputs": [
    {
     "name": "stdout",
     "output_type": "stream",
     "text": [
      "Using symmetric_difference(): {1, 2, 6, 7}\n"
     ]
    }
   ],
   "source": [
    "set1 = {1, 2, 3, 4, 5}\n",
    "set2 = {3, 4, 5, 6, 7}\n",
    "\n",
    "symmetric_diff_method = set1.symmetric_difference(set2)\n",
    "\n",
    "print(\"Using symmetric_difference():\", symmetric_diff_method)"
   ]
  },
  {
   "cell_type": "markdown",
   "id": "b6a552a0-2683-41bc-bb13-632444c67f6b",
   "metadata": {},
   "source": [
    "20. Update a set with elements from another set."
   ]
  },
  {
   "cell_type": "code",
   "execution_count": 120,
   "id": "868d5123-72ba-47cd-b7bb-980060cfe642",
   "metadata": {},
   "outputs": [
    {
     "name": "stdout",
     "output_type": "stream",
     "text": [
      "{1, 2, 3, 4, 5, 6, 7}\n",
      "{4, 5, 6, 7}\n"
     ]
    }
   ],
   "source": [
    "s20_1={1,2,3,4}\n",
    "s20_2={4,5,6,7}\n",
    "\n",
    "s20_1.update(s20_2)\n",
    "print(s20_1)\n",
    "print(s20_2)"
   ]
  },
  {
   "cell_type": "markdown",
   "id": "fc1025db-1a77-4581-b9a2-58024f049c99",
   "metadata": {},
   "source": [
    "21. Create a set of the first 5 prime numbers."
   ]
  },
  {
   "cell_type": "code",
   "execution_count": 2,
   "id": "a42903a3-4696-4f21-8c51-0a2d8760938f",
   "metadata": {},
   "outputs": [
    {
     "name": "stdout",
     "output_type": "stream",
     "text": [
      "{2, 3, 5, 7, 11}\n"
     ]
    }
   ],
   "source": [
    "s21={2,3,5,7,11}\n",
    "print(s21)"
   ]
  },
  {
   "cell_type": "markdown",
   "id": "ea0f1030-6131-4ed5-a1ff-5ec705a6a2f2",
   "metadata": {},
   "source": [
    "22. Check if two sets are identical."
   ]
  },
  {
   "cell_type": "code",
   "execution_count": 4,
   "id": "88b25e43-b458-42ff-b557-ebb1eb2c6650",
   "metadata": {},
   "outputs": [
    {
     "name": "stdout",
     "output_type": "stream",
     "text": [
      "The sets are identical.\n"
     ]
    }
   ],
   "source": [
    "set1 = {1, 2, 3}\n",
    "set2 = {3, 2, 1}\n",
    "\n",
    "are_identical = set1 == set2\n",
    "\n",
    "if are_identical:\n",
    "    print(\"The sets are identical.\")\n",
    "else:\n",
    "    print(\"The sets are not identical.\")"
   ]
  },
  {
   "cell_type": "markdown",
   "id": "bc6d5aa2-19e9-4e61-a065-ea6b1274691e",
   "metadata": {},
   "source": [
    "23. Create a frozen set."
   ]
  },
  {
   "cell_type": "code",
   "execution_count": 5,
   "id": "05e19e83-0e79-438c-a812-384180406fd3",
   "metadata": {},
   "outputs": [
    {
     "name": "stdout",
     "output_type": "stream",
     "text": [
      "frozenset({1, 2, 3, 4, 5})\n"
     ]
    }
   ],
   "source": [
    "my_frozen_set = frozenset([1, 2, 3, 4, 5])\n",
    "\n",
    "print(my_frozen_set)"
   ]
  },
  {
   "cell_type": "markdown",
   "id": "71b58469-1fb4-442d-a746-723688b6eaf1",
   "metadata": {},
   "source": [
    "24. Check if a set is disjoint with another set."
   ]
  },
  {
   "cell_type": "code",
   "execution_count": 6,
   "id": "cf0cddb0-9f26-4127-a08e-aa690239c3c3",
   "metadata": {},
   "outputs": [
    {
     "name": "stdout",
     "output_type": "stream",
     "text": [
      "False\n"
     ]
    }
   ],
   "source": [
    "set24_1={1,2,3,4,5}\n",
    "set24_2={1,2,3,4}\n",
    "\n",
    "if set24_1.isdisjoint(set24_2):\n",
    "    print(True)\n",
    "else: print(False)"
   ]
  },
  {
   "cell_type": "markdown",
   "id": "6375b780-b3ac-472c-9346-5acedc874781",
   "metadata": {},
   "source": [
    "25. Create a set of squares of numbers from 1 to 5."
   ]
  },
  {
   "cell_type": "code",
   "execution_count": 11,
   "id": "3a63e55e-f538-437c-87a7-ab48704c9f42",
   "metadata": {},
   "outputs": [
    {
     "name": "stdout",
     "output_type": "stream",
     "text": [
      "{1, 4, 9, 16, 25}\n"
     ]
    }
   ],
   "source": [
    "set25=set()\n",
    "\n",
    "for i in range(1,6):\n",
    "    set25.add(i*i)\n",
    "    \n",
    "print(set25)"
   ]
  },
  {
   "cell_type": "markdown",
   "id": "53c6e0fe-24e1-47bf-9bee-7a772c430713",
   "metadata": {},
   "source": [
    "26. Filter out all even numbers from a set."
   ]
  },
  {
   "cell_type": "code",
   "execution_count": 15,
   "id": "0c136918-d261-447f-8b04-d19dc6c5527f",
   "metadata": {},
   "outputs": [
    {
     "name": "stdout",
     "output_type": "stream",
     "text": [
      "{8, 2, 4, 6}\n"
     ]
    }
   ],
   "source": [
    "set26 = {1, 2, 3, 4, 5, 6, 7, 8}\n",
    "filtered_set26 = set()\n",
    "\n",
    "for num in set26:\n",
    "    if num % 2 == 0:\n",
    "        filtered_set26.add(num)\n",
    "\n",
    "print(filtered_set26)"
   ]
  },
  {
   "cell_type": "markdown",
   "id": "2a2626fe-f22c-464f-9fa4-d040c22c44ea",
   "metadata": {},
   "source": [
    "27. Multiply all elements in a set by 2."
   ]
  },
  {
   "cell_type": "code",
   "execution_count": 18,
   "id": "3b3a2d11-dc43-4030-9aab-dbad0e706f6c",
   "metadata": {},
   "outputs": [
    {
     "name": "stdout",
     "output_type": "stream",
     "text": [
      "Original set26: {1, 2, 3, 4, 5, 6, 7, 8}\n",
      "Result set26 (elements multiplied by 2): {2, 4, 6, 8, 10, 12, 14, 16}\n"
     ]
    }
   ],
   "source": [
    "set26 = {1, 2, 3, 4, 5, 6, 7, 8}\n",
    "\n",
    "result_set26 = {num * 2 for num in set26}\n",
    "\n",
    "print(\"Original set26:\", set26)\n",
    "print(\"Result set26 (elements multiplied by 2):\", result_set26)"
   ]
  },
  {
   "cell_type": "markdown",
   "id": "69844080-50bb-4ef2-9264-915343db4c1c",
   "metadata": {},
   "source": [
    "28. Create a set of random numbers."
   ]
  },
  {
   "cell_type": "code",
   "execution_count": 20,
   "id": "32804f14-0b18-467a-8193-caff00ef2541",
   "metadata": {},
   "outputs": [
    {
     "name": "stdout",
     "output_type": "stream",
     "text": [
      "{96, 5, 11, 76, 16, 48, 83, 24, 26}\n"
     ]
    }
   ],
   "source": [
    "import random\n",
    "\n",
    "random_set28=set()\n",
    "for i in range(1,11):\n",
    "    random_set28.add(random.randint(1,100))\n",
    "    \n",
    "print(random_set28)"
   ]
  },
  {
   "cell_type": "markdown",
   "id": "b4bbaf06-d121-481d-8bbf-83feb2db256e",
   "metadata": {},
   "source": [
    "29. Check if a set is empty."
   ]
  },
  {
   "cell_type": "code",
   "execution_count": 26,
   "id": "1c5825dd-8529-4a07-8b68-fc14f40e8a2c",
   "metadata": {},
   "outputs": [
    {
     "name": "stdout",
     "output_type": "stream",
     "text": [
      "It is empty\n"
     ]
    }
   ],
   "source": [
    "set29=set()\n",
    "\n",
    "if len(set29)==0:\n",
    "    print(\"It is empty\")\n",
    "else:\n",
    "    print(\"It is not empty\")"
   ]
  },
  {
   "cell_type": "markdown",
   "id": "7a8fe997-80e8-45cd-979c-a4cc4314ea20",
   "metadata": {},
   "source": [
    "30. Create a nested set (hint: use frozenset)."
   ]
  },
  {
   "cell_type": "code",
   "execution_count": 29,
   "id": "cc9ee1c0-ca5d-4822-8d3b-9d642525494b",
   "metadata": {},
   "outputs": [
    {
     "name": "stdout",
     "output_type": "stream",
     "text": [
      "{frozenset({3, 4}), frozenset({1, 2})}\n"
     ]
    }
   ],
   "source": [
    "set30 = {frozenset({1, 2}), frozenset({3, 4})}\n",
    "print(set30)"
   ]
  },
  {
   "cell_type": "markdown",
   "id": "5bb9ec48-e4bc-4d55-8337-ce6e37bd2cdc",
   "metadata": {},
   "source": [
    "31. Remove an element from a set using the discard method."
   ]
  },
  {
   "cell_type": "code",
   "execution_count": 30,
   "id": "1db9f9b0-d0dd-4c4e-8807-b490c19daffb",
   "metadata": {},
   "outputs": [
    {
     "name": "stdout",
     "output_type": "stream",
     "text": [
      "{1, 2, 3, 4}\n"
     ]
    }
   ],
   "source": [
    "set31={1,2,3,4,5}\n",
    "set31.discard(5)\n",
    "print(set31)"
   ]
  },
  {
   "cell_type": "markdown",
   "id": "89378798-27e5-45c9-995f-869ed4a9a9b3",
   "metadata": {},
   "source": [
    "32. Compare two sets."
   ]
  },
  {
   "cell_type": "code",
   "execution_count": 31,
   "id": "8298e173-9c77-44b2-9412-37dbada92bcb",
   "metadata": {},
   "outputs": [
    {
     "name": "stdout",
     "output_type": "stream",
     "text": [
      "Are the sets equal? True\n"
     ]
    }
   ],
   "source": [
    "set1 = {1, 2, 3}\n",
    "set2 = {3, 2, 1}\n",
    "\n",
    "are_equal = set1 == set2\n",
    "print(\"Are the sets equal?\", are_equal)"
   ]
  },
  {
   "cell_type": "markdown",
   "id": "a51ea6dc-c161-40ff-9442-5545dc1ab9b5",
   "metadata": {},
   "source": [
    "33. Create a set from a string."
   ]
  },
  {
   "cell_type": "code",
   "execution_count": 33,
   "id": "252c8c21-69dc-4ed1-a34a-f07fac71b56e",
   "metadata": {},
   "outputs": [
    {
     "name": "stdout",
     "output_type": "stream",
     "text": [
      "{' ', 'e', 'h', 'r', 'g', 'i', 'a', 't', 'n', 's', 'T'}\n"
     ]
    }
   ],
   "source": [
    "string33=\"This is a test string\"\n",
    "set33=set(string33)\n",
    "print(set33)"
   ]
  },
  {
   "cell_type": "markdown",
   "id": "80d4617b-9d25-4cf5-be9b-dfd13ef62bfa",
   "metadata": {},
   "source": [
    "34. Convert a set of strings to a set of integers."
   ]
  },
  {
   "cell_type": "code",
   "execution_count": 34,
   "id": "7e123f14-e94b-400b-a754-adf5685734e1",
   "metadata": {},
   "outputs": [
    {
     "name": "stdout",
     "output_type": "stream",
     "text": [
      "{42, 3, 34}\n"
     ]
    }
   ],
   "source": [
    "set34_string={\"34\",\"42\",\"3\"}\n",
    "set34_integer=set()\n",
    "\n",
    "for string in set34_string:\n",
    "    set34_integer.add(int(string))\n",
    "    \n",
    "print(set34_integer)"
   ]
  },
  {
   "cell_type": "markdown",
   "id": "58ddcc40-580f-4001-b061-135a3cbda4a1",
   "metadata": {},
   "source": [
    "35. Convert a set of integers to a set of strings."
   ]
  },
  {
   "cell_type": "code",
   "execution_count": 35,
   "id": "3ee59c61-c3af-49f7-873a-34dfdd65a7e1",
   "metadata": {},
   "outputs": [
    {
     "name": "stdout",
     "output_type": "stream",
     "text": [
      "{'3', '42', '34'}\n"
     ]
    }
   ],
   "source": [
    "set35_string=set()\n",
    "for integers in set34_integer:\n",
    "    set35_string.add(str(integers))\n",
    "    \n",
    "print(set35_string)"
   ]
  },
  {
   "cell_type": "markdown",
   "id": "f074693b-fbac-4cea-9544-eca067097d37",
   "metadata": {},
   "source": [
    "36. Create a set from a tuple."
   ]
  },
  {
   "cell_type": "code",
   "execution_count": 36,
   "id": "ea743b16-7567-4953-a036-5dbb507e802f",
   "metadata": {},
   "outputs": [
    {
     "name": "stdout",
     "output_type": "stream",
     "text": [
      "{1, 2, 3, 4, 5}\n"
     ]
    }
   ],
   "source": [
    "tuple36=(1,2,3,4,5)\n",
    "set36=set()\n",
    "\n",
    "for element in tuple36:\n",
    "    set36.add(element)\n",
    "    \n",
    "print(set36)"
   ]
  },
  {
   "cell_type": "markdown",
   "id": "af7d7598-ab8f-430d-b3b1-d7a11f02f5fb",
   "metadata": {},
   "source": [
    "37. Convert a set to a tuple."
   ]
  },
  {
   "cell_type": "code",
   "execution_count": 37,
   "id": "0057cb11-c208-4db7-be74-1615307366ab",
   "metadata": {},
   "outputs": [
    {
     "name": "stdout",
     "output_type": "stream",
     "text": [
      "(1, 2, 3, 4, 5)\n"
     ]
    }
   ],
   "source": [
    "tuple37=()\n",
    "\n",
    "for element in set36:\n",
    "    tuple37+=(element,)\n",
    "    \n",
    "print(tuple37)"
   ]
  },
  {
   "cell_type": "markdown",
   "id": "732f953c-64a8-4665-9976-5a625576bdb7",
   "metadata": {},
   "source": [
    "38. Find the maximum value in a set."
   ]
  },
  {
   "cell_type": "code",
   "execution_count": 38,
   "id": "4c866d47-9133-4c67-8aac-32fdcfac3111",
   "metadata": {},
   "outputs": [
    {
     "name": "stdout",
     "output_type": "stream",
     "text": [
      "5\n"
     ]
    }
   ],
   "source": [
    "maxOfSet36=max(set36)\n",
    "print(maxOfSet36)"
   ]
  },
  {
   "cell_type": "markdown",
   "id": "e8863b89-7bb7-454b-824d-c9b506c70bb5",
   "metadata": {},
   "source": [
    "39. Find the minimum value in a set."
   ]
  },
  {
   "cell_type": "code",
   "execution_count": 42,
   "id": "6512892b-1743-4943-8328-c5dd8d64ad21",
   "metadata": {},
   "outputs": [
    {
     "name": "stdout",
     "output_type": "stream",
     "text": [
      "1\n"
     ]
    }
   ],
   "source": [
    "minOfSet36=min(set36)\n",
    "print(minOfSet36)"
   ]
  },
  {
   "cell_type": "markdown",
   "id": "4a75b449-ef06-44b3-9479-c9756011bbe5",
   "metadata": {},
   "source": [
    "40. Create a set from user input."
   ]
  },
  {
   "cell_type": "code",
   "execution_count": 44,
   "id": "4ded1b08-5c0e-46ef-81da-609c00dc7aed",
   "metadata": {},
   "outputs": [
    {
     "name": "stdin",
     "output_type": "stream",
     "text": [
      "Enter the string 1: The\n",
      "Enter the string 2: quick\n",
      "Enter the string 3: brown\n",
      "Enter the string 4: fox\n",
      "Enter the string 5: jumped\n",
      "Enter the string 6: over\n",
      "Enter the string 7: the\n",
      "Enter the string 8: lazy\n",
      "Enter the string 9: dog\n",
      "Enter the string 10: .\n"
     ]
    },
    {
     "name": "stdout",
     "output_type": "stream",
     "text": [
      "{'fox', 'brown', 'lazy', 'dog', '.', 'the', 'The', 'jumped', 'quick', 'over'}\n"
     ]
    }
   ],
   "source": [
    "set40=set()\n",
    "\n",
    "for i in range(10):\n",
    "    set40.add(input(f\"Enter the string {i+1}:\"))\n",
    "    \n",
    "print(set40)"
   ]
  },
  {
   "cell_type": "markdown",
   "id": "1fd1b0db-11c7-4e48-b687-305ba211969e",
   "metadata": {},
   "source": [
    "41. Check if the intersection of two sets is empty."
   ]
  },
  {
   "cell_type": "code",
   "execution_count": 48,
   "id": "44257bf1-3e4f-4c75-b2d8-572cf78504c6",
   "metadata": {},
   "outputs": [
    {
     "name": "stdout",
     "output_type": "stream",
     "text": [
      "Intersection is empty\n"
     ]
    }
   ],
   "source": [
    "s1={1,2,3,4,5}\n",
    "s2={6,7,8,9,10}\n",
    "\n",
    "intersection = s1.intersection(s2)\n",
    "\n",
    "if len(intersection)==0:\n",
    "    print(\"Intersection is empty\")\n",
    "else:\n",
    "    print(\"Intersection is not empty\")"
   ]
  },
  {
   "cell_type": "markdown",
   "id": "5bc1a0e2-abf7-442d-a74b-7c52a557c431",
   "metadata": {},
   "source": [
    "42. Create a set of the first 5 Fibonacci numbers."
   ]
  },
  {
   "cell_type": "code",
   "execution_count": 52,
   "id": "c046304c-24d3-4ceb-99ce-f3fe16f37581",
   "metadata": {},
   "outputs": [
    {
     "name": "stdout",
     "output_type": "stream",
     "text": [
      "{0, 1, 2, 3}\n"
     ]
    }
   ],
   "source": [
    "fib_set=set()\n",
    "n=5\n",
    "\n",
    "fib_set=list(fib_set)\n",
    "for i in range(n):\n",
    "    if i==0 or i==1:\n",
    "        fib_set.append(i)\n",
    "    else:\n",
    "        fib_set.append(fib_set[i-1]+fib_set[i-2])\n",
    "fib_set=set(fib_set)\n",
    "print(fib_set)"
   ]
  },
  {
   "cell_type": "markdown",
   "id": "d806c460-eb74-4aed-8ad0-3b9f3b52153d",
   "metadata": {},
   "source": [
    "43. Remove duplicates from a list using sets."
   ]
  },
  {
   "cell_type": "code",
   "execution_count": 53,
   "id": "c5f2e260-59ef-4b4d-b77d-5791a465cc11",
   "metadata": {},
   "outputs": [
    {
     "name": "stdout",
     "output_type": "stream",
     "text": [
      "{1, 2, 4, 5, 7}\n"
     ]
    }
   ],
   "source": [
    "list43=[1,1,1,2,2,4,4,5,5,7]\n",
    "list43=set(list43)\n",
    "print(list43)"
   ]
  },
  {
   "cell_type": "markdown",
   "id": "1230a467-0693-4c67-8372-83f7cefad2c9",
   "metadata": {},
   "source": [
    "44. Check if two sets have the same elements, regardless of their count."
   ]
  },
  {
   "cell_type": "code",
   "execution_count": 54,
   "id": "1537a7aa-2a26-4d37-84bf-59416ceb68f9",
   "metadata": {},
   "outputs": [
    {
     "name": "stdout",
     "output_type": "stream",
     "text": [
      "The sets have the same elements regardless of count.\n"
     ]
    }
   ],
   "source": [
    "set1 = {1, 2, 3, 4}\n",
    "set2 = {4, 3, 2, 1}\n",
    "\n",
    "set1_as_set = set(set1)\n",
    "set2_as_set = set(set2)\n",
    "\n",
    "have_same_elements = set1_as_set == set2_as_set\n",
    "\n",
    "if have_same_elements:\n",
    "    print(\"The sets have the same elements regardless of count.\")\n",
    "else:\n",
    "    print(\"The sets do not have the same elements regardless of count.\")\n"
   ]
  },
  {
   "cell_type": "markdown",
   "id": "ae9e785c-da04-4bf8-8ce2-284b8b39d2b4",
   "metadata": {},
   "source": [
    "45. Create a set of the first `n` powers of 2."
   ]
  },
  {
   "cell_type": "code",
   "execution_count": 58,
   "id": "52b792ad-ce09-4771-b84b-3263232381dd",
   "metadata": {},
   "outputs": [
    {
     "name": "stdout",
     "output_type": "stream",
     "text": [
      "{1, 2, 4, 8, 16}\n"
     ]
    }
   ],
   "source": [
    "set45 = set()\n",
    "n = 5\n",
    "\n",
    "for i in range(n):\n",
    "    set45.add(2 ** i)\n",
    "\n",
    "print(set45)"
   ]
  },
  {
   "cell_type": "markdown",
   "id": "2dbbd1fb-ecf6-4497-af66-3b59a6f3a698",
   "metadata": {},
   "source": [
    "46. Find the common elements between a set and a list."
   ]
  },
  {
   "cell_type": "code",
   "execution_count": 59,
   "id": "723d57d4-68ce-4937-b7cf-2b7d792891e0",
   "metadata": {},
   "outputs": [
    {
     "name": "stdout",
     "output_type": "stream",
     "text": [
      "[4, 5]\n"
     ]
    }
   ],
   "source": [
    "list46=[1,2,3,4,5]\n",
    "set46={4,5,6,7,8}\n",
    "common_elements_list=[]\n",
    "\n",
    "for i in range(len(list46)):\n",
    "    if list46[i] in set46:\n",
    "        common_elements_list.append(list46[i])\n",
    "        \n",
    "print(common_elements_list)"
   ]
  },
  {
   "cell_type": "markdown",
   "id": "0238a7ca-dcae-4936-875e-fb7bcbcb3645",
   "metadata": {},
   "source": [
    "47. Create a set of the first `n` triangular numbers."
   ]
  },
  {
   "cell_type": "code",
   "execution_count": 68,
   "id": "a530cb12-ac34-4e89-b190-7cea7a86472c",
   "metadata": {},
   "outputs": [
    {
     "name": "stdout",
     "output_type": "stream",
     "text": [
      "{1, 3, 6, 10, 15}\n"
     ]
    }
   ],
   "source": [
    "n=5\n",
    "triangular_list=[]\n",
    "triangular_set=set()\n",
    "\n",
    "for i in range(1,n+1):\n",
    "    triangular_set.add(i*(i+1)//2)\n",
    "    \n",
    "print(triangular_set)"
   ]
  },
  {
   "cell_type": "markdown",
   "id": "46500dcd-5471-42bf-a317-c6417c52f51d",
   "metadata": {},
   "source": [
    "48. Check if a set contains another set as a subset."
   ]
  },
  {
   "cell_type": "code",
   "execution_count": 69,
   "id": "72053ecb-e32a-45af-8159-18005b72816c",
   "metadata": {},
   "outputs": [
    {
     "name": "stdout",
     "output_type": "stream",
     "text": [
      "S2 is subset of S1\n"
     ]
    }
   ],
   "source": [
    "s1={1,2,3,4,5}\n",
    "s2={4,5}\n",
    "\n",
    "if s2.issubset(s1):\n",
    "    print(\"S2 is subset of S1\")\n",
    "else:\n",
    "    print(\"S2 in not subset of S2\")"
   ]
  },
  {
   "cell_type": "markdown",
   "id": "97c2c9a0-c338-44f5-9864-c64b5bf38b89",
   "metadata": {},
   "source": [
    "49. Create a set of alternating 1s and 0s of length `n`."
   ]
  },
  {
   "cell_type": "code",
   "execution_count": 70,
   "id": "64b04447-d46d-4ee1-8de5-c1f27b3aafa3",
   "metadata": {},
   "outputs": [
    {
     "name": "stdout",
     "output_type": "stream",
     "text": [
      "{0, 1}\n"
     ]
    }
   ],
   "source": [
    "set49=set()\n",
    "\n",
    "for i in range(5):\n",
    "    if i%2==0:\n",
    "        set49.add(1)\n",
    "    else:\n",
    "        set49.add(0)\n",
    "        \n",
    "print(set49)"
   ]
  },
  {
   "cell_type": "markdown",
   "id": "af8a8ee8-17c4-4c31-8d4d-c82ecf64569b",
   "metadata": {},
   "source": [
    "50. Merge multiple sets into one."
   ]
  },
  {
   "cell_type": "code",
   "execution_count": 72,
   "id": "d5b7dc42-8f28-47a8-8407-d6838136a405",
   "metadata": {},
   "outputs": [
    {
     "name": "stdout",
     "output_type": "stream",
     "text": [
      "{1, 2, 3, 4, 5, 6, 7, 8, 9, 10, 11, 12}\n"
     ]
    }
   ],
   "source": [
    "set1={1,2,3,4}\n",
    "set2={5,6,7,8}\n",
    "set3={9,10,11,12}\n",
    "merged_set=set1.union(set2,set3)\n",
    "print(merged_set)"
   ]
  }
 ],
 "metadata": {
  "kernelspec": {
   "display_name": "Python 3 (ipykernel)",
   "language": "python",
   "name": "python3"
  },
  "language_info": {
   "codemirror_mode": {
    "name": "ipython",
    "version": 3
   },
   "file_extension": ".py",
   "mimetype": "text/x-python",
   "name": "python",
   "nbconvert_exporter": "python",
   "pygments_lexer": "ipython3",
   "version": "3.10.8"
  }
 },
 "nbformat": 4,
 "nbformat_minor": 5
}
