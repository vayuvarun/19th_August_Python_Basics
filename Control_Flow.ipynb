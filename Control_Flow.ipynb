{
 "cells": [
  {
   "cell_type": "markdown",
   "id": "c2814964-8597-40a9-acd7-61dfa445e59d",
   "metadata": {},
   "source": [
    "Basic If-Else Statements:"
   ]
  },
  {
   "cell_type": "markdown",
   "id": "99abcbac-cf39-499f-a7a7-1122902048b0",
   "metadata": {},
   "source": [
    "1. Write a Python program to check if a given number is positive or negative."
   ]
  },
  {
   "cell_type": "code",
   "execution_count": 2,
   "id": "193342e5-8c7b-43ab-a550-f779b50c80a9",
   "metadata": {},
   "outputs": [
    {
     "name": "stdout",
     "output_type": "stream",
     "text": [
      "number is positive\n"
     ]
    }
   ],
   "source": [
    "num1=10\n",
    "if num1>=0:\n",
    "    print(\"number is positive\")\n",
    "else: print(\"number is negetive\")"
   ]
  },
  {
   "cell_type": "markdown",
   "id": "f1a06a03-505b-4bc0-aa5f-864e626e9918",
   "metadata": {},
   "source": [
    "2. Create a program that determines if a person is eligible to vote based on their age."
   ]
  },
  {
   "cell_type": "code",
   "execution_count": 4,
   "id": "f879db48-9398-4f16-84b3-a54e8255c23f",
   "metadata": {},
   "outputs": [
    {
     "name": "stdout",
     "output_type": "stream",
     "text": [
      "You are too young to cast a vote\n"
     ]
    }
   ],
   "source": [
    "age=10\n",
    "\n",
    "if age>=18:\n",
    "    print(\"You are eligible to cast your vote\")\n",
    "else:\n",
    "    print(\"You are too young to cast a vote\")"
   ]
  },
  {
   "cell_type": "markdown",
   "id": "d079cfe6-4793-4907-9e91-71d57a007be4",
   "metadata": {},
   "source": [
    "3. Develop a program to find the maximum of two numbers using if-else statements."
   ]
  },
  {
   "cell_type": "code",
   "execution_count": 6,
   "id": "6ed621a7-50a4-451c-abf2-6c467a1ef15c",
   "metadata": {},
   "outputs": [
    {
     "name": "stdout",
     "output_type": "stream",
     "text": [
      "The maximum number amongst the two is 23\n"
     ]
    }
   ],
   "source": [
    "num3_1,num3_2=13,23\n",
    "\n",
    "if num3_1>num3_2:\n",
    "    print(f\"The maximum number amongst the two is {num3_1}\")\n",
    "else:\n",
    "    print(f\"The maximum number amongst the two is {num3_2}\")"
   ]
  },
  {
   "cell_type": "markdown",
   "id": "6a007712-7193-4ef7-bb06-9bdd37664acb",
   "metadata": {},
   "source": [
    "4. Write a Python script to classify a given year as a leap year or not."
   ]
  },
  {
   "cell_type": "code",
   "execution_count": 8,
   "id": "76713345-0c4b-4df1-8501-939460b1eefb",
   "metadata": {},
   "outputs": [
    {
     "name": "stdout",
     "output_type": "stream",
     "text": [
      "It's not a leap year\n"
     ]
    }
   ],
   "source": [
    "total_days=365\n",
    "\n",
    "if total_days==366:\n",
    "    print(\"It's a leap year\")\n",
    "else:\n",
    "    print(\"It's not a leap year\")"
   ]
  },
  {
   "cell_type": "markdown",
   "id": "0b240823-69cd-47bb-9ab6-9e3dae25cbfe",
   "metadata": {},
   "source": [
    "5. Create a program that checks whether a character is a vowel or a consonant."
   ]
  },
  {
   "cell_type": "code",
   "execution_count": 10,
   "id": "9e7fe021-55f0-42bb-bb04-df3648639766",
   "metadata": {},
   "outputs": [
    {
     "name": "stdout",
     "output_type": "stream",
     "text": [
      "No it is not a vowel\n"
     ]
    }
   ],
   "source": [
    "vowels=\"aeiouAEIOU\"\n",
    "char=\"t\"\n",
    "\n",
    "if char in vowels:\n",
    "    print(\"Yes it is a vowel\")\n",
    "else:\n",
    "    print(\"No it is not a vowel\")"
   ]
  },
  {
   "cell_type": "markdown",
   "id": "f7780ea9-6a5f-4969-8563-9a831f3ac72c",
   "metadata": {},
   "source": [
    "6. Implement a program to determine whether a given number is even or odd."
   ]
  },
  {
   "cell_type": "code",
   "execution_count": 11,
   "id": "50b7c932-c6bf-41f4-a968-ed43205a3625",
   "metadata": {},
   "outputs": [
    {
     "name": "stdout",
     "output_type": "stream",
     "text": [
      "It is an odd number\n"
     ]
    }
   ],
   "source": [
    "num6=47483\n",
    "\n",
    "if num6%2==0:\n",
    "    print(\"It is an even number\")\n",
    "else :\n",
    "    print(\"It is an odd number\")"
   ]
  },
  {
   "cell_type": "markdown",
   "id": "9e73c613-8621-4f70-882b-44ff4bf86874",
   "metadata": {},
   "source": [
    "7. Write a Python function to calculate the absolute value of a number without using the `abs()` function."
   ]
  },
  {
   "cell_type": "code",
   "execution_count": 14,
   "id": "37c2b353-fa4f-4c63-9693-b069ba11123e",
   "metadata": {},
   "outputs": [
    {
     "name": "stdout",
     "output_type": "stream",
     "text": [
      "34382.42234\n"
     ]
    }
   ],
   "source": [
    "num7 = -34382.42234\n",
    "\n",
    "if num7<0:\n",
    "    num7*=-1\n",
    "    \n",
    "print(num7)"
   ]
  },
  {
   "cell_type": "markdown",
   "id": "6b7dbd10-20ea-4899-a4c4-d8c04c506868",
   "metadata": {},
   "source": [
    "8. Develop a program that determines the largest of three given numbers using if-else statements."
   ]
  },
  {
   "cell_type": "code",
   "execution_count": 23,
   "id": "e09d29c2-459b-4f48-83fb-ebd305fd9c00",
   "metadata": {},
   "outputs": [
    {
     "name": "stdin",
     "output_type": "stream",
     "text": [
      "Enter the first number:  3\n",
      "Enter the second number:  9\n",
      "Enter the third number:  49\n"
     ]
    },
    {
     "name": "stdout",
     "output_type": "stream",
     "text": [
      "The largest number is: 49.0\n"
     ]
    }
   ],
   "source": [
    "num1 = float(input(\"Enter the first number: \"))\n",
    "num2 = float(input(\"Enter the second number: \"))\n",
    "num3 = float(input(\"Enter the third number: \"))\n",
    "\n",
    "if num1 >= num2 and num1 >= num3:\n",
    "    largest = num1\n",
    "elif num2 >= num1 and num2 >= num3:\n",
    "    largest = num2\n",
    "else:\n",
    "    largest = num3\n",
    "\n",
    "print(\"The largest number is:\", largest)\n"
   ]
  },
  {
   "cell_type": "markdown",
   "id": "14c6c50d-468f-48a1-a408-84aa5ddb4f6d",
   "metadata": {},
   "source": [
    "9. Create a program that checks if a given string is a palindrome."
   ]
  },
  {
   "cell_type": "code",
   "execution_count": 26,
   "id": "03f1c4d7-0ad2-47fb-b358-3dd6a140e918",
   "metadata": {},
   "outputs": [
    {
     "name": "stdout",
     "output_type": "stream",
     "text": [
      "The given string is palindrome\n"
     ]
    }
   ],
   "source": [
    "string9=\"NITIN\"\n",
    "rev_string9=string9[::-1]\n",
    "\n",
    "if string9==rev_string9:\n",
    "    print(\"The given string is palindrome\")\n",
    "else:\n",
    "    print(\"The given string is not a palindrome\")"
   ]
  },
  {
   "cell_type": "markdown",
   "id": "b64df229-c2d8-47cd-90c2-5c72a143d02f",
   "metadata": {},
   "source": [
    "10. Write a Python program to calculate the grade based on a student's score."
   ]
  },
  {
   "cell_type": "code",
   "execution_count": 27,
   "id": "3f50ddff-0652-4e82-bcaa-d238e6e0a6e1",
   "metadata": {},
   "outputs": [
    {
     "name": "stdin",
     "output_type": "stream",
     "text": [
      "Enter the student's score:  60\n"
     ]
    },
    {
     "name": "stdout",
     "output_type": "stream",
     "text": [
      "The student's grade is: D\n"
     ]
    }
   ],
   "source": [
    "score = float(input(\"Enter the student's score: \"))\n",
    "\n",
    "if 90 <= score <= 100:\n",
    "    grade = \"A\"\n",
    "elif 80 <= score < 90:\n",
    "    grade = \"B\"\n",
    "elif 70 <= score < 80:\n",
    "    grade = \"C\"\n",
    "elif 60 <= score < 70:\n",
    "    grade = \"D\"\n",
    "elif 0 <= score < 60:\n",
    "    grade = \"F\"\n",
    "else:\n",
    "    grade = \"Invalid score (score should be between 0 and 100)\"\n",
    "\n",
    "print(\"The student's grade is:\", grade)"
   ]
  },
  {
   "cell_type": "markdown",
   "id": "68c14d8f-ab14-47ed-aa2e-060f55c5cb53",
   "metadata": {},
   "source": [
    "Nested If-Else Statements:"
   ]
  },
  {
   "cell_type": "markdown",
   "id": "59056812-a1ff-4995-8d77-c63668c3a70a",
   "metadata": {},
   "source": [
    "11. Write a program to find the largest among three numbers using nested if-else statements."
   ]
  },
  {
   "cell_type": "code",
   "execution_count": 2,
   "id": "c5620635-91cc-4768-a039-8f455bb9ea7f",
   "metadata": {},
   "outputs": [
    {
     "name": "stdin",
     "output_type": "stream",
     "text": [
      "Enter the first number:  20\n",
      "Enter the second number:  30\n",
      "Enter the third number:  3\n"
     ]
    },
    {
     "name": "stdout",
     "output_type": "stream",
     "text": [
      "The largest number is: 30.0\n"
     ]
    }
   ],
   "source": [
    "num1 = float(input(\"Enter the first number: \"))\n",
    "num2 = float(input(\"Enter the second number: \"))\n",
    "num3 = float(input(\"Enter the third number: \"))\n",
    "\n",
    "if num1 > num2:\n",
    "    if num1 > num3:\n",
    "        largest = num1\n",
    "    else:\n",
    "        largest = num3\n",
    "else:\n",
    "    if num2 > num3:\n",
    "        largest = num2\n",
    "    else:\n",
    "        largest = num3\n",
    "\n",
    "print(\"The largest number is:\", largest)"
   ]
  },
  {
   "cell_type": "markdown",
   "id": "aa252ca4-22b4-444e-8dc7-3c4470083e53",
   "metadata": {},
   "source": [
    "12. Implement a program to determine if a triangle is equilateral, isosceles, or scalene."
   ]
  },
  {
   "cell_type": "code",
   "execution_count": 4,
   "id": "3b0a8001-6e03-4570-bdba-7858826b5db3",
   "metadata": {},
   "outputs": [
    {
     "name": "stdin",
     "output_type": "stream",
     "text": [
      "Enter the first side of the triangle:  5\n",
      "Enter the second side of the triangle:  7\n",
      "Enter the third side of the triangle:  7\n"
     ]
    },
    {
     "name": "stdout",
     "output_type": "stream",
     "text": [
      "The triangle is  Isosceles\n"
     ]
    }
   ],
   "source": [
    "side1=int(input(\"Enter the first side of the triangle: \"))\n",
    "side2=int(input(\"Enter the second side of the triangle: \"))\n",
    "side3=int(input(\"Enter the third side of the triangle: \"))\n",
    "\n",
    "if side1==side2:\n",
    "    #Two sides are equal at this stage\n",
    "    if side1==side2==side3:\n",
    "        triangle=\"Equilateral\"\n",
    "    else:\n",
    "        triangle=\"Isosceles\"\n",
    "elif side1==side3 or side2==side3:\n",
    "    #Two sides are equal at this stage\n",
    "    triangle=\"Isosceles\"\n",
    "else:\n",
    "    triangle=\"Scalene\"\n",
    "    \n",
    "print(\"The triangle is \",triangle)"
   ]
  },
  {
   "cell_type": "markdown",
   "id": "6b597189-6bfa-40a6-8f75-c45cd0196627",
   "metadata": {},
   "source": [
    "13. Develop a program that checks if a year is a leap year and also if it is a century year."
   ]
  },
  {
   "cell_type": "code",
   "execution_count": 5,
   "id": "294c839c-f70d-49a0-88bd-b9d3c1a86cd5",
   "metadata": {},
   "outputs": [
    {
     "name": "stdin",
     "output_type": "stream",
     "text": [
      "Enter a year:  400\n"
     ]
    },
    {
     "name": "stdout",
     "output_type": "stream",
     "text": [
      "400 is a leap year.\n",
      "400 is a century year.\n"
     ]
    }
   ],
   "source": [
    "year = int(input(\"Enter a year: \"))\n",
    "\n",
    "\n",
    "is_leap_year = False\n",
    "if year % 4 == 0:\n",
    "    if year % 100 == 0:\n",
    "        if year % 400 == 0:\n",
    "            is_leap_year = True\n",
    "    else:\n",
    "        is_leap_year = True\n",
    "\n",
    "\n",
    "is_century_year = False\n",
    "if year % 100 == 0:\n",
    "    is_century_year = True\n",
    "\n",
    "# Print the results\n",
    "if is_leap_year:\n",
    "    print(f\"{year} is a leap year.\")\n",
    "else:\n",
    "    print(f\"{year} is not a leap year.\")\n",
    "\n",
    "if is_century_year:\n",
    "    print(f\"{year} is a century year.\")\n",
    "else:\n",
    "    print(f\"{year} is not a century year.\")"
   ]
  },
  {
   "cell_type": "markdown",
   "id": "88f48636-4969-42e7-b6ff-e31a0dc1a486",
   "metadata": {},
   "source": [
    "14. Write a Python script to determine if a number is positive, negative, or zero."
   ]
  },
  {
   "cell_type": "code",
   "execution_count": 6,
   "id": "7f2d5e89-0f69-476b-8ee3-5b40dbfaabcf",
   "metadata": {},
   "outputs": [
    {
     "name": "stdout",
     "output_type": "stream",
     "text": [
      "positive\n"
     ]
    }
   ],
   "source": [
    "num14=8\n",
    "\n",
    "if num14>0:\n",
    "    num_type=\"positive\"\n",
    "elif num14==0:\n",
    "    num_type=\"zero\"\n",
    "else:\n",
    "    num_type=\"negetive\"\n",
    "    \n",
    "print(num_type)"
   ]
  },
  {
   "cell_type": "markdown",
   "id": "7b0546e3-fa15-45db-88d0-eb3cde2ce36e",
   "metadata": {},
   "source": [
    "15. Create a program to check if a person is a teenager (between 13 and 19 years old)."
   ]
  },
  {
   "cell_type": "code",
   "execution_count": 9,
   "id": "f0e4b88f-a49c-4568-bdd6-ab64895f58c5",
   "metadata": {},
   "outputs": [
    {
     "name": "stdout",
     "output_type": "stream",
     "text": [
      "You are a teenager\n"
     ]
    }
   ],
   "source": [
    "age=13\n",
    "\n",
    "if age>=13 and age<=19:\n",
    "    print(\"You are a teenager\")\n",
    "else:\n",
    "    print(\"You are not a teenager\")"
   ]
  },
  {
   "cell_type": "markdown",
   "id": "9f94a6df-50c2-473a-9a5a-d7c893392413",
   "metadata": {},
   "source": [
    "16. Develop a program that determines the type of angle based on its measure (acute, obtuse, or right)."
   ]
  },
  {
   "cell_type": "code",
   "execution_count": 11,
   "id": "27419d94-c801-41d4-a4da-397f3e4a305a",
   "metadata": {},
   "outputs": [
    {
     "name": "stdout",
     "output_type": "stream",
     "text": [
      "Right angle\n"
     ]
    }
   ],
   "source": [
    "angle=90\n",
    "\n",
    "if angle>0 and angle<90:\n",
    "    print(\"Acute\")\n",
    "elif angle==90:\n",
    "    print(\"Right angle\")\n",
    "elif angle>90 and angle<180:\n",
    "    print(\"Obtuse\")"
   ]
  },
  {
   "cell_type": "markdown",
   "id": "cbd3b8af-e8df-4892-b0f6-5b7e552a6a33",
   "metadata": {},
   "source": [
    "17. Write a Python program to calculate the roots of a quadratic equation."
   ]
  },
  {
   "cell_type": "code",
   "execution_count": 13,
   "id": "424dfbbe-4adc-4b32-81b5-dd74fa6c570e",
   "metadata": {},
   "outputs": [
    {
     "name": "stdin",
     "output_type": "stream",
     "text": [
      "Enter the coefficient a:  4\n",
      "Enter the coefficient b:  2\n",
      "Enter the coefficient c:  0\n"
     ]
    },
    {
     "name": "stdout",
     "output_type": "stream",
     "text": [
      "Root 1: 0.0\n",
      "Root 2: -0.5\n"
     ]
    }
   ],
   "source": [
    "a = float(input(\"Enter the coefficient a: \"))\n",
    "b = float(input(\"Enter the coefficient b: \"))\n",
    "c = float(input(\"Enter the coefficient c: \"))\n",
    "\n",
    "discriminant = b**2 - 4*a*c\n",
    "\n",
    "if discriminant > 0:\n",
    "    root1 = (-b + discriminant ** 0.5) / (2*a)\n",
    "    root2 = (-b - discriminant ** 0.5) / (2*a)\n",
    "    print(f\"Root 1: {root1}\")\n",
    "    print(f\"Root 2: {root2}\")\n",
    "elif discriminant == 0:\n",
    "    root = -b / (2*a)\n",
    "    print(f\"Root: {root}\")\n",
    "else:\n",
    "    real_part = -b / (2*a)\n",
    "    imaginary_part = (abs(discriminant) ** 0.5) / (2*a)\n",
    "    root1 = complex(real_part, imaginary_part)\n",
    "    root2 = complex(real_part, -imaginary_part)\n",
    "    print(f\"Root 1: {root1}\")\n",
    "    print(f\"Root 2: {root2}\")"
   ]
  },
  {
   "cell_type": "markdown",
   "id": "90931c73-abeb-4c4e-bbf3-468328dfd400",
   "metadata": {},
   "source": [
    "18. Implement a program to determine the day of the week based on a user-provided number (1 for Monday, 2\n",
    "for Tuesday, etc.)."
   ]
  },
  {
   "cell_type": "code",
   "execution_count": 6,
   "id": "73f451a9-c653-47d1-bcce-afb8f91d1699",
   "metadata": {},
   "outputs": [
    {
     "name": "stdin",
     "output_type": "stream",
     "text": [
      "Enter the number: 5\n"
     ]
    },
    {
     "name": "stdout",
     "output_type": "stream",
     "text": [
      "Friday\n"
     ]
    }
   ],
   "source": [
    "day_list=[\"Monday\",\"Tuesday\",\"Wednesday\",\"Thursday\",\"Friday\",\"Saturday\",\"Sunday\"]\n",
    "\n",
    "user_input=int(input(\"Enter the number:\"))\n",
    "\n",
    "if user_input<=0 or user_input>=8:\n",
    "    print(\"Wrong Input\")\n",
    "else:\n",
    "    print(day_list[user_input-1])"
   ]
  },
  {
   "cell_type": "markdown",
   "id": "b3956e83-c5b5-46ee-b31c-c48c7643b0ae",
   "metadata": {},
   "source": [
    "19. Create a program that determines if a year is a leap year and also if it is evenly divisible by 400."
   ]
  },
  {
   "cell_type": "code",
   "execution_count": 8,
   "id": "d81731e2-6a0e-4b31-ac0a-9fd06a22bc53",
   "metadata": {},
   "outputs": [
    {
     "name": "stdin",
     "output_type": "stream",
     "text": [
      "Enter a year:  2020\n"
     ]
    },
    {
     "name": "stdout",
     "output_type": "stream",
     "text": [
      "2020 is a leap year.\n",
      "2020 is not evenly divisible by 400.\n"
     ]
    }
   ],
   "source": [
    "year = int(input(\"Enter a year: \"))\n",
    "\n",
    "is_leap_year = False\n",
    "\n",
    "if (year % 4 == 0 and year % 100 != 0) or (year % 400 == 0):\n",
    "    is_leap_year = True\n",
    "\n",
    "is_divisible_by_400 = year % 400 == 0\n",
    "\n",
    "if is_leap_year:\n",
    "    print(f\"{year} is a leap year.\")\n",
    "else:\n",
    "    print(f\"{year} is not a leap year.\")\n",
    "\n",
    "if is_divisible_by_400:\n",
    "    print(f\"{year} is evenly divisible by 400.\")\n",
    "else:\n",
    "    print(f\"{year} is not evenly divisible by 400.\")"
   ]
  },
  {
   "cell_type": "markdown",
   "id": "3c91a7f2-d0d0-4578-b285-b575e35b64f2",
   "metadata": {},
   "source": [
    "20. Develop a program that checks if a given number is prime or not using nested if-else statements."
   ]
  },
  {
   "cell_type": "code",
   "execution_count": 11,
   "id": "66ed6eef-cd1c-4e6d-b92d-f731dbca9555",
   "metadata": {},
   "outputs": [
    {
     "name": "stdin",
     "output_type": "stream",
     "text": [
      "Enter the number:  17\n"
     ]
    },
    {
     "name": "stdout",
     "output_type": "stream",
     "text": [
      "17 is a prime number.\n"
     ]
    }
   ],
   "source": [
    "def is_prime(num):\n",
    "    if num<=1:\n",
    "        return False\n",
    "    elif num==2 or num==3:\n",
    "        return True\n",
    "    elif num%2==0 or num%3==0:\n",
    "        return False\n",
    "    divisor=5\n",
    "    while divisor*divisor<=num:\n",
    "        if num%divisor==0 or num%(divisor+2)==0:\n",
    "            return False\n",
    "    divisor+=6\n",
    "    return True\n",
    "\n",
    "num=int(input(\"Enter the number: \"))\n",
    "result=is_prime(num)\n",
    "\n",
    "if result:\n",
    "    print(f\"{num} is a prime number.\")\n",
    "else:\n",
    "    print(f\"{num} is not a prime number.\")"
   ]
  },
  {
   "cell_type": "markdown",
   "id": "f984db6b-1a69-4d65-9657-36a3901c57a0",
   "metadata": {},
   "source": [
    "Elif Statements:"
   ]
  },
  {
   "cell_type": "markdown",
   "id": "f3d4e061-7f91-49ed-ae87-a3c8c1248bd6",
   "metadata": {},
   "source": [
    "21. Write a Python program to assign grades based on different ranges of scores using elif statements."
   ]
  },
  {
   "cell_type": "code",
   "execution_count": 1,
   "id": "0a456787-200b-4db3-a37d-0c1ab0bbe59f",
   "metadata": {},
   "outputs": [
    {
     "name": "stdin",
     "output_type": "stream",
     "text": [
      "Enter the student's score:  60\n"
     ]
    },
    {
     "name": "stdout",
     "output_type": "stream",
     "text": [
      "The student's grade is: D\n"
     ]
    }
   ],
   "source": [
    "score = float(input(\"Enter the student's score: \"))\n",
    "\n",
    "if 90 <= score <= 100:\n",
    "    grade = \"A\"\n",
    "elif 80 <= score < 90:\n",
    "    grade = \"B\"\n",
    "elif 70 <= score < 80:\n",
    "    grade = \"C\"\n",
    "elif 60 <= score < 70:\n",
    "    grade = \"D\"\n",
    "elif 0 <= score < 60:\n",
    "    grade = \"F\"\n",
    "else:\n",
    "    grade = \"Invalid score (score should be between 0 and 100)\"\n",
    "\n",
    "print(\"The student's grade is:\", grade)"
   ]
  },
  {
   "cell_type": "markdown",
   "id": "8a0462f1-f503-47d0-b5ba-daddb41d6e9c",
   "metadata": {},
   "source": [
    "22. Implement a program to determine the type of a triangle based on its angles."
   ]
  },
  {
   "cell_type": "code",
   "execution_count": 2,
   "id": "4d73ba05-e2dc-44e3-9866-2b254ccb2544",
   "metadata": {},
   "outputs": [
    {
     "name": "stdin",
     "output_type": "stream",
     "text": [
      "Enter the first side of the triangle:  3\n",
      "Enter the second side of the triangle:  3\n",
      "Enter the third side of the triangle:  3\n"
     ]
    },
    {
     "name": "stdout",
     "output_type": "stream",
     "text": [
      "The triangle is  Equilateral\n"
     ]
    }
   ],
   "source": [
    "side1=int(input(\"Enter the first side of the triangle: \"))\n",
    "side2=int(input(\"Enter the second side of the triangle: \"))\n",
    "side3=int(input(\"Enter the third side of the triangle: \"))\n",
    "\n",
    "if side1==side2:\n",
    "    #Two sides are equal at this stage\n",
    "    if side1==side2==side3:\n",
    "        triangle=\"Equilateral\"\n",
    "    else:\n",
    "        triangle=\"Isosceles\"\n",
    "elif side1==side3 or side2==side3:\n",
    "    #Two sides are equal at this stage\n",
    "    triangle=\"Isosceles\"\n",
    "else:\n",
    "    triangle=\"Scalene\"\n",
    "    \n",
    "print(\"The triangle is \",triangle)"
   ]
  },
  {
   "cell_type": "markdown",
   "id": "5623b523-48bb-4826-8b8f-ab4a9fa51ea5",
   "metadata": {},
   "source": [
    "23. Develop a program to categorize a given person's BMI into underweight, normal, overweight, or obese using\n",
    "elif statements."
   ]
  },
  {
   "cell_type": "code",
   "execution_count": 3,
   "id": "6d2cb51b-73c7-4d65-93df-d949ba06c2b5",
   "metadata": {},
   "outputs": [
    {
     "name": "stdin",
     "output_type": "stream",
     "text": [
      "Enter the weight in kg:  50\n",
      "Enter the height in meter:  170\n"
     ]
    },
    {
     "name": "stdout",
     "output_type": "stream",
     "text": [
      "Person is underweight\n"
     ]
    }
   ],
   "source": [
    "weight_kg=int(input(\"Enter the weight in kg: \"))\n",
    "height_m=int(input(\"Enter the height in meter: \"))\n",
    "BMI= weight_kg/height_m**2\n",
    "\n",
    "if BMI<18.5:\n",
    "    print(\"Person is underweight\")\n",
    "elif BMI>=18.5 and BMI<=24.9:\n",
    "    print(\"Person has a normal weight\")\n",
    "elif BMI>=25 and BMI<=29.9:\n",
    "    print(\"Person is overweight\")\n",
    "else:\n",
    "    print(\"Person is Obese\")"
   ]
  },
  {
   "cell_type": "markdown",
   "id": "e380bf93-3b52-40b9-9fc3-544330da4083",
   "metadata": {},
   "source": [
    "24. Create a program that determines whether a given number is positive, negative, or zero using elif\n",
    "statements."
   ]
  },
  {
   "cell_type": "code",
   "execution_count": 6,
   "id": "e6bf00cd-1eba-44f2-8dbd-e07cc670221c",
   "metadata": {},
   "outputs": [
    {
     "name": "stdout",
     "output_type": "stream",
     "text": [
      "It is positive\n"
     ]
    }
   ],
   "source": [
    "num24=10\n",
    "\n",
    "if num24>0:\n",
    "    print(\"It is positive\")\n",
    "elif num24==0:\n",
    "    print(\"It's zero\")\n",
    "else: print(\"It is negetive\")"
   ]
  },
  {
   "cell_type": "markdown",
   "id": "87637d61-9b1f-4870-a658-679dbb0d3088",
   "metadata": {},
   "source": [
    "25. Write a Python script to determine the type of a character (uppercase, lowercase, or special) using elif\n",
    "statements."
   ]
  },
  {
   "cell_type": "code",
   "execution_count": 7,
   "id": "8f2bf512-83f5-463f-97d8-d3680bbea4cb",
   "metadata": {},
   "outputs": [
    {
     "name": "stdout",
     "output_type": "stream",
     "text": [
      "Special\n"
     ]
    }
   ],
   "source": [
    "string25=\"This is a test string\"\n",
    "\n",
    "if string25.isupper():\n",
    "    print(\"Uppercase\")\n",
    "elif string25.islower():\n",
    "    print(\"Lowercase\")\n",
    "else: print(\"Special\")"
   ]
  },
  {
   "cell_type": "markdown",
   "id": "cf0a3187-a20e-4107-ab84-fe554466180b",
   "metadata": {},
   "source": [
    "26. Implement a program to calculate the discounted price based on different purchase amounts using elif\n",
    "statements."
   ]
  },
  {
   "cell_type": "code",
   "execution_count": 9,
   "id": "ed33133c-3f75-45d7-80b9-8ddeb1629b6b",
   "metadata": {},
   "outputs": [
    {
     "name": "stdin",
     "output_type": "stream",
     "text": [
      "Enter the purchase amount:  1000\n"
     ]
    },
    {
     "name": "stdout",
     "output_type": "stream",
     "text": [
      "Purchase Amount: 1000.00\n",
      "Discount Rate: 10%\n",
      "Discounted Price: 900.00\n"
     ]
    }
   ],
   "source": [
    "purchase_amount = float(input(\"Enter the purchase amount: \"))\n",
    "discount_rate = 0\n",
    "discounted_price = 0\n",
    "\n",
    "if purchase_amount >= 1000:\n",
    "    discount_rate = 0.1\n",
    "elif purchase_amount >= 500:\n",
    "    discount_rate = 0.05\n",
    "else:\n",
    "    discount_rate = 0\n",
    "\n",
    "discounted_price = purchase_amount - (purchase_amount * discount_rate)\n",
    "\n",
    "print(f\"Purchase Amount: {purchase_amount:.2f}\")\n",
    "print(f\"Discount Rate: {discount_rate * 100:.0f}%\")\n",
    "print(f\"Discounted Price: {discounted_price:.2f}\")"
   ]
  },
  {
   "cell_type": "markdown",
   "id": "5d5587c9-fb42-4707-95a4-da4206e786e3",
   "metadata": {},
   "source": [
    "27. Develop a program to calculate the electricity bill based on different consumption slabs using elif\n",
    "statements."
   ]
  },
  {
   "cell_type": "code",
   "execution_count": 11,
   "id": "9dc16a0f-6a96-432e-9378-b045a8014da3",
   "metadata": {},
   "outputs": [
    {
     "name": "stdin",
     "output_type": "stream",
     "text": [
      "Enter the electricity consumption in kWh:  380\n"
     ]
    },
    {
     "name": "stdout",
     "output_type": "stream",
     "text": [
      "Electricity Consumption: 380.0 kWh\n",
      "Electricity Bill: 75.00\n"
     ]
    }
   ],
   "source": [
    "consumption = float(input(\"Enter the electricity consumption in kWh: \"))\n",
    "bill = 0\n",
    "rate_slab1 = 0.15\n",
    "rate_slab2 = 0.20\n",
    "rate_slab3 = 0.25\n",
    "\n",
    "if consumption <= 100:\n",
    "    bill = consumption * rate_slab1\n",
    "elif consumption <= 300:\n",
    "    bill = 100 * rate_slab1 + (consumption - 100) * rate_slab2\n",
    "else:\n",
    "    bill = 100 * rate_slab1 + 200 * rate_slab2 + (consumption - 300) * rate_slab3\n",
    "\n",
    "print(f\"Electricity Consumption: {consumption} kWh\")\n",
    "print(f\"Electricity Bill: {bill:.2f}\")"
   ]
  },
  {
   "cell_type": "markdown",
   "id": "e95cc9e1-792f-4279-afb7-7cdd706fa5f8",
   "metadata": {},
   "source": [
    "28. Create a program to determine the type of quadrilateral based on its angles and sides using elif\n",
    "statements."
   ]
  },
  {
   "cell_type": "code",
   "execution_count": 12,
   "id": "fe1c2d1b-48f8-4fbf-bfe5-8d60d4d9c5cd",
   "metadata": {},
   "outputs": [
    {
     "name": "stdin",
     "output_type": "stream",
     "text": [
      "Enter the length of side 1:  10\n",
      "Enter the length of side 2:  10\n",
      "Enter the length of side 3:  10\n",
      "Enter the length of side 4:  10\n",
      "Enter the measure of angle 1 (in degrees):  90\n",
      "Enter the measure of angle 2 (in degrees):  90\n",
      "Enter the measure of angle 3 (in degrees):  90\n",
      "Enter the measure of angle 4 (in degrees):  90\n"
     ]
    },
    {
     "name": "stdout",
     "output_type": "stream",
     "text": [
      "The quadrilateral is a Rectangle.\n"
     ]
    }
   ],
   "source": [
    "side1 = float(input(\"Enter the length of side 1: \"))\n",
    "side2 = float(input(\"Enter the length of side 2: \"))\n",
    "side3 = float(input(\"Enter the length of side 3: \"))\n",
    "side4 = float(input(\"Enter the length of side 4: \"))\n",
    "\n",
    "angle1 = float(input(\"Enter the measure of angle 1 (in degrees): \"))\n",
    "angle2 = float(input(\"Enter the measure of angle 2 (in degrees): \"))\n",
    "angle3 = float(input(\"Enter the measure of angle 3 (in degrees): \"))\n",
    "angle4 = float(input(\"Enter the measure of angle 4 (in degrees): \"))\n",
    "\n",
    "quadrilateral_type = \"\"\n",
    "\n",
    "if angle1 == angle2 == angle3 == angle4 == 90:\n",
    "    quadrilateral_type = \"Rectangle\"\n",
    "elif angle1 == angle2 == angle3 == angle4 != 90:\n",
    "    quadrilateral_type = \"Rhombus\"\n",
    "elif side1 == side2 == side3 == side4 and angle1 == angle2 == angle3 == angle4:\n",
    "    quadrilateral_type = \"Square\"\n",
    "elif side1 == side2 == side3 == side4 and angle1 != angle2 != angle3 != angle4:\n",
    "    quadrilateral_type = \"Parallelogram\"\n",
    "else:\n",
    "    quadrilateral_type = \"Quadrilateral\"\n",
    "\n",
    "print(f\"The quadrilateral is a {quadrilateral_type}.\")"
   ]
  },
  {
   "cell_type": "markdown",
   "id": "eacfddb6-67dd-428e-9376-bbfbcfa93c19",
   "metadata": {},
   "source": [
    "29. Write a Python script to determine the season based on a user-provided month using elif statements."
   ]
  },
  {
   "cell_type": "code",
   "execution_count": 13,
   "id": "c39b4671-0510-4d18-9fc4-42c40990dbc6",
   "metadata": {},
   "outputs": [
    {
     "name": "stdin",
     "output_type": "stream",
     "text": [
      "Enter a month (e.g., January, February, etc.):  april\n"
     ]
    },
    {
     "name": "stdout",
     "output_type": "stream",
     "text": [
      "The season for April is Spring.\n"
     ]
    }
   ],
   "source": [
    "month = input(\"Enter a month (e.g., January, February, etc.): \").lower()\n",
    "\n",
    "if month in (\"december\", \"january\", \"february\"):\n",
    "    season = \"Winter\"\n",
    "elif month in (\"march\", \"april\", \"may\"):\n",
    "    season = \"Spring\"\n",
    "elif month in (\"june\", \"july\", \"august\"):\n",
    "    season = \"Summer\"\n",
    "elif month in (\"september\", \"october\", \"november\"):\n",
    "    season = \"Fall\"\n",
    "else:\n",
    "    season = \"Invalid month\"\n",
    "\n",
    "print(f\"The season for {month.capitalize()} is {season}.\")"
   ]
  },
  {
   "cell_type": "markdown",
   "id": "47785175-744c-4ac9-aff9-5d2970cc8875",
   "metadata": {},
   "source": [
    "30. Implement a program to determine the type of a year (leap or common) and month (30 or 31 days) using\n",
    "elif statements."
   ]
  },
  {
   "cell_type": "code",
   "execution_count": 14,
   "id": "4baaff85-7c61-4e5c-b7fc-16f3287f1e18",
   "metadata": {},
   "outputs": [
    {
     "name": "stdin",
     "output_type": "stream",
     "text": [
      "Enter a year:  2020\n",
      "Enter a month (e.g., January, February, etc.):  february\n"
     ]
    },
    {
     "name": "stdout",
     "output_type": "stream",
     "text": [
      "The year 2020 is a Leap year.\n",
      "February has 29 days.\n"
     ]
    }
   ],
   "source": [
    "year = int(input(\"Enter a year: \"))\n",
    "month = input(\"Enter a month (e.g., January, February, etc.): \").lower()\n",
    "year_type = \"\"\n",
    "days_in_month = 0\n",
    "\n",
    "if (year % 4 == 0 and year % 100 != 0) or (year % 400 == 0):\n",
    "    year_type = \"Leap\"\n",
    "else:\n",
    "    year_type = \"Common\"\n",
    "\n",
    "if month in (\"january\", \"march\", \"may\", \"july\", \"august\", \"october\", \"december\"):\n",
    "    days_in_month = 31\n",
    "elif month in (\"april\", \"june\", \"september\", \"november\"):\n",
    "    days_in_month = 30\n",
    "elif month == \"february\":\n",
    "    if year_type == \"Leap\":\n",
    "        days_in_month = 29\n",
    "    else:\n",
    "        days_in_month = 28\n",
    "else:\n",
    "    days_in_month = \"Invalid month\"\n",
    "\n",
    "print(f\"The year {year} is a {year_type} year.\")\n",
    "print(f\"{month.capitalize()} has {days_in_month} days.\")"
   ]
  },
  {
   "cell_type": "markdown",
   "id": "c6cc9d86-c134-4d0b-9087-feb6c729d77b",
   "metadata": {},
   "source": [
    "Basic Level:"
   ]
  },
  {
   "cell_type": "markdown",
   "id": "b828bb41-2f1a-41af-b640-0de030fe1012",
   "metadata": {},
   "source": [
    "1. Write a Python program that checks if a given number is positive, negative, or zero."
   ]
  },
  {
   "cell_type": "code",
   "execution_count": 1,
   "id": "8364838f-1da9-4de8-a906-923481d97e26",
   "metadata": {},
   "outputs": [
    {
     "name": "stdout",
     "output_type": "stream",
     "text": [
      "positive\n"
     ]
    }
   ],
   "source": [
    "num1=67\n",
    "if num1>0:\n",
    "    print(\"positive\")\n",
    "elif num1==0:\n",
    "    print(\"Zero\")\n",
    "else:\n",
    "    print(\"Negetive\")"
   ]
  },
  {
   "cell_type": "markdown",
   "id": "c80f06b6-4c15-468e-ba57-79b0b2e61b08",
   "metadata": {},
   "source": [
    "2. Create a program to determine if a person is eligible to vote based on their age."
   ]
  },
  {
   "cell_type": "code",
   "execution_count": 2,
   "id": "44e3129d-a958-48e6-8fc8-ca3d1a48fb2d",
   "metadata": {},
   "outputs": [
    {
     "name": "stdout",
     "output_type": "stream",
     "text": [
      "You are not eligible to cast a vote\n"
     ]
    }
   ],
   "source": [
    "age=15\n",
    "\n",
    "if age>=18:\n",
    "    print(\"You are eligible to cast a vote\")\n",
    "else:\n",
    "    print(\"You are not eligible to cast a vote\")"
   ]
  },
  {
   "cell_type": "markdown",
   "id": "2822a3d0-a0fd-427c-b9e4-ac6b6c967d0e",
   "metadata": {},
   "source": [
    "3. Write a program to find the maximum of two given numbers using conditional statements."
   ]
  },
  {
   "cell_type": "code",
   "execution_count": 4,
   "id": "91aed922-9fe0-4779-a108-d7f743e0ad69",
   "metadata": {},
   "outputs": [
    {
     "name": "stdout",
     "output_type": "stream",
     "text": [
      "9 is the max number amongst the two\n"
     ]
    }
   ],
   "source": [
    "num3_1,num3_2=6,9\n",
    "\n",
    "if num3_1>num3_2:\n",
    "    print(f'{num3_1} is the max number amongst the two')\n",
    "else:\n",
    "    print(f'{num3_2} is the max number amongst the two')"
   ]
  },
  {
   "cell_type": "markdown",
   "id": "b9acbd40-f51d-4d84-8ab1-5f9196929996",
   "metadata": {},
   "source": [
    "4. Develop a program that calculates the grade of a student based on their exam score."
   ]
  },
  {
   "cell_type": "code",
   "execution_count": 5,
   "id": "4ab146cf-e6b5-4d87-a8a8-2eaa5377bc34",
   "metadata": {},
   "outputs": [
    {
     "name": "stdout",
     "output_type": "stream",
     "text": [
      "The student's grade is: C\n"
     ]
    }
   ],
   "source": [
    "score=70\n",
    "\n",
    "if 100 >= score >= 90:\n",
    "    grade=\"A\"\n",
    "elif 90 > score >= 80:\n",
    "    grade=\"B\"\n",
    "elif 80 > score >= 70:\n",
    "    grade=\"C\"\n",
    "elif 70 > score >= 60:\n",
    "    grade=\"D\"\n",
    "elif 0 <= score < 60:\n",
    "    grade = \"F\"\n",
    "else:\n",
    "    grade = \"Invalid score (score should be between 0 and 100)\"\n",
    "\n",
    "print(\"The student's grade is:\", grade)"
   ]
  },
  {
   "cell_type": "markdown",
   "id": "f65854f5-e95c-49e4-8958-1df76226a523",
   "metadata": {},
   "source": [
    "5. Create a program that checks if a year is a leap year or not."
   ]
  },
  {
   "cell_type": "code",
   "execution_count": 7,
   "id": "099e7635-ff3c-4db2-b65f-d756e8716697",
   "metadata": {},
   "outputs": [
    {
     "name": "stdout",
     "output_type": "stream",
     "text": [
      "Yes it is a leap year\n"
     ]
    }
   ],
   "source": [
    "year=2020\n",
    "\n",
    "if (year%4==0 and year%100!=0) or (year%400==0):\n",
    "    is_leap_year=True\n",
    "else:\n",
    "    is_leap_year=False\n",
    "    \n",
    "if is_leap_year:\n",
    "    print(\"Yes it is a leap year\")\n",
    "else:\n",
    "    print(\"Not it's not a leap year\")"
   ]
  },
  {
   "cell_type": "markdown",
   "id": "d0b8ff88-3d0d-4525-bbad-1ca2a9d7c012",
   "metadata": {},
   "source": [
    "6. Write a program to classify a triangle based on its sides' lengths."
   ]
  },
  {
   "cell_type": "code",
   "execution_count": 8,
   "id": "5c0d0d23-8cd7-4e88-a9a8-928663e3a39c",
   "metadata": {},
   "outputs": [
    {
     "name": "stdin",
     "output_type": "stream",
     "text": [
      "Enter the first side of the triangle:  5\n",
      "Enter the second side of the triangle:  5\n",
      "Enter the third side of the triangle:  5\n"
     ]
    },
    {
     "name": "stdout",
     "output_type": "stream",
     "text": [
      "The triangle is  Equilateral\n"
     ]
    }
   ],
   "source": [
    "side1=int(input(\"Enter the first side of the triangle: \"))\n",
    "side2=int(input(\"Enter the second side of the triangle: \"))\n",
    "side3=int(input(\"Enter the third side of the triangle: \"))\n",
    "\n",
    "if side1==side2:\n",
    "    #Two sides are equal at this stage\n",
    "    if side1==side2==side3:\n",
    "        triangle=\"Equilateral\"\n",
    "    else:\n",
    "        triangle=\"Isosceles\"\n",
    "elif side1==side3 or side2==side3:\n",
    "    #Two sides are equal at this stage\n",
    "    triangle=\"Isosceles\"\n",
    "else:\n",
    "    triangle=\"Scalene\"\n",
    "    \n",
    "print(\"The triangle is \",triangle)"
   ]
  },
  {
   "cell_type": "markdown",
   "id": "70ff0696-95fc-4a90-979e-a09cacfc5d56",
   "metadata": {},
   "source": [
    "7. Build a program that determines the largest of three given numbers."
   ]
  },
  {
   "cell_type": "code",
   "execution_count": 9,
   "id": "c9b2e6f1-c599-4a3c-b263-181fa5f98008",
   "metadata": {},
   "outputs": [
    {
     "name": "stdin",
     "output_type": "stream",
     "text": [
      "Enter the first number:  5\n",
      "Enter the second number:  7\n",
      "Enter the third number:  2\n"
     ]
    },
    {
     "name": "stdout",
     "output_type": "stream",
     "text": [
      "The largest number is: 7.0\n"
     ]
    }
   ],
   "source": [
    "num1 = float(input(\"Enter the first number: \"))\n",
    "num2 = float(input(\"Enter the second number: \"))\n",
    "num3 = float(input(\"Enter the third number: \"))\n",
    "\n",
    "if num1 > num2 and num1>num3:\n",
    "    largest=num1\n",
    "elif num2>num1 and num2>num3:\n",
    "    largest=num2\n",
    "else:\n",
    "    largest=num3\n",
    "\n",
    "\n",
    "print(\"The largest number is:\", largest)"
   ]
  },
  {
   "cell_type": "markdown",
   "id": "468bfc82-2805-4a0a-9151-4cf7fa6c2b6d",
   "metadata": {},
   "source": [
    "8. Develop a program that checks whether a character is a vowel or a consonant."
   ]
  },
  {
   "cell_type": "code",
   "execution_count": 11,
   "id": "94eae25a-9c32-4192-af22-2c9a6f971cb0",
   "metadata": {},
   "outputs": [
    {
     "name": "stdout",
     "output_type": "stream",
     "text": [
      "Yes it is a vowel\n"
     ]
    }
   ],
   "source": [
    "vowels=\"aeiouAEIOU\"\n",
    "char=\"o\"\n",
    "\n",
    "if char in vowels:\n",
    "    print(\"Yes it is a vowel\")\n",
    "else:\n",
    "    print(\"No it is not a vowel\")"
   ]
  },
  {
   "cell_type": "markdown",
   "id": "cc1f0111-3da0-4884-abc0-26aa10519029",
   "metadata": {},
   "source": [
    "9. Create a program to calculate the total cost of a shopping cart based on discounts."
   ]
  },
  {
   "cell_type": "code",
   "execution_count": 14,
   "id": "c62795db-ca77-4709-8f79-45f476c71dd6",
   "metadata": {},
   "outputs": [
    {
     "name": "stdin",
     "output_type": "stream",
     "text": [
      "Enter the number of items in your shopping cart:  2\n",
      "Enter the price of item 1:  1\n",
      "Enter the price of item 2:  9\n"
     ]
    },
    {
     "name": "stdout",
     "output_type": "stream",
     "text": [
      "Total cost before discount: $10.00\n",
      "Discount applied: 0%\n",
      "Discount amount: $0.00\n",
      "Final cost after discount: $10.00\n"
     ]
    }
   ],
   "source": [
    "num_items = int(input(\"Enter the number of items in your shopping cart: \"))\n",
    "total_cost = 0\n",
    "\n",
    "for item in range(1, num_items + 1):\n",
    "    item_price = float(input(f\"Enter the price of item {item}: \"))\n",
    "    total_cost += item_price\n",
    "\n",
    "if total_cost >= 100:\n",
    "    discount = 0.1\n",
    "else:\n",
    "    discount = 0\n",
    "\n",
    "discount_amount = total_cost * discount\n",
    "final_cost = total_cost - discount_amount\n",
    "\n",
    "print(f\"Total cost before discount: ${total_cost:.2f}\")\n",
    "print(f\"Discount applied: {discount * 100:.0f}%\")\n",
    "print(f\"Discount amount: ${discount_amount:.2f}\")\n",
    "print(f\"Final cost after discount: ${final_cost:.2f}\")"
   ]
  },
  {
   "cell_type": "markdown",
   "id": "fca43e88-3cea-489e-bdad-4b20fc42ea79",
   "metadata": {},
   "source": [
    "10. Write a program that checks if a given number is even or odd."
   ]
  },
  {
   "cell_type": "code",
   "execution_count": 15,
   "id": "d0991eb5-3f1a-4a3b-9795-4cdc529caf23",
   "metadata": {},
   "outputs": [
    {
     "name": "stdout",
     "output_type": "stream",
     "text": [
      "The number is even\n"
     ]
    }
   ],
   "source": [
    "num10=78\n",
    "\n",
    "if num10%2==0:\n",
    "    print(\"The number is even\")\n",
    "else:\n",
    "    print(\"The number is odd\")"
   ]
  },
  {
   "cell_type": "markdown",
   "id": "f1cb74b1-ec16-4fe2-8288-a36e165fa465",
   "metadata": {},
   "source": [
    "Intermediate Level:"
   ]
  },
  {
   "cell_type": "markdown",
   "id": "0d1e66d5-2680-4b63-8cd4-1f4b75ebc1e7",
   "metadata": {},
   "source": [
    "11. Write a program that calculates the roots of a quadratic equation ."
   ]
  },
  {
   "cell_type": "code",
   "execution_count": 17,
   "id": "c556f830-86e6-4d88-a0b7-7dd3a7edb246",
   "metadata": {},
   "outputs": [
    {
     "name": "stdin",
     "output_type": "stream",
     "text": [
      "Enter the coefficient a:  8\n",
      "Enter the coefficient b:  4\n",
      "Enter the coefficient c:  2\n"
     ]
    },
    {
     "name": "stdout",
     "output_type": "stream",
     "text": [
      "Root 1: (-0.25+0.4330127018922193j)\n",
      "Root 2: (-0.25-0.4330127018922193j)\n"
     ]
    }
   ],
   "source": [
    "a = float(input(\"Enter the coefficient a: \"))\n",
    "b = float(input(\"Enter the coefficient b: \"))\n",
    "c = float(input(\"Enter the coefficient c: \"))\n",
    "\n",
    "discriminant = b**2 - 4*a*c\n",
    "\n",
    "if discriminant > 0:\n",
    "    root1 = (-b + discriminant ** 0.5) / (2*a)\n",
    "    root2 = (-b - discriminant ** 0.5) / (2*a)\n",
    "    print(f\"Root 1: {root1}\")\n",
    "    print(f\"Root 2: {root2}\")\n",
    "elif discriminant == 0:\n",
    "    root = -b / (2*a)\n",
    "    print(f\"Root: {root}\")\n",
    "else:\n",
    "    real_part = -b / (2*a)\n",
    "    imaginary_part = (abs(discriminant) ** 0.5) / (2*a)\n",
    "    root1 = complex(real_part, imaginary_part)\n",
    "    root2 = complex(real_part, -imaginary_part)\n",
    "    print(f\"Root 1: {root1}\")\n",
    "    print(f\"Root 2: {root2}\")"
   ]
  },
  {
   "cell_type": "markdown",
   "id": "4f9c6472-6fa5-43fe-a271-657c34ab351d",
   "metadata": {},
   "source": [
    "12. Implement a program to determine if a triangle is equilateral, isosceles, or scalene."
   ]
  },
  {
   "cell_type": "code",
   "execution_count": 19,
   "id": "fd68a782-3858-4eea-b03a-110f78cdc63b",
   "metadata": {},
   "outputs": [
    {
     "name": "stdin",
     "output_type": "stream",
     "text": [
      "Enter the number: 2\n"
     ]
    },
    {
     "name": "stdout",
     "output_type": "stream",
     "text": [
      "Tuesday\n"
     ]
    }
   ],
   "source": [
    "day_list=[\"Monday\",\"Tuesday\",\"Wednesday\",\"Thursday\",\"Friday\",\"Saturday\",\"Sunday\"]\n",
    "\n",
    "user_input=int(input(\"Enter the number:\"))\n",
    "\n",
    "if user_input<=0 or user_input>=8:\n",
    "    print(\"Wrong Input\")\n",
    "else:\n",
    "    print(day_list[user_input-1])"
   ]
  },
  {
   "cell_type": "markdown",
   "id": "971b5efe-e535-4bf7-a38f-5e102ae65e73",
   "metadata": {},
   "source": [
    "13. Develop a program that calculates the factorial of a given number using recursion."
   ]
  },
  {
   "cell_type": "code",
   "execution_count": 22,
   "id": "58334192-f48c-4fb4-b018-133741327b27",
   "metadata": {},
   "outputs": [
    {
     "name": "stdout",
     "output_type": "stream",
     "text": [
      "720\n"
     ]
    }
   ],
   "source": [
    "num13=6\n",
    "\n",
    "def fact(num):\n",
    "    if num==0 or num==1:\n",
    "        return 1\n",
    "    else:\n",
    "        return num*fact(num-1)\n",
    "\n",
    "result=fact(num13)\n",
    "print(result)"
   ]
  },
  {
   "cell_type": "markdown",
   "id": "ae445c89-edaf-491f-b137-6aceda5c60ca",
   "metadata": {},
   "source": [
    "14. Write a program to find the largest among three numbers without using the `max()` function."
   ]
  },
  {
   "cell_type": "code",
   "execution_count": 23,
   "id": "9a56e802-fb3b-4b17-825a-76b293fe8797",
   "metadata": {},
   "outputs": [
    {
     "name": "stdin",
     "output_type": "stream",
     "text": [
      "Enter the first number:  8\n",
      "Enter the second number:  9\n",
      "Enter the third number:  2\n"
     ]
    },
    {
     "name": "stdout",
     "output_type": "stream",
     "text": [
      "The largest number is: 9.0\n"
     ]
    }
   ],
   "source": [
    "num1 = float(input(\"Enter the first number: \"))\n",
    "num2 = float(input(\"Enter the second number: \"))\n",
    "num3 = float(input(\"Enter the third number: \"))\n",
    "\n",
    "if num1 > num2 and num1>num3:\n",
    "    largest=num1\n",
    "elif num2>num1 and num2>num3:\n",
    "    largest=num2\n",
    "else:\n",
    "    largest=num3\n",
    "\n",
    "\n",
    "print(\"The largest number is:\", largest)"
   ]
  },
  {
   "cell_type": "markdown",
   "id": "7e4f61bf-f8d6-43e5-b9a4-33f617eca659",
   "metadata": {},
   "source": [
    "15. Create a program that simulates a basic ATM transaction menu."
   ]
  },
  {
   "cell_type": "code",
   "execution_count": 24,
   "id": "55dd7f3f-2065-4185-a5ea-b88c0e86daa1",
   "metadata": {},
   "outputs": [
    {
     "name": "stdout",
     "output_type": "stream",
     "text": [
      "\n",
      "ATM Menu:\n",
      "1. Check Balance\n",
      "2. Deposit\n",
      "3. Withdraw\n",
      "4. Quit\n"
     ]
    },
    {
     "name": "stdin",
     "output_type": "stream",
     "text": [
      "Enter your choice (1/2/3/4):  1\n"
     ]
    },
    {
     "name": "stdout",
     "output_type": "stream",
     "text": [
      "Your balance is: $1000.00\n",
      "\n",
      "ATM Menu:\n",
      "1. Check Balance\n",
      "2. Deposit\n",
      "3. Withdraw\n",
      "4. Quit\n"
     ]
    },
    {
     "name": "stdin",
     "output_type": "stream",
     "text": [
      "Enter your choice (1/2/3/4):  4\n"
     ]
    },
    {
     "name": "stdout",
     "output_type": "stream",
     "text": [
      "Thank you for using the ATM. Have a nice day!\n"
     ]
    }
   ],
   "source": [
    "balance = 1000\n",
    "\n",
    "while True:\n",
    "    print(\"\\nATM Menu:\")\n",
    "    print(\"1. Check Balance\")\n",
    "    print(\"2. Deposit\")\n",
    "    print(\"3. Withdraw\")\n",
    "    print(\"4. Quit\")\n",
    "\n",
    "    choice = input(\"Enter your choice (1/2/3/4): \")\n",
    "\n",
    "    if choice == \"1\":\n",
    "        print(f\"Your balance is: ${balance:.2f}\")\n",
    "    elif choice == \"2\":\n",
    "        deposit_amount = float(input(\"Enter the deposit amount: $\"))\n",
    "        balance += deposit_amount\n",
    "        print(f\"Deposit of ${deposit_amount:.2f} was successful. Your new balance is: ${balance:.2f}\")\n",
    "    elif choice == \"3\":\n",
    "        withdraw_amount = float(input(\"Enter the withdrawal amount: $\"))\n",
    "        if withdraw_amount <= balance:\n",
    "            balance -= withdraw_amount\n",
    "            print(f\"Withdrawal of ${withdraw_amount:.2f} was successful. Your new balance is: ${balance:.2f}\")\n",
    "        else:\n",
    "            print(\"Insufficient funds. Withdrawal failed.\")\n",
    "    elif choice == \"4\":\n",
    "        print(\"Thank you for using the ATM. Have a nice day!\")\n",
    "        break\n",
    "    else:\n",
    "        print(\"Invalid choice. Please select a valid option (1/2/3/4).\")"
   ]
  },
  {
   "cell_type": "markdown",
   "id": "07e47d6b-3b78-42b7-a97f-59ffb526d0d8",
   "metadata": {},
   "source": [
    "16. Build a program that checks if a given string is a palindrome or not."
   ]
  },
  {
   "cell_type": "code",
   "execution_count": 26,
   "id": "96710312-19fc-48fc-b2d8-963df527309e",
   "metadata": {},
   "outputs": [
    {
     "name": "stdout",
     "output_type": "stream",
     "text": [
      "The string is palindrome\n"
     ]
    }
   ],
   "source": [
    "string16=\"TINIT\"\n",
    "rev_string16=string16[::-1]\n",
    "\n",
    "if string16==rev_string16:\n",
    "    print(\"The string is palindrome\")\n",
    "else:\n",
    "    print(\"The string is not a plaindrome\")"
   ]
  },
  {
   "cell_type": "markdown",
   "id": "f0614422-3a28-417e-92a4-16480eba5cb4",
   "metadata": {},
   "source": [
    "17. Write a program that calculates the average of a list of numbers, excluding the smallest and largest values."
   ]
  },
  {
   "cell_type": "code",
   "execution_count": 27,
   "id": "53c2882c-78cd-4bb6-860c-f6911ab16449",
   "metadata": {},
   "outputs": [
    {
     "name": "stdout",
     "output_type": "stream",
     "text": [
      "The average of the list is  5.0\n"
     ]
    }
   ],
   "source": [
    "list17=[12,3,4,6,8,4,2]\n",
    "\n",
    "#Removing smallest and largest\n",
    "list17.remove(min(list17)),list17.remove(max(list17))\n",
    "\n",
    "avg=sum(list17)/len(list17)\n",
    "print(\"The average of the list is \",avg)"
   ]
  },
  {
   "cell_type": "markdown",
   "id": "07f3bce1-ce27-44d4-a5b5-9e82792f0aaf",
   "metadata": {},
   "source": [
    "18. Develop a program that converts a given temperature from Celsius to Fahrenheit."
   ]
  },
  {
   "cell_type": "code",
   "execution_count": 28,
   "id": "626b97f1-fdd9-464d-87f9-addd4cdc2940",
   "metadata": {},
   "outputs": [
    {
     "name": "stdin",
     "output_type": "stream",
     "text": [
      "Enter the temperature in Celsius:  67\n"
     ]
    },
    {
     "name": "stdout",
     "output_type": "stream",
     "text": [
      "67.0 degrees Celsius is equal to 152.6 degrees Fahrenheit.\n"
     ]
    }
   ],
   "source": [
    "celsius = float(input(\"Enter the temperature in Celsius: \"))\n",
    "\n",
    "fahrenheit = (celsius * 9/5) + 32\n",
    "\n",
    "print(f\"{celsius} degrees Celsius is equal to {fahrenheit} degrees Fahrenheit.\")"
   ]
  },
  {
   "cell_type": "markdown",
   "id": "bf055a08-8302-4719-af21-f3057da38a82",
   "metadata": {},
   "source": [
    "19. Create a program that simulates a basic calculator for addition, subtraction, multiplication, and division."
   ]
  },
  {
   "cell_type": "code",
   "execution_count": 29,
   "id": "298e6f9d-7789-4695-9f36-cbfdc0d5f89d",
   "metadata": {},
   "outputs": [
    {
     "name": "stdout",
     "output_type": "stream",
     "text": [
      "Calculator Menu:\n",
      "1. Add\n",
      "2. Subtract\n",
      "3. Multiply\n",
      "4. Divide\n"
     ]
    },
    {
     "name": "stdin",
     "output_type": "stream",
     "text": [
      "Enter choice (1/2/3/4):  1\n",
      "Enter first number:  5\n",
      "Enter second number:  6\n"
     ]
    },
    {
     "name": "stdout",
     "output_type": "stream",
     "text": [
      "Addition result: 11.0\n"
     ]
    }
   ],
   "source": [
    "def add(x, y):\n",
    "    return x + y\n",
    "\n",
    "def subtract(x, y):\n",
    "    return x - y\n",
    "\n",
    "def multiply(x, y):\n",
    "    return x * y\n",
    "\n",
    "def divide(x, y):\n",
    "    if y == 0:\n",
    "        return \"Cannot divide by zero\"\n",
    "    return x / y\n",
    "\n",
    "print(\"Calculator Menu:\")\n",
    "print(\"1. Add\")\n",
    "print(\"2. Subtract\")\n",
    "print(\"3. Multiply\")\n",
    "print(\"4. Divide\")\n",
    "\n",
    "choice = input(\"Enter choice (1/2/3/4): \")\n",
    "num1 = float(input(\"Enter first number: \"))\n",
    "num2 = float(input(\"Enter second number: \"))\n",
    "\n",
    "if choice == '1':\n",
    "    result = add(num1, num2)\n",
    "    operation = \"Addition\"\n",
    "elif choice == '2':\n",
    "    result = subtract(num1, num2)\n",
    "    operation = \"Subtraction\"\n",
    "elif choice == '3':\n",
    "    result = multiply(num1, num2)\n",
    "    operation = \"Multiplication\"\n",
    "elif choice == '4':\n",
    "    result = divide(num1, num2)\n",
    "    operation = \"Division\"\n",
    "else:\n",
    "    result = \"Invalid choice\"\n",
    "    operation = \"\"\n",
    "\n",
    "if operation:\n",
    "    print(f\"{operation} result: {result}\")\n",
    "else:\n",
    "    print(\"Invalid choice. Please select a valid operation (1/2/3/4).\")"
   ]
  },
  {
   "cell_type": "markdown",
   "id": "2666162f-fd43-4e44-8a14-7f681594df1e",
   "metadata": {},
   "source": [
    "20. Write a program that determines the roots of a cubic equation using the Cardano formula."
   ]
  },
  {
   "cell_type": "code",
   "execution_count": 30,
   "id": "c2129c70-72fc-42b3-a35f-bbe5530fd4dd",
   "metadata": {},
   "outputs": [
    {
     "name": "stdin",
     "output_type": "stream",
     "text": [
      "Enter the coefficient a:  4\n",
      "Enter the coefficient b:  2\n",
      "Enter the coefficient c:  0\n",
      "Enter the coefficient d:  0\n"
     ]
    },
    {
     "name": "stdout",
     "output_type": "stream",
     "text": [
      "Root 1: 0.333333+0.288675j\n",
      "Root 2: 0.083333-0.144338j\n",
      "Root 3: 0.083333-0.144338j\n"
     ]
    }
   ],
   "source": [
    "import math\n",
    "\n",
    "a = float(input(\"Enter the coefficient a: \"))\n",
    "b = float(input(\"Enter the coefficient b: \"))\n",
    "c = float(input(\"Enter the coefficient c: \"))\n",
    "d = float(input(\"Enter the coefficient d: \"))\n",
    "\n",
    "p = c/a - (b**2)/(3*a**2)\n",
    "q = (2*b**3)/(27*a**3) - (b*c)/(3*a**2) + d/a\n",
    "\n",
    "discriminant = q**2/4 + p**3/27\n",
    "\n",
    "if discriminant > 0:\n",
    "    root1 = (-q/2 + math.sqrt(discriminant))**(1/3)\n",
    "    root2 = (-q/2 - math.sqrt(discriminant))**(1/3)\n",
    "    root3 = -b/(3*a)\n",
    "\n",
    "    print(f\"Root 1: {root1 + root2 - root3:.6f}\")\n",
    "    print(f\"Root 2: {-(root1 + root2)/2 - root3:.6f}\")\n",
    "    print(f\"Root 3: {-(root1 + root2)/2 - root3:.6f}\")\n",
    "elif discriminant == 0:\n",
    "    root1 = -q/2 + (q/2)**(1/3)\n",
    "    root2 = -q/2 - (q/2)**(1/3)\n",
    "    root3 = -b/(3*a)\n",
    "\n",
    "    print(f\"Real Root: {root1 + root2 - root3:.6f}\")\n",
    "    print(f\"Complex Root 1: {-(root1 + root2)/2 - root3:.6f} + {math.sqrt(3)*(root1 - root2)/2:.6f}i\")\n",
    "    print(f\"Complex Root 2: {-(root1 + root2)/2 - root3:.6f} - {math.sqrt(3)*(root1 - root2)/2:.6f}i\")\n",
    "else:\n",
    "    root1 = (-q/2 + (q/2)**(1/3))**(1/3)\n",
    "    root2 = (-q/2 - (q/2)**(1/3))**(1/3)\n",
    "    root3 = -b/(3*a)\n",
    "\n",
    "    print(f\"Complex Root 1: {root1 + root2 - root3:.6f}\")\n",
    "    print(f\"Complex Root 2: {-(root1 + root2)/2 - root3:.6f} + {math.sqrt(3)*(root1 - root2)/2:.6f}i\")\n",
    "    print(f\"Complex Root 3: {-(root1 + root2)/2 - root3:.6f} - {math.sqrt(3)*(root1 - root2)/2:.6f}i\")"
   ]
  },
  {
   "cell_type": "markdown",
   "id": "6dfadf36-aaf4-4be7-a3b3-2699d62785e6",
   "metadata": {},
   "source": [
    "Advanced Level:"
   ]
  },
  {
   "cell_type": "markdown",
   "id": "3ebcc9e1-19d4-406b-8675-a1f84905f402",
   "metadata": {},
   "source": [
    "21. Create a program that calculates the income tax based on the user's income and tax brackets."
   ]
  },
  {
   "cell_type": "code",
   "execution_count": 1,
   "id": "1a4c1b15-aaa4-46a8-bc6b-ed6d2165ebdb",
   "metadata": {},
   "outputs": [
    {
     "name": "stdin",
     "output_type": "stream",
     "text": [
      "Enter your annual income: $ 100000\n"
     ]
    },
    {
     "name": "stdout",
     "output_type": "stream",
     "text": [
      "Your income tax is: $14000.00\n"
     ]
    }
   ],
   "source": [
    "def calculate_income_tax(income):\n",
    "    brackets = [(10000, 0.10), (30000, 0.20), (60000, 0.30)]\n",
    "\n",
    "    tax = 0\n",
    "    prev_bracket_limit = 0\n",
    "\n",
    "    for bracket_limit, tax_rate in brackets:\n",
    "        if income <= bracket_limit:\n",
    "            tax += (income - prev_bracket_limit) * tax_rate\n",
    "            break\n",
    "        else:\n",
    "            tax += (bracket_limit - prev_bracket_limit) * tax_rate\n",
    "            prev_bracket_limit = bracket_limit\n",
    "\n",
    "    return tax\n",
    "\n",
    "def main():\n",
    "    try:\n",
    "        income = float(input(\"Enter your annual income: $\"))\n",
    "\n",
    "        if income < 0:\n",
    "            print(\"Income cannot be negative.\")\n",
    "        else:\n",
    "            income_tax = calculate_income_tax(income)\n",
    "            print(f\"Your income tax is: ${income_tax:.2f}\")\n",
    "    except ValueError:\n",
    "        print(\"Invalid input. Please enter a valid income.\")\n",
    "\n",
    "if __name__ == \"__main__\":\n",
    "    main()"
   ]
  },
  {
   "cell_type": "markdown",
   "id": "9750a219-d9ff-4b6f-b5b6-9af46c0354cc",
   "metadata": {},
   "source": [
    "22. Write a program that simulates a rock-paper-scissors game against the computer."
   ]
  },
  {
   "cell_type": "code",
   "execution_count": 3,
   "id": "3698d37c-13eb-40d9-bc21-929289f1af19",
   "metadata": {},
   "outputs": [
    {
     "name": "stdout",
     "output_type": "stream",
     "text": [
      "Welcome to Rock, Paper, Scissors!\n"
     ]
    },
    {
     "name": "stdin",
     "output_type": "stream",
     "text": [
      "Choose Rock, Paper, or Scissors:  paper\n"
     ]
    },
    {
     "name": "stdout",
     "output_type": "stream",
     "text": [
      "You chose paper.\n",
      "The computer chose scissors.\n",
      "Computer wins!\n"
     ]
    },
    {
     "name": "stdin",
     "output_type": "stream",
     "text": [
      "Do you want to play again? (yes/no):  no\n"
     ]
    },
    {
     "name": "stdout",
     "output_type": "stream",
     "text": [
      "Thanks for playing!\n"
     ]
    }
   ],
   "source": [
    "import random\n",
    "\n",
    "def get_user_choice():\n",
    "    user_choice = input(\"Choose Rock, Paper, or Scissors: \").strip().lower()\n",
    "    while user_choice not in [\"rock\", \"paper\", \"scissors\"]:\n",
    "        print(\"Invalid choice. Please choose Rock, Paper, or Scissors.\")\n",
    "        user_choice = input(\"Choose Rock, Paper, or Scissors: \").strip().lower()\n",
    "    return user_choice\n",
    "\n",
    "def get_computer_choice():\n",
    "    choices = [\"rock\", \"paper\", \"scissors\"]\n",
    "    return random.choice(choices)\n",
    "\n",
    "def determine_winner(user_choice, computer_choice):\n",
    "    if user_choice == computer_choice:\n",
    "        return \"It's a tie!\"\n",
    "    elif (\n",
    "        (user_choice == \"rock\" and computer_choice == \"scissors\")\n",
    "        or (user_choice == \"paper\" and computer_choice == \"rock\")\n",
    "        or (user_choice == \"scissors\" and computer_choice == \"paper\")\n",
    "    ):\n",
    "        return \"You win!\"\n",
    "    else:\n",
    "        return \"Computer wins!\"\n",
    "\n",
    "def main():\n",
    "    print(\"Welcome to Rock, Paper, Scissors!\")\n",
    "\n",
    "    while True:\n",
    "        user_choice = get_user_choice()\n",
    "        computer_choice = get_computer_choice()\n",
    "\n",
    "        print(f\"You chose {user_choice}.\")\n",
    "        print(f\"The computer chose {computer_choice}.\")\n",
    "\n",
    "        result = determine_winner(user_choice, computer_choice)\n",
    "        print(result)\n",
    "\n",
    "        play_again = input(\"Do you want to play again? (yes/no): \").strip().lower()\n",
    "        if play_again != \"yes\":\n",
    "            break\n",
    "\n",
    "    print(\"Thanks for playing!\")\n",
    "\n",
    "if __name__ == \"__main__\":\n",
    "    main()"
   ]
  },
  {
   "cell_type": "markdown",
   "id": "5bffe2c3-c5c8-4184-a84b-ed7d9d3e1edd",
   "metadata": {},
   "source": [
    "23. Develop a program that generates a random password based on user preferences (length, complexity)."
   ]
  },
  {
   "cell_type": "code",
   "execution_count": 4,
   "id": "ef0f2277-1d6b-47a9-987c-fea6e6baff0c",
   "metadata": {},
   "outputs": [
    {
     "name": "stdout",
     "output_type": "stream",
     "text": [
      "Welcome to the Random Password Generator!\n"
     ]
    },
    {
     "name": "stdin",
     "output_type": "stream",
     "text": [
      "Enter the desired password length:  10\n",
      "Use lowercase letters? (yes/no):  yes\n",
      "Use uppercase letters? (yes/no):  yes\n",
      "Use digits? (yes/no):  yes\n",
      "Use special characters? (yes/no):  yes\n"
     ]
    },
    {
     "name": "stdout",
     "output_type": "stream",
     "text": [
      "Your random password is: KBHXU,AmQ;\n"
     ]
    }
   ],
   "source": [
    "import random\n",
    "import string\n",
    "\n",
    "def generate_password(length, use_lowercase, use_uppercase, use_digits, use_special_chars):\n",
    "    lowercase_chars = string.ascii_lowercase if use_lowercase else ''\n",
    "    uppercase_chars = string.ascii_uppercase if use_uppercase else ''\n",
    "    digit_chars = string.digits if use_digits else ''\n",
    "    special_chars = string.punctuation if use_special_chars else ''\n",
    "\n",
    "    if not lowercase_chars + uppercase_chars + digit_chars + special_chars:\n",
    "        return \"No character set selected. Please choose at least one.\"\n",
    "\n",
    "    password = ''.join(random.choice(lowercase_chars + uppercase_chars + digit_chars + special_chars) for _ in range(length))\n",
    "    return password\n",
    "\n",
    "def main():\n",
    "    print(\"Welcome to the Random Password Generator!\")\n",
    "\n",
    "    length = int(input(\"Enter the desired password length: \"))\n",
    "    use_lowercase = input(\"Use lowercase letters? (yes/no): \").strip().lower() == \"yes\"\n",
    "    use_uppercase = input(\"Use uppercase letters? (yes/no): \").strip().lower() == \"yes\"\n",
    "    use_digits = input(\"Use digits? (yes/no): \").strip().lower() == \"yes\"\n",
    "    use_special_chars = input(\"Use special characters? (yes/no): \").strip().lower() == \"yes\"\n",
    "\n",
    "    password = generate_password(length, use_lowercase, use_uppercase, use_digits, use_special_chars)\n",
    "    print(f\"Your random password is: {password}\")\n",
    "\n",
    "if __name__ == \"__main__\":\n",
    "    main()"
   ]
  },
  {
   "cell_type": "markdown",
   "id": "f3039d52-2907-4748-8c3e-696d560ec8af",
   "metadata": {},
   "source": [
    "24. Create a program that implements a simple text-based adventure game with branching scenarios."
   ]
  },
  {
   "cell_type": "code",
   "execution_count": 5,
   "id": "d605742e-b89a-49d4-80b5-05aea77a42c5",
   "metadata": {},
   "outputs": [
    {
     "name": "stdout",
     "output_type": "stream",
     "text": [
      "Welcome to the Text-Based Adventure Game!\n",
      "You wake up in a mysterious room with two doors and a note on the table.\n",
      "\n",
      "Options:\n",
      "1. Read the note.\n",
      "2. Open the left door.\n",
      "3. Open the right door.\n"
     ]
    },
    {
     "name": "stdin",
     "output_type": "stream",
     "text": [
      "Enter your choice (1/2/3):  3\n"
     ]
    },
    {
     "name": "stdout",
     "output_type": "stream",
     "text": [
      "\n",
      "You open the right door and suddenly, a trapdoor opens beneath you.\n",
      "You fall into a dark pit. You lose!\n",
      "Thanks for playing!\n"
     ]
    }
   ],
   "source": [
    "def main():\n",
    "    print(\"Welcome to the Text-Based Adventure Game!\")\n",
    "    print(\"You wake up in a mysterious room with two doors and a note on the table.\")\n",
    "\n",
    "    while True:\n",
    "        print(\"\\nOptions:\")\n",
    "        print(\"1. Read the note.\")\n",
    "        print(\"2. Open the left door.\")\n",
    "        print(\"3. Open the right door.\")\n",
    "\n",
    "        choice = input(\"Enter your choice (1/2/3): \").strip()\n",
    "\n",
    "        if choice == \"1\":\n",
    "            print(\"\\nThe note reads, 'Choose your path wisely, one door leads to treasure, and the other to certain doom.'\")\n",
    "        elif choice == \"2\":\n",
    "            print(\"\\nYou open the left door and find yourself in a room filled with glittering treasure!\")\n",
    "            print(\"Congratulations, you win!\")\n",
    "            break\n",
    "        elif choice == \"3\":\n",
    "            print(\"\\nYou open the right door and suddenly, a trapdoor opens beneath you.\")\n",
    "            print(\"You fall into a dark pit. You lose!\")\n",
    "            break\n",
    "        else:\n",
    "            print(\"\\nInvalid choice. Please choose 1, 2, or 3.\")\n",
    "\n",
    "    print(\"Thanks for playing!\")\n",
    "\n",
    "if __name__ == \"__main__\":\n",
    "    main()"
   ]
  },
  {
   "cell_type": "markdown",
   "id": "15295331-e2a9-4bf1-9afe-11d32a8dd078",
   "metadata": {},
   "source": [
    "25. Build a program that solves a linear equation for x, considering different cases."
   ]
  },
  {
   "cell_type": "code",
   "execution_count": 7,
   "id": "2c8c6e87-59cd-4ae6-9442-fee3a3fbf944",
   "metadata": {},
   "outputs": [
    {
     "name": "stdout",
     "output_type": "stream",
     "text": [
      "-2.0\n",
      "-0.2222222222222222\n",
      "0.0\n"
     ]
    }
   ],
   "source": [
    "def solve_linear_equation(a, b, c):\n",
    "\n",
    "  if a == 0:\n",
    "    if b == 0:\n",
    "      return None\n",
    "    else:\n",
    "      return None\n",
    "  else:\n",
    "    return (-b) / a\n",
    "\n",
    "\n",
    "if __name__ == \"__main__\":\n",
    "  print(solve_linear_equation(1, 2, 4))\n",
    "  print(solve_linear_equation(9, 2, 3))\n",
    "  print(solve_linear_equation(7, 0, 3))"
   ]
  },
  {
   "cell_type": "markdown",
   "id": "d9150f8c-4f94-4c69-b4f7-c0841bd438f0",
   "metadata": {},
   "source": [
    "26. Write a program that simulates a basic quiz game with multiple-choice questions and scoring."
   ]
  },
  {
   "cell_type": "code",
   "execution_count": 8,
   "id": "dd5425e9-cada-4da4-864b-4537f966afc2",
   "metadata": {},
   "outputs": [
    {
     "name": "stdout",
     "output_type": "stream",
     "text": [
      "What is the capital of France?\n",
      "* Paris\n",
      "* Atlantic Ocean\n",
      "* O\n",
      "* 4\n"
     ]
    },
    {
     "name": "stdin",
     "output_type": "stream",
     "text": [
      "Your answer:  paris\n"
     ]
    },
    {
     "name": "stdout",
     "output_type": "stream",
     "text": [
      "What is the capital of France?\n",
      "* Paris\n",
      "* O\n",
      "* 4\n",
      "* 8 billion\n"
     ]
    },
    {
     "name": "stdin",
     "output_type": "stream",
     "text": [
      "Your answer:  Paris\n"
     ]
    },
    {
     "name": "stdout",
     "output_type": "stream",
     "text": [
      "What is the square root of 16?\n",
      "* Atlantic Ocean\n",
      "* O\n",
      "* 4\n",
      "* 8 billion\n"
     ]
    },
    {
     "name": "stdin",
     "output_type": "stream",
     "text": [
      "Your answer:  4\n"
     ]
    },
    {
     "name": "stdout",
     "output_type": "stream",
     "text": [
      "What is the chemical symbol for oxygen?\n",
      "* Paris\n",
      "* Atlantic Ocean\n",
      "* O\n",
      "* 4\n"
     ]
    },
    {
     "name": "stdin",
     "output_type": "stream",
     "text": [
      "Your answer:  O\n"
     ]
    },
    {
     "name": "stdout",
     "output_type": "stream",
     "text": [
      "What is the square root of 16?\n",
      "* Paris\n",
      "* Atlantic Ocean\n",
      "* O\n",
      "* 8 billion\n"
     ]
    },
    {
     "name": "stdin",
     "output_type": "stream",
     "text": [
      "Your answer:  4\n"
     ]
    },
    {
     "name": "stdout",
     "output_type": "stream",
     "text": [
      "Your final score is 1 out of 5\n"
     ]
    }
   ],
   "source": [
    "import random\n",
    "\n",
    "\n",
    "def generate_question():\n",
    "  question = random.choice([\n",
    "      \"What is the capital of France?\",\n",
    "      \"What is the largest ocean in the world?\",\n",
    "      \"What is the chemical symbol for oxygen?\",\n",
    "      \"What is the square root of 16?\",\n",
    "      \"What is the population of the earth?\"\n",
    "  ])\n",
    "  options = [\"Paris\", \"Atlantic Ocean\", \"O\", \"4\", \"8 billion\"]\n",
    "  correct_answer = options.pop(random.randrange(len(options)))\n",
    "  return question, options, correct_answer\n",
    "\n",
    "\n",
    "def play_quiz(questions):\n",
    "  score = 0\n",
    "  for question, options, correct_answer in questions:\n",
    "    print(question)\n",
    "    for option in options:\n",
    "      print(f\"* {option}\")\n",
    "    answer = input(\"Your answer: \").upper()\n",
    "    if answer == correct_answer:\n",
    "      score += 1\n",
    "    \n",
    "\n",
    "  print(f\"Your final score is {score} out of {len(questions)}\")\n",
    "\n",
    "\n",
    "if __name__ == \"__main__\":\n",
    "  questions = [generate_question() for _ in range(5)]\n",
    "  play_quiz(questions)"
   ]
  },
  {
   "cell_type": "markdown",
   "id": "3e415cda-8e72-4f68-85ec-67375eeb81dd",
   "metadata": {},
   "source": [
    "27. Develop a program that determines whether a given year is a prime number or not."
   ]
  },
  {
   "cell_type": "code",
   "execution_count": 3,
   "id": "9838d15e-959d-4141-8031-b13d509c37b3",
   "metadata": {},
   "outputs": [
    {
     "name": "stdout",
     "output_type": "stream",
     "text": [
      "True\n"
     ]
    }
   ],
   "source": [
    "def is_prime(num):\n",
    "    if num<=1:\n",
    "        return False\n",
    "    elif num==2 or num==3:\n",
    "        return True\n",
    "    elif num%2==0 or num%3==0:\n",
    "        return False\n",
    "    \n",
    "    divisor=5\n",
    "    while divisor*divisor<=num:\n",
    "        if num%divisor==0 or num%(divisor+2)==0:\n",
    "            return False\n",
    "        divisor+=6\n",
    "    return True\n",
    "\n",
    "result=is_prime(2027)\n",
    "print(result)"
   ]
  },
  {
   "cell_type": "markdown",
   "id": "760b6e21-73da-4038-b43b-effc9876ddd9",
   "metadata": {},
   "source": [
    "28. Create a program that sorts three numbers in ascending order using conditional statements."
   ]
  },
  {
   "cell_type": "code",
   "execution_count": 8,
   "id": "ad9a9ac6-6c56-43bc-94b7-9302716c40a3",
   "metadata": {},
   "outputs": [
    {
     "name": "stdout",
     "output_type": "stream",
     "text": [
      "[1, 3, 7]\n"
     ]
    }
   ],
   "source": [
    "def bubble_sort(input_list):\n",
    "    n = len(input_list)\n",
    "    for i in range(n):\n",
    "        swapped = False\n",
    "        for j in range(0, n-i-1):\n",
    "            if input_list[j] > input_list[j+1]:\n",
    "                input_list[j], input_list[j+1] = input_list[j+1], input_list[j]\n",
    "                swapped = True\n",
    "        if not swapped:\n",
    "            break\n",
    "    return input_list\n",
    "\n",
    "l28 = [3, 7, 1]\n",
    "result = bubble_sort(l28)\n",
    "print(result)"
   ]
  },
  {
   "cell_type": "markdown",
   "id": "097d5efe-b2ae-4d52-a59f-40de4ba566c2",
   "metadata": {},
   "source": [
    "29. Build a program that determines the roots of a quartic equation using numerical methods."
   ]
  },
  {
   "cell_type": "code",
   "execution_count": 9,
   "id": "d4f7c0ed-bbe8-43cb-8803-d77e03600172",
   "metadata": {},
   "outputs": [
    {
     "name": "stdout",
     "output_type": "stream",
     "text": [
      "Welcome to the Quartic Equation Solver!\n"
     ]
    },
    {
     "name": "stdin",
     "output_type": "stream",
     "text": [
      "Enter the coefficient for x^4:  10\n",
      "Enter the coefficient for x^3:  8\n",
      "Enter the coefficient for x^2:  4\n",
      "Enter the coefficient for x^1:  2\n",
      "Enter the coefficient for x^0:  1\n",
      "Enter an initial guess for the root:  6\n"
     ]
    },
    {
     "name": "stdout",
     "output_type": "stream",
     "text": [
      "The Newton-Raphson method did not converge to a root within the specified tolerance.\n"
     ]
    }
   ],
   "source": [
    "def quartic_equation(x, coefficients):\n",
    "    return sum(coeff * (x ** i) for i, coeff in enumerate(coefficients))\n",
    "\n",
    "def quartic_derivative(x, coefficients):\n",
    "    return sum(i * coeff * (x ** (i - 1)) for i, coeff in enumerate(coefficients) if i > 0)\n",
    "\n",
    "def newton_raphson_quartic(coefficients, initial_guess, tolerance=1e-6, max_iterations=100):\n",
    "    x = initial_guess\n",
    "    for _ in range(max_iterations):\n",
    "        f_x = quartic_equation(x, coefficients)\n",
    "        f_prime_x = quartic_derivative(x, coefficients)\n",
    "        x -= f_x / f_prime_x\n",
    "        if abs(f_x) < tolerance:\n",
    "            return x\n",
    "    return None\n",
    "\n",
    "def main():\n",
    "    print(\"Welcome to the Quartic Equation Solver!\")\n",
    "\n",
    "    coefficients = []\n",
    "    for i in range(5):\n",
    "        coeff = float(input(f\"Enter the coefficient for x^{4-i}: \"))\n",
    "        coefficients.append(coeff)\n",
    "\n",
    "    initial_guess = float(input(\"Enter an initial guess for the root: \"))\n",
    "\n",
    "    root = newton_raphson_quartic(coefficients, initial_guess)\n",
    "\n",
    "    if root is not None:\n",
    "        print(f\"A root of the quartic equation is approximately: {root:.6f}\")\n",
    "    else:\n",
    "        print(\"The Newton-Raphson method did not converge to a root within the specified tolerance.\")\n",
    "\n",
    "if __name__ == \"__main__\":\n",
    "    main()"
   ]
  },
  {
   "cell_type": "markdown",
   "id": "d3f5608e-f435-40bf-b957-78112681e7df",
   "metadata": {},
   "source": [
    "30. Write a program that calculates the BMI (Body Mass Index) and provides health recommendations based\n",
    "on the user's input."
   ]
  },
  {
   "cell_type": "code",
   "execution_count": 10,
   "id": "d7d6a221-a813-44a0-b14a-c5c676624acb",
   "metadata": {},
   "outputs": [
    {
     "name": "stdout",
     "output_type": "stream",
     "text": [
      "Welcome to the BMI Calculator and Health Recommendation Program!\n"
     ]
    },
    {
     "name": "stdin",
     "output_type": "stream",
     "text": [
      "Enter your weight in kilograms:  55\n",
      "Enter your height in meters:  1.70\n"
     ]
    },
    {
     "name": "stdout",
     "output_type": "stream",
     "text": [
      "Your BMI is: 19.03\n",
      "You are in the 'Normal Weight' category.\n",
      "Your weight is within a healthy range. Keep up the good work!\n"
     ]
    }
   ],
   "source": [
    "def calculate_bmi(weight_kg, height_m):\n",
    "    return weight_kg / (height_m ** 2)\n",
    "\n",
    "def get_bmi_category(bmi):\n",
    "    if bmi < 18.5:\n",
    "        return \"Underweight\"\n",
    "    elif 18.5 <= bmi < 24.9:\n",
    "        return \"Normal Weight\"\n",
    "    elif 25 <= bmi < 29.9:\n",
    "        return \"Overweight\"\n",
    "    else:\n",
    "        return \"Obese\"\n",
    "\n",
    "def main():\n",
    "    print(\"Welcome to the BMI Calculator and Health Recommendation Program!\")\n",
    "\n",
    "    try:\n",
    "        weight_kg = float(input(\"Enter your weight in kilograms: \"))\n",
    "        height_m = float(input(\"Enter your height in meters: \"))\n",
    "\n",
    "        if weight_kg <= 0 or height_m <= 0:\n",
    "            print(\"Invalid input. Weight and height must be positive values.\")\n",
    "        else:\n",
    "            bmi = calculate_bmi(weight_kg, height_m)\n",
    "            bmi_category = get_bmi_category(bmi)\n",
    "\n",
    "            print(f\"Your BMI is: {bmi:.2f}\")\n",
    "            print(f\"You are in the '{bmi_category}' category.\")\n",
    "\n",
    "            if bmi_category == \"Obese\":\n",
    "                print(\"You may want to consult a healthcare professional for weight management.\")\n",
    "            elif bmi_category == \"Underweight\":\n",
    "                print(\"You may want to consult a healthcare professional for nutritional advice.\")\n",
    "            else:\n",
    "                print(\"Your weight is within a healthy range. Keep up the good work!\")\n",
    "\n",
    "    except ValueError:\n",
    "        print(\"Invalid input. Please enter valid numeric values for weight and height.\")\n",
    "\n",
    "if __name__ == \"__main__\":\n",
    "    main()"
   ]
  },
  {
   "cell_type": "markdown",
   "id": "5062603c-bb5d-4153-a975-9edf8904bac5",
   "metadata": {},
   "source": [
    "Challenge Level:"
   ]
  },
  {
   "cell_type": "markdown",
   "id": "59cabd25-6fae-449f-9f0b-23427c28d6b9",
   "metadata": {},
   "source": [
    "31. Create a program that validates a password based on complexity rules (length, characters, etc.)."
   ]
  },
  {
   "cell_type": "code",
   "execution_count": 12,
   "id": "28d13926-bdbd-4c31-bcce-209f51d33abf",
   "metadata": {},
   "outputs": [
    {
     "name": "stdout",
     "output_type": "stream",
     "text": [
      "Welcome to the Password Validator!\n"
     ]
    },
    {
     "name": "stdin",
     "output_type": "stream",
     "text": [
      "Enter your password:  Hello@123\n"
     ]
    },
    {
     "name": "stdout",
     "output_type": "stream",
     "text": [
      "Password is valid. Good job!\n"
     ]
    }
   ],
   "source": [
    "import re\n",
    "\n",
    "def is_valid_password(password):\n",
    "    if len(password) < 8:\n",
    "        return False\n",
    "\n",
    "    if not re.search(r'[a-z]', password):\n",
    "        return False\n",
    "\n",
    "    if not re.search(r'[A-Z]', password):\n",
    "        return False\n",
    "\n",
    "    if not re.search(r'[0-9]', password):\n",
    "        return False\n",
    "\n",
    "    if not re.search(r'[!@#$%^&*()\\-_=+\\[\\]{}|;:\\'\",.<>?/]', password):\n",
    "        return False\n",
    "\n",
    "    return True\n",
    "\n",
    "def main():\n",
    "    print(\"Welcome to the Password Validator!\")\n",
    "\n",
    "    password = input(\"Enter your password: \")\n",
    "\n",
    "    if is_valid_password(password):\n",
    "        print(\"Password is valid. Good job!\")\n",
    "    else:\n",
    "        print(\"Password is invalid. Please follow the password complexity rules.\")\n",
    "\n",
    "if __name__ == \"__main__\":\n",
    "    main()"
   ]
  },
  {
   "cell_type": "markdown",
   "id": "db0f4eda-ce40-4c59-beb3-066fc39ea2b5",
   "metadata": {},
   "source": [
    "32. Develop a program that performs matrix addition and subtraction based on user input."
   ]
  },
  {
   "cell_type": "code",
   "execution_count": 1,
   "id": "0e25408b-a465-4dd5-9bab-44465ec5d1f5",
   "metadata": {},
   "outputs": [
    {
     "name": "stdout",
     "output_type": "stream",
     "text": [
      "Welcome to the Matrix Addition and Subtraction Program!\n"
     ]
    },
    {
     "name": "stdin",
     "output_type": "stream",
     "text": [
      "Matrix 1 Enter the number of rows:  1\n",
      "Enter the number of columns:  1\n"
     ]
    },
    {
     "name": "stdout",
     "output_type": "stream",
     "text": [
      "Enter the elements for Matrix 1 :\n"
     ]
    },
    {
     "name": "stdin",
     "output_type": "stream",
     "text": [
      "Enter element at position (1, 1):  1\n",
      "Matrix 2 Enter the number of rows:  1\n",
      "Enter the number of columns:  1\n"
     ]
    },
    {
     "name": "stdout",
     "output_type": "stream",
     "text": [
      "Enter the elements for Matrix 2 :\n"
     ]
    },
    {
     "name": "stdin",
     "output_type": "stream",
     "text": [
      "Enter element at position (1, 1):  2\n"
     ]
    },
    {
     "name": "stdout",
     "output_type": "stream",
     "text": [
      "\n",
      "Matrix 1:\n",
      "[1.0]\n",
      "\n",
      "Matrix 2:\n",
      "[2.0]\n",
      "\n",
      "Matrix Addition Result:\n",
      "[3.0]\n",
      "\n",
      "Matrix Subtraction Result:\n",
      "[-1.0]\n"
     ]
    }
   ],
   "source": [
    "def matrix_addition(matrix1, matrix2):\n",
    "    result = []\n",
    "    if len(matrix1) != len(matrix2) or len(matrix1[0]) != len(matrix2[0]):\n",
    "        return None\n",
    "    for i in range(len(matrix1)):\n",
    "        row = []\n",
    "        for j in range(len(matrix1[0])):\n",
    "            row.append(matrix1[i][j] + matrix2[i][j])\n",
    "        result.append(row)\n",
    "    return result\n",
    "\n",
    "def matrix_subtraction(matrix1, matrix2):\n",
    "    result = []\n",
    "    if len(matrix1) != len(matrix2) or len(matrix1[0]) != len(matrix2[0]):\n",
    "        return None\n",
    "    for i in range(len(matrix1)):\n",
    "        row = []\n",
    "        for j in range(len(matrix1[0])):\n",
    "            row.append(matrix1[i][j] - matrix2[i][j])\n",
    "        result.append(row)\n",
    "    return result\n",
    "\n",
    "def input_matrix(prompt):\n",
    "    matrix = []\n",
    "    rows = int(input(prompt + \"Enter the number of rows: \"))\n",
    "    cols = int(input(\"Enter the number of columns: \"))\n",
    "    print(f\"Enter the elements for {prompt}:\")\n",
    "    for i in range(rows):\n",
    "        row = []\n",
    "        for j in range(cols):\n",
    "            element = float(input(f\"Enter element at position ({i+1}, {j+1}): \"))\n",
    "            row.append(element)\n",
    "        matrix.append(row)\n",
    "    return matrix\n",
    "\n",
    "def main():\n",
    "    print(\"Welcome to the Matrix Addition and Subtraction Program!\")\n",
    "\n",
    "    matrix1 = input_matrix(\"Matrix 1 \")\n",
    "    matrix2 = input_matrix(\"Matrix 2 \")\n",
    "\n",
    "    print(\"\\nMatrix 1:\")\n",
    "    for row in matrix1:\n",
    "        print(row)\n",
    "\n",
    "    print(\"\\nMatrix 2:\")\n",
    "    for row in matrix2:\n",
    "        print(row)\n",
    "\n",
    "    add_result = matrix_addition(matrix1, matrix2)\n",
    "    sub_result = matrix_subtraction(matrix1, matrix2)\n",
    "\n",
    "    if add_result:\n",
    "        print(\"\\nMatrix Addition Result:\")\n",
    "        for row in add_result:\n",
    "            print(row)\n",
    "    else:\n",
    "        print(\"\\nMatrix Addition is not possible due to different dimensions.\")\n",
    "\n",
    "    if sub_result:\n",
    "        print(\"\\nMatrix Subtraction Result:\")\n",
    "        for row in sub_result:\n",
    "            print(row)\n",
    "    else:\n",
    "        print(\"\\nMatrix Subtraction is not possible due to different dimensions.\")\n",
    "\n",
    "if __name__ == \"__main__\":\n",
    "    main()"
   ]
  },
  {
   "cell_type": "markdown",
   "id": "12462f39-e859-4bb8-be3c-7b6f07efd5b2",
   "metadata": {},
   "source": [
    "33. Write a program that calculates the greatest common divisor (GCD) of two numbers using the Euclidean\n",
    "algorithm."
   ]
  },
  {
   "cell_type": "code",
   "execution_count": 3,
   "id": "231ba3fb-3581-4303-ac05-b80d9777f1e5",
   "metadata": {},
   "outputs": [
    {
     "name": "stdout",
     "output_type": "stream",
     "text": [
      "5\n"
     ]
    }
   ],
   "source": [
    "def GCD(a,b):\n",
    "    if a==0:\n",
    "        return b\n",
    "    elif b==0:\n",
    "        return a\n",
    "    elif a>b:\n",
    "        return GCD(a%b,b)\n",
    "    elif b>a:\n",
    "        return GCD(b%a,a)\n",
    "    \n",
    "print(GCD(10,5))"
   ]
  },
  {
   "cell_type": "markdown",
   "id": "2b015c67-004b-4dfa-b448-82859150f9f3",
   "metadata": {},
   "source": [
    "34. Build a program that performs matrix multiplication using nested loops and conditional statements."
   ]
  },
  {
   "cell_type": "code",
   "execution_count": 4,
   "id": "06bc6522-f4c8-4f7f-98fe-39203e96123d",
   "metadata": {},
   "outputs": [
    {
     "name": "stdout",
     "output_type": "stream",
     "text": [
      "Welcome to the Matrix Multiplication Program!\n"
     ]
    },
    {
     "name": "stdin",
     "output_type": "stream",
     "text": [
      "Matrix 1 Enter the number of rows:  1\n",
      "Enter the number of columns:  1\n"
     ]
    },
    {
     "name": "stdout",
     "output_type": "stream",
     "text": [
      "Enter the elements for Matrix 1 :\n"
     ]
    },
    {
     "name": "stdin",
     "output_type": "stream",
     "text": [
      "Enter element at position (1, 1):  1\n",
      "Matrix 2 Enter the number of rows:  1\n",
      "Enter the number of columns:  1\n"
     ]
    },
    {
     "name": "stdout",
     "output_type": "stream",
     "text": [
      "Enter the elements for Matrix 2 :\n"
     ]
    },
    {
     "name": "stdin",
     "output_type": "stream",
     "text": [
      "Enter element at position (1, 1):  1\n"
     ]
    },
    {
     "name": "stdout",
     "output_type": "stream",
     "text": [
      "\n",
      "Matrix 1:\n",
      "[1.0]\n",
      "\n",
      "Matrix 2:\n",
      "[1.0]\n",
      "\n",
      "Matrix Multiplication Result:\n",
      "[1.0]\n"
     ]
    }
   ],
   "source": [
    "def matrix_multiplication(matrix1, matrix2):\n",
    "    if len(matrix1[0]) != len(matrix2):\n",
    "        return None  \n",
    "    result = []\n",
    "    for i in range(len(matrix1)):\n",
    "        row = []\n",
    "        for j in range(len(matrix2[0])):\n",
    "            element = 0\n",
    "            for k in range(len(matrix2)):\n",
    "                element += matrix1[i][k] * matrix2[k][j]\n",
    "            row.append(element)\n",
    "        result.append(row)\n",
    "    return result\n",
    "\n",
    "def input_matrix(prompt):\n",
    "    matrix = []\n",
    "    rows = int(input(prompt + \"Enter the number of rows: \"))\n",
    "    cols = int(input(\"Enter the number of columns: \"))\n",
    "    print(f\"Enter the elements for {prompt}:\")\n",
    "    for i in range(rows):\n",
    "        row = []\n",
    "        for j in range(cols):\n",
    "            element = float(input(f\"Enter element at position ({i+1}, {j+1}): \"))\n",
    "            row.append(element)\n",
    "        matrix.append(row)\n",
    "    return matrix\n",
    "\n",
    "def main():\n",
    "    print(\"Welcome to the Matrix Multiplication Program!\")\n",
    "\n",
    "    matrix1 = input_matrix(\"Matrix 1 \")\n",
    "    matrix2 = input_matrix(\"Matrix 2 \")\n",
    "\n",
    "    print(\"\\nMatrix 1:\")\n",
    "    for row in matrix1:\n",
    "        print(row)\n",
    "\n",
    "    print(\"\\nMatrix 2:\")\n",
    "    for row in matrix2:\n",
    "        print(row)\n",
    "\n",
    "    multiplication_result = matrix_multiplication(matrix1, matrix2)\n",
    "\n",
    "    if multiplication_result:\n",
    "        print(\"\\nMatrix Multiplication Result:\")\n",
    "        for row in multiplication_result:\n",
    "            print(row)\n",
    "    else:\n",
    "        print(\"\\nMatrix Multiplication is not possible due to incompatible dimensions.\")\n",
    "\n",
    "if __name__ == \"__main__\":\n",
    "    main()"
   ]
  },
  {
   "cell_type": "markdown",
   "id": "4a647731-7858-4e80-ac21-08c8d8e15b80",
   "metadata": {},
   "source": [
    "35. Create a program that simulates a basic text-based tic-tac-toe game against the computer."
   ]
  },
  {
   "cell_type": "code",
   "execution_count": 5,
   "id": "76dc90ab-f8c1-4d7d-aaee-65c7088e17b5",
   "metadata": {},
   "outputs": [
    {
     "name": "stdout",
     "output_type": "stream",
     "text": [
      "Welcome to Tic-Tac-Toe!\n",
      "  |   |  \n",
      "---------\n",
      "  |   |  \n",
      "---------\n",
      "  |   |  \n",
      "---------\n",
      "Your turn (X)\n"
     ]
    },
    {
     "name": "stdin",
     "output_type": "stream",
     "text": [
      "Enter the row (0, 1, or 2):  0\n",
      "Enter the column (0, 1, or 2):  0\n"
     ]
    },
    {
     "name": "stdout",
     "output_type": "stream",
     "text": [
      "X |   |  \n",
      "---------\n",
      "  |   |  \n",
      "---------\n",
      "  |   |  \n",
      "---------\n",
      "Computer's turn (O)\n",
      "X |   |  \n",
      "---------\n",
      "  | O |  \n",
      "---------\n",
      "  |   |  \n",
      "---------\n",
      "Your turn (X)\n"
     ]
    },
    {
     "name": "stdin",
     "output_type": "stream",
     "text": [
      "Enter the row (0, 1, or 2):  2\n",
      "Enter the column (0, 1, or 2):  2\n"
     ]
    },
    {
     "name": "stdout",
     "output_type": "stream",
     "text": [
      "X |   |  \n",
      "---------\n",
      "  | O |  \n",
      "---------\n",
      "  |   | X\n",
      "---------\n",
      "Computer's turn (O)\n",
      "X |   |  \n",
      "---------\n",
      "O | O |  \n",
      "---------\n",
      "  |   | X\n",
      "---------\n",
      "Your turn (X)\n"
     ]
    },
    {
     "name": "stdin",
     "output_type": "stream",
     "text": [
      "Enter the row (0, 1, or 2):  1\n",
      "Enter the column (0, 1, or 2):  2\n"
     ]
    },
    {
     "name": "stdout",
     "output_type": "stream",
     "text": [
      "X |   |  \n",
      "---------\n",
      "O | O | X\n",
      "---------\n",
      "  |   | X\n",
      "---------\n",
      "Computer's turn (O)\n",
      "X |   | O\n",
      "---------\n",
      "O | O | X\n",
      "---------\n",
      "  |   | X\n",
      "---------\n",
      "Your turn (X)\n"
     ]
    },
    {
     "name": "stdin",
     "output_type": "stream",
     "text": [
      "Enter the row (0, 1, or 2):  2\n",
      "Enter the column (0, 1, or 2):  0\n"
     ]
    },
    {
     "name": "stdout",
     "output_type": "stream",
     "text": [
      "X |   | O\n",
      "---------\n",
      "O | O | X\n",
      "---------\n",
      "X |   | X\n",
      "---------\n",
      "Computer's turn (O)\n",
      "X |   | O\n",
      "---------\n",
      "O | O | X\n",
      "---------\n",
      "X | O | X\n",
      "---------\n",
      "Your turn (X)\n"
     ]
    },
    {
     "name": "stdin",
     "output_type": "stream",
     "text": [
      "Enter the row (0, 1, or 2):  0\n",
      "Enter the column (0, 1, or 2):  1\n"
     ]
    },
    {
     "name": "stdout",
     "output_type": "stream",
     "text": [
      "X | X | O\n",
      "---------\n",
      "O | O | X\n",
      "---------\n",
      "X | O | X\n",
      "---------\n",
      "It's a tie!\n"
     ]
    }
   ],
   "source": [
    "import random\n",
    "\n",
    "def print_board(board):\n",
    "    for row in board:\n",
    "        print(\" | \".join(row))\n",
    "        print(\"-\" * 9)\n",
    "\n",
    "def is_winner(board, player):\n",
    "    for row in board:\n",
    "        if all(cell == player for cell in row):\n",
    "            return True\n",
    "\n",
    "    for col in range(3):\n",
    "        if all(row[col] == player for row in board):\n",
    "            return True\n",
    "\n",
    "    if all(board[i][i] == player for i in range(3)) or all(board[i][2 - i] == player for i in range(3)):\n",
    "        return True\n",
    "\n",
    "    return False\n",
    "\n",
    "def is_board_full(board):\n",
    "    return all(cell != \" \" for row in board for cell in row)\n",
    "\n",
    "def player_move(board):\n",
    "    while True:\n",
    "        try:\n",
    "            row = int(input(\"Enter the row (0, 1, or 2): \"))\n",
    "            col = int(input(\"Enter the column (0, 1, or 2): \"))\n",
    "            if 0 <= row <= 2 and 0 <= col <= 2 and board[row][col] == \" \":\n",
    "                return row, col\n",
    "            else:\n",
    "                print(\"Invalid move. Try again.\")\n",
    "        except ValueError:\n",
    "            print(\"Invalid input. Please enter a valid row and column.\")\n",
    "\n",
    "def computer_move(board):\n",
    "    empty_cells = [(row, col) for row in range(3) for col in range(3) if board[row][col] == \" \"]\n",
    "    return random.choice(empty_cells)\n",
    "\n",
    "def play_game():\n",
    "    board = [[\" \" for _ in range(3)] for _ in range(3)]\n",
    "    player_symbol = \"X\"\n",
    "    computer_symbol = \"O\"\n",
    "\n",
    "    print(\"Welcome to Tic-Tac-Toe!\")\n",
    "\n",
    "    while True:\n",
    "        print_board(board)\n",
    "        print(\"Your turn (X)\")\n",
    "        player_row, player_col = player_move(board)\n",
    "        board[player_row][player_col] = player_symbol\n",
    "\n",
    "        if is_winner(board, player_symbol):\n",
    "            print_board(board)\n",
    "            print(\"Congratulations! You win!\")\n",
    "            break\n",
    "\n",
    "        if is_board_full(board):\n",
    "            print_board(board)\n",
    "            print(\"It's a tie!\")\n",
    "            break\n",
    "\n",
    "        print_board(board)\n",
    "        print(\"Computer's turn (O)\")\n",
    "        computer_row, computer_col = computer_move(board)\n",
    "        board[computer_row][computer_col] = computer_symbol\n",
    "\n",
    "        if is_winner(board, computer_symbol):\n",
    "            print_board(board)\n",
    "            print(\"Computer wins! Better luck next time.\")\n",
    "            break\n",
    "\n",
    "        if is_board_full(board):\n",
    "            print_board(board)\n",
    "            print(\"It's a tie!\")\n",
    "            break\n",
    "\n",
    "if __name__ == \"__main__\":\n",
    "    play_game()"
   ]
  },
  {
   "cell_type": "markdown",
   "id": "79e9a839-fd31-4c7a-865b-47de43602005",
   "metadata": {},
   "source": [
    "36. Write a program that generates Fibonacci numbers up to a specified term using iterative methods."
   ]
  },
  {
   "cell_type": "code",
   "execution_count": 8,
   "id": "8de8b768-5944-4510-9450-75fb2f08e604",
   "metadata": {},
   "outputs": [
    {
     "name": "stdout",
     "output_type": "stream",
     "text": [
      "Welcome to the Fibonacci Number Generator!\n"
     ]
    },
    {
     "name": "stdin",
     "output_type": "stream",
     "text": [
      "Enter the number of Fibonacci numbers to generate:  5\n"
     ]
    },
    {
     "name": "stdout",
     "output_type": "stream",
     "text": [
      "The first 5 Fibonacci numbers are:\n",
      "[0, 1, 1, 2, 3]\n"
     ]
    }
   ],
   "source": [
    "def generate_fibonacci(n):\n",
    "    fibonacci_sequence = [0, 1]\n",
    "    while len(fibonacci_sequence) < n:\n",
    "        next_number = fibonacci_sequence[-1] + fibonacci_sequence[-2]\n",
    "        fibonacci_sequence.append(next_number)\n",
    "    return fibonacci_sequence\n",
    "\n",
    "def main():\n",
    "    print(\"Welcome to the Fibonacci Number Generator!\")\n",
    "\n",
    "    try:\n",
    "        n = int(input(\"Enter the number of Fibonacci numbers to generate: \"))\n",
    "        if n <= 0:\n",
    "            print(\"Please enter a positive integer.\")\n",
    "        else:\n",
    "            fibonacci_sequence = generate_fibonacci(n)\n",
    "            print(f\"The first {n} Fibonacci numbers are:\")\n",
    "            print(fibonacci_sequence)\n",
    "    except ValueError:\n",
    "        print(\"Invalid input. Please enter a valid integer.\")\n",
    "\n",
    "if __name__ == \"__main__\":\n",
    "    main()"
   ]
  },
  {
   "cell_type": "markdown",
   "id": "86fe8ef8-6586-4221-8938-b4b05a1dfebc",
   "metadata": {},
   "source": [
    "37. Develop a program that calculates the nth term of the Fibonacci sequence using memoization."
   ]
  },
  {
   "cell_type": "code",
   "execution_count": 11,
   "id": "b882e243-cf64-4a45-99bf-e68df94527f6",
   "metadata": {},
   "outputs": [
    {
     "name": "stdout",
     "output_type": "stream",
     "text": [
      "Welcome to the Fibonacci Number Calculator with Memoization!\n"
     ]
    },
    {
     "name": "stdin",
     "output_type": "stream",
     "text": [
      "Enter the value of n to calculate the nth Fibonacci number:  4\n"
     ]
    },
    {
     "name": "stdout",
     "output_type": "stream",
     "text": [
      "The 4th Fibonacci number is: 3\n"
     ]
    }
   ],
   "source": [
    "def fibonacci(n, memo={}):\n",
    "    if n in memo:\n",
    "        return memo[n]\n",
    "    if n <= 1:\n",
    "        return n\n",
    "    memo[n] = fibonacci(n - 1, memo) + fibonacci(n - 2, memo)\n",
    "    return memo[n]\n",
    "\n",
    "def main():\n",
    "    print(\"Welcome to the Fibonacci Number Calculator with Memoization!\")\n",
    "\n",
    "    try:\n",
    "        n = int(input(\"Enter the value of n to calculate the nth Fibonacci number: \"))\n",
    "        if n < 0:\n",
    "            print(\"Please enter a non-negative integer.\")\n",
    "        else:\n",
    "            result = fibonacci(n)\n",
    "            print(f\"The {n}th Fibonacci number is: {result}\")\n",
    "    except ValueError:\n",
    "        print(\"Invalid input. Please enter a valid non-negative integer.\")\n",
    "\n",
    "if __name__ == \"__main__\":\n",
    "    main()"
   ]
  },
  {
   "cell_type": "markdown",
   "id": "9f3580f1-5576-406e-a71c-c8e80987a9d9",
   "metadata": {},
   "source": [
    "38. Create a program that generates a calendar for a given month and year using conditional statements."
   ]
  },
  {
   "cell_type": "code",
   "execution_count": 12,
   "id": "6e752dad-b566-48b6-a8c5-358049fa186b",
   "metadata": {},
   "outputs": [
    {
     "name": "stdout",
     "output_type": "stream",
     "text": [
      "Welcome to the Calendar Generator!\n"
     ]
    },
    {
     "name": "stdin",
     "output_type": "stream",
     "text": [
      "Enter the year (e.g., 2023):  2023\n",
      "Enter the month (1-12):  8\n"
     ]
    },
    {
     "name": "stdout",
     "output_type": "stream",
     "text": [
      "\n",
      "Calendar:\n",
      "    August 2023\n",
      "Mo Tu We Th Fr Sa Su\n",
      "    1  2  3  4  5  6\n",
      " 7  8  9 10 11 12 13\n",
      "14 15 16 17 18 19 20\n",
      "21 22 23 24 25 26 27\n",
      "28 29 30 31\n",
      "\n"
     ]
    }
   ],
   "source": [
    "import calendar\n",
    "\n",
    "def generate_calendar(year, month):\n",
    "    cal = calendar.month(year, month)\n",
    "    return cal\n",
    "\n",
    "def main():\n",
    "    print(\"Welcome to the Calendar Generator!\")\n",
    "\n",
    "    try:\n",
    "        year = int(input(\"Enter the year (e.g., 2023): \"))\n",
    "        month = int(input(\"Enter the month (1-12): \"))\n",
    "\n",
    "        if 1 <= month <= 12:\n",
    "            cal = generate_calendar(year, month)\n",
    "            print(\"\\nCalendar:\")\n",
    "            print(cal)\n",
    "        else:\n",
    "            print(\"Invalid month. Please enter a number between 1 and 12.\")\n",
    "    except ValueError:\n",
    "        print(\"Invalid input. Please enter valid numeric values for year and month.\")\n",
    "\n",
    "if __name__ == \"__main__\":\n",
    "    main()"
   ]
  },
  {
   "cell_type": "markdown",
   "id": "54abcdc9-3d4b-460e-9232-4c3614bed6f8",
   "metadata": {},
   "source": [
    "39. Build a program that simulates a basic text-based blackjack game against the computer."
   ]
  },
  {
   "cell_type": "code",
   "execution_count": 13,
   "id": "1b5ac2f5-34fb-4945-bae9-c427218ff108",
   "metadata": {},
   "outputs": [
    {
     "name": "stdout",
     "output_type": "stream",
     "text": [
      "Welcome to Text-Based Blackjack!\n",
      "\n",
      "Your hand: ['2', '3']\n",
      "Computer's hand: ['K', '??']\n"
     ]
    },
    {
     "name": "stdin",
     "output_type": "stream",
     "text": [
      "Do you want to 'hit' or 'stand'?  hit\n"
     ]
    },
    {
     "name": "stdout",
     "output_type": "stream",
     "text": [
      "\n",
      "Your hand: ['2', '3', '6']\n",
      "Computer's hand: ['K', '??']\n"
     ]
    },
    {
     "name": "stdin",
     "output_type": "stream",
     "text": [
      "Do you want to 'hit' or 'stand'?  stand\n"
     ]
    },
    {
     "name": "stdout",
     "output_type": "stream",
     "text": [
      "\n",
      "Computer's hand: ['K', 'J']\n",
      "Computer wins!\n"
     ]
    }
   ],
   "source": [
    "import random\n",
    "\n",
    "def deal_card():\n",
    "    \"\"\"Deal a random card.\"\"\"\n",
    "    cards = ['2', '3', '4', '5', '6', '7', '8', '9', '10', 'J', 'Q', 'K', 'A']\n",
    "    return random.choice(cards)\n",
    "\n",
    "def calculate_hand_value(hand):\n",
    "    \"\"\"Calculate the value of a hand of cards.\"\"\"\n",
    "    values = {'2': 2, '3': 3, '4': 4, '5': 5, '6': 6, '7': 7, '8': 8, '9': 9, '10': 10, 'J': 10, 'Q': 10, 'K': 10, 'A': 11}\n",
    "    value = sum(values[card] for card in hand)\n",
    "    num_aces = hand.count('A')\n",
    "    while value > 21 and num_aces > 0:\n",
    "        value -= 10\n",
    "        num_aces -= 1\n",
    "    return value\n",
    "\n",
    "def blackjack_game():\n",
    "    \"\"\"Play a simplified text-based Blackjack game.\"\"\"\n",
    "    print(\"Welcome to Text-Based Blackjack!\")\n",
    "\n",
    "    player_hand = [deal_card(), deal_card()]\n",
    "    computer_hand = [deal_card(), deal_card()]\n",
    "\n",
    "    while True:\n",
    "        print(\"\\nYour hand:\", player_hand)\n",
    "        print(\"Computer's hand:\", [computer_hand[0], '??'])\n",
    "\n",
    "        player_value = calculate_hand_value(player_hand)\n",
    "        if player_value == 21:\n",
    "            print(\"Blackjack! You win!\")\n",
    "            break\n",
    "        elif player_value > 21:\n",
    "            print(\"Busted! You lose!\")\n",
    "            break\n",
    "\n",
    "        action = input(\"Do you want to 'hit' or 'stand'? \").lower()\n",
    "        if action == 'hit':\n",
    "            player_hand.append(deal_card())\n",
    "        elif action == 'stand':\n",
    "            while calculate_hand_value(computer_hand) < 17:\n",
    "                computer_hand.append(deal_card())\n",
    "            print(\"\\nComputer's hand:\", computer_hand)\n",
    "\n",
    "            player_value = calculate_hand_value(player_hand)\n",
    "            computer_value = calculate_hand_value(computer_hand)\n",
    "\n",
    "            if computer_value > 21:\n",
    "                print(\"Computer busted! You win!\")\n",
    "            elif player_value > computer_value:\n",
    "                print(\"You win!\")\n",
    "            elif player_value < computer_value:\n",
    "                print(\"Computer wins!\")\n",
    "            else:\n",
    "                print(\"It's a tie!\")\n",
    "\n",
    "            break\n",
    "        else:\n",
    "            print(\"Invalid input. Please enter 'hit' or 'stand'.\")\n",
    "\n",
    "if __name__ == \"__main__\":\n",
    "    blackjack_game()"
   ]
  },
  {
   "cell_type": "markdown",
   "id": "5a62d265-4ff0-4588-8b72-a6e5c7dfd1b3",
   "metadata": {},
   "source": [
    "40. Write a program that generates the prime factors of a given number using trial division."
   ]
  },
  {
   "cell_type": "code",
   "execution_count": 15,
   "id": "5d112a2a-0cb8-41ce-971e-ff30304af92c",
   "metadata": {},
   "outputs": [
    {
     "name": "stdout",
     "output_type": "stream",
     "text": [
      "Prime Factor Calculator\n"
     ]
    },
    {
     "name": "stdin",
     "output_type": "stream",
     "text": [
      "Enter a positive integer:  28\n"
     ]
    },
    {
     "name": "stdout",
     "output_type": "stream",
     "text": [
      "The prime factors of 28 are: [2, 2, 7]\n"
     ]
    }
   ],
   "source": [
    "def prime_factors(n):\n",
    "    factors = []\n",
    "    divisor = 2\n",
    "    while n > 1:\n",
    "        while n % divisor == 0:\n",
    "            factors.append(divisor)\n",
    "            n //= divisor\n",
    "        divisor += 1\n",
    "    return factors\n",
    "\n",
    "def main():\n",
    "    print(\"Prime Factor Calculator\")\n",
    "\n",
    "    try:\n",
    "        number = int(input(\"Enter a positive integer: \"))\n",
    "        if number <= 0:\n",
    "            print(\"Please enter a positive integer.\")\n",
    "        else:\n",
    "            factors = prime_factors(number)\n",
    "            if len(factors) == 0:\n",
    "                print(f\"{number} has no prime factors.\")\n",
    "            else:\n",
    "                print(f\"The prime factors of {number} are: {factors}\")\n",
    "    except ValueError:\n",
    "        print(\"Invalid input. Please enter a valid positive integer.\")\n",
    "\n",
    "if __name__ == \"__main__\":\n",
    "    main()"
   ]
  }
 ],
 "metadata": {
  "kernelspec": {
   "display_name": "Python 3 (ipykernel)",
   "language": "python",
   "name": "python3"
  },
  "language_info": {
   "codemirror_mode": {
    "name": "ipython",
    "version": 3
   },
   "file_extension": ".py",
   "mimetype": "text/x-python",
   "name": "python",
   "nbconvert_exporter": "python",
   "pygments_lexer": "ipython3",
   "version": "3.10.8"
  }
 },
 "nbformat": 4,
 "nbformat_minor": 5
}
