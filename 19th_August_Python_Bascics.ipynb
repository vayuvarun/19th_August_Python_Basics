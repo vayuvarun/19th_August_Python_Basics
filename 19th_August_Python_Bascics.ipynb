{
 "cells": [
  {
   "cell_type": "markdown",
   "id": "ec87112c-dfa5-40b7-b8af-4b507dd9ace4",
   "metadata": {},
   "source": [
    "Topic : Python Basics Variales"
   ]
  },
  {
   "cell_type": "markdown",
   "id": "93cda6fe-5b98-44ee-b341-7e30d635b435",
   "metadata": {},
   "source": [
    "1. Declare two variables, `x` and `y`, and assign them integer values.\n",
    "Swap the values of these variables without using any temporary\n",
    "variable."
   ]
  },
  {
   "cell_type": "code",
   "execution_count": 2,
   "id": "3be7da18-69ee-462e-84b0-eea7da38dcee",
   "metadata": {},
   "outputs": [],
   "source": [
    "# Answer 1\n",
    "\n",
    "x = 58\n",
    "y = 83\n",
    "\n",
    "x,y = y,x"
   ]
  },
  {
   "cell_type": "markdown",
   "id": "ba410e47-1822-4272-bda8-e4d59cb78e09",
   "metadata": {},
   "source": [
    "2. Create a program that calculates the area of a rectangle. Take the\n",
    "length and width as inputs from the user and store them in variables.\n",
    "Calculate and display the area."
   ]
  },
  {
   "cell_type": "code",
   "execution_count": 3,
   "id": "e8e39598-be0a-4777-aaa5-cca2c5e5ba37",
   "metadata": {},
   "outputs": [
    {
     "name": "stdin",
     "output_type": "stream",
     "text": [
      "Enter the length of the rectangle 4\n",
      "Enter the width of the rectangle 2\n"
     ]
    },
    {
     "name": "stdout",
     "output_type": "stream",
     "text": [
      "Area of rectangle is  8\n"
     ]
    }
   ],
   "source": [
    "# Answer 2\n",
    "\n",
    "l = int(input(\"Enter the length of the rectangle\"))\n",
    "w = int(input(\"Enter the width of the rectangle\"))\n",
    "\n",
    "area_of_rectangle = l*w\n",
    "print(\"Area of rectangle is \",area_of_rectangle)"
   ]
  },
  {
   "cell_type": "markdown",
   "id": "427c4f70-3f99-403c-98b0-4b050d8d6592",
   "metadata": {},
   "source": [
    "3. Write a Python program that converts temperature from Celsius to\n",
    "Fahrenheit. Take the temperature in Celsius as input, store it in a\n",
    "variable, convert it to Fahrenheit, and display the result."
   ]
  },
  {
   "cell_type": "code",
   "execution_count": 4,
   "id": "25bf5cdd-ef02-4b83-95d9-32bfee2ef307",
   "metadata": {},
   "outputs": [
    {
     "name": "stdin",
     "output_type": "stream",
     "text": [
      "Enter the temperature in celsius :  10\n"
     ]
    },
    {
     "name": "stdout",
     "output_type": "stream",
     "text": [
      "Temperature in Fahrenheit is :  50.0\n"
     ]
    }
   ],
   "source": [
    "# Answer 3\n",
    "\n",
    "c = int(input(\"Enter the temperature in celsius : \"))\n",
    "f = (c*(9/5))+32\n",
    "\n",
    "print(\"Temperature in Fahrenheit is : \",f)"
   ]
  },
  {
   "cell_type": "markdown",
   "id": "44022596-abf1-4278-852c-f621d027e8e4",
   "metadata": {},
   "source": [
    "Topic : String Based Question"
   ]
  },
  {
   "cell_type": "markdown",
   "id": "c702d82d-3175-4cd3-bea2-6cc1ba5060b1",
   "metadata": {},
   "source": [
    "1. Write a Python program that takes a string as input and prints the\n",
    "length of the string."
   ]
  },
  {
   "cell_type": "code",
   "execution_count": 5,
   "id": "43a82eeb-e60c-4541-8931-e6de2c3b1063",
   "metadata": {},
   "outputs": [
    {
     "name": "stdin",
     "output_type": "stream",
     "text": [
      "Enter the string :  Hello\n"
     ]
    },
    {
     "name": "stdout",
     "output_type": "stream",
     "text": [
      "5\n"
     ]
    }
   ],
   "source": [
    "# Answer 1\n",
    "\n",
    "string1 = input(\"Enter the string : \")\n",
    "\n",
    "print(len(string1))"
   ]
  },
  {
   "cell_type": "markdown",
   "id": "a0ea3412-a3ff-47af-a790-091ad694579f",
   "metadata": {},
   "source": [
    "2. Create a program that takes a sentence from the user and counts the\n",
    "number of vowels (a, e, i, o, u) in the string."
   ]
  },
  {
   "cell_type": "code",
   "execution_count": 17,
   "id": "9e28ca51-e9b4-4316-964e-55ea94c0d01f",
   "metadata": {
    "tags": []
   },
   "outputs": [
    {
     "name": "stdin",
     "output_type": "stream",
     "text": [
      "Enter the string :  hello\n"
     ]
    },
    {
     "name": "stdout",
     "output_type": "stream",
     "text": [
      "Number of vowels in  hello are  2\n"
     ]
    }
   ],
   "source": [
    "# Answer 2\n",
    "\n",
    "string2 = input(\"Enter the string : \")\n",
    "\n",
    "count=0\n",
    "\n",
    "for i in string2:\n",
    "    if i==\"a\" or i==\"e\" or i==\"i\" or i==\"o\" or i==\"u\" or i==\"A\" or i==\"E\" or i==\"I\" or i==\"O\" or i==\"U\":\n",
    "        count=count+1\n",
    "\n",
    "\n",
    "print(\"Number of vowels in \",string2,\"are \",count)"
   ]
  },
  {
   "cell_type": "markdown",
   "id": "f1b8a860-0e63-4c27-8453-63ee2a8269e4",
   "metadata": {},
   "source": [
    "3. Given a string, reverse the order of characters using string slicing and\n",
    "print the reversed string."
   ]
  },
  {
   "cell_type": "code",
   "execution_count": 12,
   "id": "fb384f17-8e94-4e6f-8318-d928357d585f",
   "metadata": {},
   "outputs": [
    {
     "name": "stdout",
     "output_type": "stream",
     "text": [
      "ognaM\n"
     ]
    }
   ],
   "source": [
    "# Answer 3\n",
    "\n",
    "string3 = \"Mango\"\n",
    "\n",
    "string3 = string3[::-1]\n",
    "\n",
    "print(string3)"
   ]
  },
  {
   "cell_type": "markdown",
   "id": "fe4005b7-8dd7-48b3-a301-7d282bcc9cd7",
   "metadata": {},
   "source": [
    "4. Write a program that takes a string as input and checks if it is a\n",
    "palindrome (reads the same forwards and backwards)."
   ]
  },
  {
   "cell_type": "code",
   "execution_count": 21,
   "id": "c46e96b0-4b1e-4df6-865b-f528085abccc",
   "metadata": {},
   "outputs": [
    {
     "name": "stdin",
     "output_type": "stream",
     "text": [
      "Enter the string :  dodod\n"
     ]
    },
    {
     "name": "stdout",
     "output_type": "stream",
     "text": [
      "The given string is palindrome\n"
     ]
    }
   ],
   "source": [
    "# Answer 4\n",
    "\n",
    "inputString=input(\"Enter the string : \")\n",
    "tempString = inputString[::-1]\n",
    "\n",
    "if inputString==tempString:\n",
    "    print(\"The given string is palindrome\")\n",
    "else: print(\"The given string is not a palindrome\")"
   ]
  },
  {
   "cell_type": "markdown",
   "id": "d3a1fd81-3cfa-4a74-bc5a-5b79eb6028b3",
   "metadata": {},
   "source": [
    "5. Create a program that takes a string as input and removes all the\n",
    "spaces from it. Print the modified string without spaces."
   ]
  },
  {
   "cell_type": "code",
   "execution_count": 24,
   "id": "cc73dffb-bca3-4634-8c51-5ff35c26ef01",
   "metadata": {},
   "outputs": [
    {
     "name": "stdin",
     "output_type": "stream",
     "text": [
      "Enter the string: Hello World\n"
     ]
    },
    {
     "name": "stdout",
     "output_type": "stream",
     "text": [
      "Modified String : HelloWorld\n"
     ]
    }
   ],
   "source": [
    "# Answer 5\n",
    "\n",
    "string3=input(\"Enter the string:\")\n",
    "new_string=\"\"\n",
    "\n",
    "for current_character in string3:\n",
    "    if current_character==\" \":\n",
    "        new_string+=\"\"\n",
    "    else :\n",
    "        new_string+=current_character\n",
    "        \n",
    "print(\"Modified String :\",new_string)"
   ]
  }
 ],
 "metadata": {
  "kernelspec": {
   "display_name": "Python 3 (ipykernel)",
   "language": "python",
   "name": "python3"
  },
  "language_info": {
   "codemirror_mode": {
    "name": "ipython",
    "version": 3
   },
   "file_extension": ".py",
   "mimetype": "text/x-python",
   "name": "python",
   "nbconvert_exporter": "python",
   "pygments_lexer": "ipython3",
   "version": "3.10.8"
  }
 },
 "nbformat": 4,
 "nbformat_minor": 5
}
